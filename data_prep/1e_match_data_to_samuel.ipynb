{
 "cells": [
  {
   "cell_type": "markdown",
   "id": "4216d9dd-2532-4b6d-9ed2-5d952e2cd9f8",
   "metadata": {},
   "source": [
    "# Match data to SAMueL-2 teams\n",
    "\n",
    "Only keep the data that matches teams used in the SAMuel-2 project. This will mean keeping only the acute stroke units."
   ]
  },
  {
   "cell_type": "code",
   "execution_count": 1,
   "id": "9dfc76b2-ed0c-4fdc-a3f0-b533b087ae4a",
   "metadata": {},
   "outputs": [],
   "source": [
    "import os\n",
    "import pandas as pd\n",
    "import numpy as np  # for NaN"
   ]
  },
  {
   "cell_type": "markdown",
   "id": "236d85eb-b979-4f75-b6c6-16946f42d126",
   "metadata": {},
   "source": [
    "### Import data"
   ]
  },
  {
   "cell_type": "code",
   "execution_count": 2,
   "id": "b3661e52-18f9-48a1-af0e-70ab08bf5b56",
   "metadata": {},
   "outputs": [],
   "source": [
    "dir_files = '../data/organisational_audit/processed'\n",
    "file_excel = 'processed_2019_portfolio_key_indicators_summary_numeric.csv'"
   ]
  },
  {
   "cell_type": "code",
   "execution_count": 3,
   "id": "8299aee6-a00b-4b2b-bfc7-3c1ef8913419",
   "metadata": {},
   "outputs": [],
   "source": [
    "df = pd.read_csv(os.path.join(dir_files, file_excel))"
   ]
  },
  {
   "cell_type": "code",
   "execution_count": 4,
   "id": "2b3f373c-afe4-41c2-af39-89bd8218b866",
   "metadata": {},
   "outputs": [
    {
     "data": {
      "text/html": [
       "<div>\n",
       "<style scoped>\n",
       "    .dataframe tbody tr th:only-of-type {\n",
       "        vertical-align: middle;\n",
       "    }\n",
       "\n",
       "    .dataframe tbody tr th {\n",
       "        vertical-align: top;\n",
       "    }\n",
       "\n",
       "    .dataframe thead th {\n",
       "        text-align: right;\n",
       "    }\n",
       "</style>\n",
       "<table border=\"1\" class=\"dataframe\">\n",
       "  <thead>\n",
       "    <tr style=\"text-align: right;\">\n",
       "      <th></th>\n",
       "      <th>Hospital names</th>\n",
       "      <th>acute_unit</th>\n",
       "      <th>bed1</th>\n",
       "      <th>bed3</th>\n",
       "      <th>ki_total</th>\n",
       "      <th>ki1</th>\n",
       "      <th>ki1_nurses6_wte</th>\n",
       "      <th>ki1_nurses7_wte</th>\n",
       "      <th>ki2</th>\n",
       "      <th>ki2_psych_wte</th>\n",
       "      <th>...</th>\n",
       "      <th>ki9_tia_outpatient_timescale_nextweekday</th>\n",
       "      <th>ki9_tia_outpatient_timescale_sameday</th>\n",
       "      <th>ki9_tia_outpatient_timescale_samedayexcludingweekends</th>\n",
       "      <th>ki9_tia_outpatient_timescale_withinmonth</th>\n",
       "      <th>ki9_tia_outpatient_timescale_withinweek</th>\n",
       "      <th>ki9_tia_outpatients_seen</th>\n",
       "      <th>ki10</th>\n",
       "      <th>ki10_management_chairmanofclinicalgovernance</th>\n",
       "      <th>ki10_management_executiveonboard</th>\n",
       "      <th>ki10_management_nonexecutiveonboard</th>\n",
       "    </tr>\n",
       "  </thead>\n",
       "  <tbody>\n",
       "    <tr>\n",
       "      <th>0</th>\n",
       "      <td>Queens Hospital Romford HASU</td>\n",
       "      <td>1.0</td>\n",
       "      <td>1.0</td>\n",
       "      <td>0.0</td>\n",
       "      <td>6.0</td>\n",
       "      <td>1</td>\n",
       "      <td>2.73</td>\n",
       "      <td>1.14</td>\n",
       "      <td>0</td>\n",
       "      <td>0.48</td>\n",
       "      <td>...</td>\n",
       "      <td>0</td>\n",
       "      <td>1</td>\n",
       "      <td>0</td>\n",
       "      <td>0</td>\n",
       "      <td>0</td>\n",
       "      <td>1</td>\n",
       "      <td>1</td>\n",
       "      <td>1</td>\n",
       "      <td>1</td>\n",
       "      <td>1</td>\n",
       "    </tr>\n",
       "    <tr>\n",
       "      <th>1</th>\n",
       "      <td>Newham General Hospital</td>\n",
       "      <td>0.0</td>\n",
       "      <td>1.0</td>\n",
       "      <td>0.0</td>\n",
       "      <td>6.0</td>\n",
       "      <td>1</td>\n",
       "      <td>1.54</td>\n",
       "      <td>1.54</td>\n",
       "      <td>0</td>\n",
       "      <td>0.00</td>\n",
       "      <td>...</td>\n",
       "      <td>0</td>\n",
       "      <td>0</td>\n",
       "      <td>1</td>\n",
       "      <td>0</td>\n",
       "      <td>0</td>\n",
       "      <td>1</td>\n",
       "      <td>0</td>\n",
       "      <td>0</td>\n",
       "      <td>0</td>\n",
       "      <td>0</td>\n",
       "    </tr>\n",
       "    <tr>\n",
       "      <th>2</th>\n",
       "      <td>Royal London Hospital HASU</td>\n",
       "      <td>1.0</td>\n",
       "      <td>1.0</td>\n",
       "      <td>0.0</td>\n",
       "      <td>5.0</td>\n",
       "      <td>1</td>\n",
       "      <td>2.85</td>\n",
       "      <td>0.38</td>\n",
       "      <td>0</td>\n",
       "      <td>0.23</td>\n",
       "      <td>...</td>\n",
       "      <td>0</td>\n",
       "      <td>0</td>\n",
       "      <td>1</td>\n",
       "      <td>0</td>\n",
       "      <td>0</td>\n",
       "      <td>1</td>\n",
       "      <td>0</td>\n",
       "      <td>0</td>\n",
       "      <td>0</td>\n",
       "      <td>0</td>\n",
       "    </tr>\n",
       "  </tbody>\n",
       "</table>\n",
       "<p>3 rows × 68 columns</p>\n",
       "</div>"
      ],
      "text/plain": [
       "                 Hospital names  acute_unit  bed1  bed3  ki_total  ki1  \\\n",
       "0  Queens Hospital Romford HASU         1.0   1.0   0.0       6.0    1   \n",
       "1       Newham General Hospital         0.0   1.0   0.0       6.0    1   \n",
       "2    Royal London Hospital HASU         1.0   1.0   0.0       5.0    1   \n",
       "\n",
       "   ki1_nurses6_wte  ki1_nurses7_wte  ki2  ki2_psych_wte  ...  \\\n",
       "0             2.73             1.14    0           0.48  ...   \n",
       "1             1.54             1.54    0           0.00  ...   \n",
       "2             2.85             0.38    0           0.23  ...   \n",
       "\n",
       "   ki9_tia_outpatient_timescale_nextweekday  \\\n",
       "0                                         0   \n",
       "1                                         0   \n",
       "2                                         0   \n",
       "\n",
       "   ki9_tia_outpatient_timescale_sameday  \\\n",
       "0                                     1   \n",
       "1                                     0   \n",
       "2                                     0   \n",
       "\n",
       "   ki9_tia_outpatient_timescale_samedayexcludingweekends  \\\n",
       "0                                                  0       \n",
       "1                                                  1       \n",
       "2                                                  1       \n",
       "\n",
       "   ki9_tia_outpatient_timescale_withinmonth  \\\n",
       "0                                         0   \n",
       "1                                         0   \n",
       "2                                         0   \n",
       "\n",
       "   ki9_tia_outpatient_timescale_withinweek  ki9_tia_outpatients_seen  ki10  \\\n",
       "0                                        0                         1     1   \n",
       "1                                        0                         1     0   \n",
       "2                                        0                         1     0   \n",
       "\n",
       "   ki10_management_chairmanofclinicalgovernance  \\\n",
       "0                                             1   \n",
       "1                                             0   \n",
       "2                                             0   \n",
       "\n",
       "   ki10_management_executiveonboard  ki10_management_nonexecutiveonboard  \n",
       "0                                 1                                    1  \n",
       "1                                 0                                    0  \n",
       "2                                 0                                    0  \n",
       "\n",
       "[3 rows x 68 columns]"
      ]
     },
     "execution_count": 4,
     "metadata": {},
     "output_type": "execute_result"
    }
   ],
   "source": [
    "df.head(3)"
   ]
  },
  {
   "cell_type": "markdown",
   "id": "99db7c81-71ea-48b5-9051-0d66ffdee86a",
   "metadata": {},
   "source": [
    "Hospital name lookup"
   ]
  },
  {
   "cell_type": "code",
   "execution_count": 5,
   "id": "8a9798fc-125d-4b1b-a3bc-fbb21163d0f9",
   "metadata": {},
   "outputs": [],
   "source": [
    "dir_files = '../data/organisational_audit/processed'\n",
    "file_excel = 'hospital_names_trusts.csv'"
   ]
  },
  {
   "cell_type": "code",
   "execution_count": 6,
   "id": "5408f5d4-7370-4c63-a530-941c543ce61a",
   "metadata": {},
   "outputs": [],
   "source": [
    "df_team_names = pd.read_csv(os.path.join(dir_files, file_excel))"
   ]
  },
  {
   "cell_type": "code",
   "execution_count": 7,
   "id": "0f25c317-b0d8-42a4-a69d-bdce952c9dd1",
   "metadata": {},
   "outputs": [
    {
     "data": {
      "text/html": [
       "<div>\n",
       "<style scoped>\n",
       "    .dataframe tbody tr th:only-of-type {\n",
       "        vertical-align: middle;\n",
       "    }\n",
       "\n",
       "    .dataframe tbody tr th {\n",
       "        vertical-align: top;\n",
       "    }\n",
       "\n",
       "    .dataframe thead th {\n",
       "        text-align: right;\n",
       "    }\n",
       "</style>\n",
       "<table border=\"1\" class=\"dataframe\">\n",
       "  <thead>\n",
       "    <tr style=\"text-align: right;\">\n",
       "      <th></th>\n",
       "      <th>hospital_name_1</th>\n",
       "      <th>hospital_name_2</th>\n",
       "      <th>hospital_name_3</th>\n",
       "      <th>scn</th>\n",
       "      <th>trust</th>\n",
       "      <th>site_name</th>\n",
       "    </tr>\n",
       "  </thead>\n",
       "  <tbody>\n",
       "    <tr>\n",
       "      <th>0</th>\n",
       "      <td>Queens Hospital Romford HASU</td>\n",
       "      <td>Queens Hospital Romford SU</td>\n",
       "      <td>NaN</td>\n",
       "      <td>London</td>\n",
       "      <td>Barking, Havering and Redbridge University Hos...</td>\n",
       "      <td>Barking, Havering and Redbridge University Hos...</td>\n",
       "    </tr>\n",
       "    <tr>\n",
       "      <th>1</th>\n",
       "      <td>Newham General Hospital</td>\n",
       "      <td>NaN</td>\n",
       "      <td>NaN</td>\n",
       "      <td>London</td>\n",
       "      <td>Barts Health NHS Trust</td>\n",
       "      <td>Barts Health NHS Trust (Newham University Hosp...</td>\n",
       "    </tr>\n",
       "    <tr>\n",
       "      <th>2</th>\n",
       "      <td>Royal London Hospital HASU</td>\n",
       "      <td>Royal London Hospital SU</td>\n",
       "      <td>NaN</td>\n",
       "      <td>London</td>\n",
       "      <td>Barts Health NHS Trust</td>\n",
       "      <td>Barts Health NHS Trust (Royal London Hospital)</td>\n",
       "    </tr>\n",
       "    <tr>\n",
       "      <th>3</th>\n",
       "      <td>Whipps Cross University Hospital</td>\n",
       "      <td>NaN</td>\n",
       "      <td>NaN</td>\n",
       "      <td>London</td>\n",
       "      <td>Barts Health NHS Trust</td>\n",
       "      <td>Barts Health NHS Trust (Whipps Cross Universit...</td>\n",
       "    </tr>\n",
       "    <tr>\n",
       "      <th>4</th>\n",
       "      <td>Charing Cross Hospital HASU</td>\n",
       "      <td>Charing Cross Hospital SU</td>\n",
       "      <td>NaN</td>\n",
       "      <td>London</td>\n",
       "      <td>Imperial College Healthcare NHS Trust</td>\n",
       "      <td>Imperial College Healthcare NHS Trust</td>\n",
       "    </tr>\n",
       "    <tr>\n",
       "      <th>...</th>\n",
       "      <td>...</td>\n",
       "      <td>...</td>\n",
       "      <td>...</td>\n",
       "      <td>...</td>\n",
       "      <td>...</td>\n",
       "      <td>...</td>\n",
       "    </tr>\n",
       "    <tr>\n",
       "      <th>166</th>\n",
       "      <td>Altnagelvin Hospital</td>\n",
       "      <td>NaN</td>\n",
       "      <td>NaN</td>\n",
       "      <td>Northern Ireland</td>\n",
       "      <td>Western Health and Social Care Trust</td>\n",
       "      <td>Western Health and Social Care Trust (Altnagel...</td>\n",
       "    </tr>\n",
       "    <tr>\n",
       "      <th>167</th>\n",
       "      <td>South West Acute Hospital</td>\n",
       "      <td>NaN</td>\n",
       "      <td>NaN</td>\n",
       "      <td>Northern Ireland</td>\n",
       "      <td>Western Health and Social Care Trust</td>\n",
       "      <td>Western Health and Social Care Trust (South We...</td>\n",
       "    </tr>\n",
       "    <tr>\n",
       "      <th>168</th>\n",
       "      <td>Noble's Hospital</td>\n",
       "      <td>NaN</td>\n",
       "      <td>NaN</td>\n",
       "      <td>Islands</td>\n",
       "      <td>Isle of Man Department of Health and Social Care</td>\n",
       "      <td>Isle of Man Department of Health and Social Care</td>\n",
       "    </tr>\n",
       "    <tr>\n",
       "      <th>169</th>\n",
       "      <td>Walton Centre Stroke Team</td>\n",
       "      <td>NaN</td>\n",
       "      <td>NaN</td>\n",
       "      <td>North West Coast</td>\n",
       "      <td>Walton Centre NHS Foundation Trust</td>\n",
       "      <td>Walton Centre NHS Foundation Trust</td>\n",
       "    </tr>\n",
       "    <tr>\n",
       "      <th>170</th>\n",
       "      <td>Queen's Medical Centre - Nottingham</td>\n",
       "      <td>NaN</td>\n",
       "      <td>NaN</td>\n",
       "      <td>East Midlands</td>\n",
       "      <td>Nottingham University Hospitals NHS Trust</td>\n",
       "      <td>Nottingham University Hospitals NHS Trust (Que...</td>\n",
       "    </tr>\n",
       "  </tbody>\n",
       "</table>\n",
       "<p>171 rows × 6 columns</p>\n",
       "</div>"
      ],
      "text/plain": [
       "                         hospital_name_1             hospital_name_2  \\\n",
       "0           Queens Hospital Romford HASU  Queens Hospital Romford SU   \n",
       "1                Newham General Hospital                         NaN   \n",
       "2             Royal London Hospital HASU    Royal London Hospital SU   \n",
       "3       Whipps Cross University Hospital                         NaN   \n",
       "4            Charing Cross Hospital HASU   Charing Cross Hospital SU   \n",
       "..                                   ...                         ...   \n",
       "166                 Altnagelvin Hospital                         NaN   \n",
       "167            South West Acute Hospital                         NaN   \n",
       "168                     Noble's Hospital                         NaN   \n",
       "169            Walton Centre Stroke Team                         NaN   \n",
       "170  Queen's Medical Centre - Nottingham                         NaN   \n",
       "\n",
       "    hospital_name_3               scn  \\\n",
       "0               NaN            London   \n",
       "1               NaN            London   \n",
       "2               NaN            London   \n",
       "3               NaN            London   \n",
       "4               NaN            London   \n",
       "..              ...               ...   \n",
       "166             NaN  Northern Ireland   \n",
       "167             NaN  Northern Ireland   \n",
       "168             NaN           Islands   \n",
       "169             NaN  North West Coast   \n",
       "170             NaN     East Midlands   \n",
       "\n",
       "                                                 trust  \\\n",
       "0    Barking, Havering and Redbridge University Hos...   \n",
       "1                               Barts Health NHS Trust   \n",
       "2                               Barts Health NHS Trust   \n",
       "3                               Barts Health NHS Trust   \n",
       "4                Imperial College Healthcare NHS Trust   \n",
       "..                                                 ...   \n",
       "166               Western Health and Social Care Trust   \n",
       "167               Western Health and Social Care Trust   \n",
       "168   Isle of Man Department of Health and Social Care   \n",
       "169                 Walton Centre NHS Foundation Trust   \n",
       "170          Nottingham University Hospitals NHS Trust   \n",
       "\n",
       "                                             site_name  \n",
       "0    Barking, Havering and Redbridge University Hos...  \n",
       "1    Barts Health NHS Trust (Newham University Hosp...  \n",
       "2       Barts Health NHS Trust (Royal London Hospital)  \n",
       "3    Barts Health NHS Trust (Whipps Cross Universit...  \n",
       "4                Imperial College Healthcare NHS Trust  \n",
       "..                                                 ...  \n",
       "166  Western Health and Social Care Trust (Altnagel...  \n",
       "167  Western Health and Social Care Trust (South We...  \n",
       "168   Isle of Man Department of Health and Social Care  \n",
       "169                 Walton Centre NHS Foundation Trust  \n",
       "170  Nottingham University Hospitals NHS Trust (Que...  \n",
       "\n",
       "[171 rows x 6 columns]"
      ]
     },
     "execution_count": 7,
     "metadata": {},
     "output_type": "execute_result"
    }
   ],
   "source": [
    "df_team_names"
   ]
  },
  {
   "cell_type": "markdown",
   "id": "72b08431-6ba5-4e5c-88c7-7ae47fd26d32",
   "metadata": {},
   "source": [
    "SAMueL-2 results - anonymised SHAP values"
   ]
  },
  {
   "cell_type": "code",
   "execution_count": 8,
   "id": "e79fe915-b4b8-4a90-ae91-25be15f7de80",
   "metadata": {},
   "outputs": [],
   "source": [
    "dir_files = '../data_samuel2/'\n",
    "file_excel = 'benchmark_codes.csv'"
   ]
  },
  {
   "cell_type": "code",
   "execution_count": 9,
   "id": "11d71707-6cc4-430d-8b78-f55dec336324",
   "metadata": {},
   "outputs": [],
   "source": [
    "df_shap = pd.read_csv(os.path.join(dir_files, file_excel))"
   ]
  },
  {
   "cell_type": "code",
   "execution_count": 10,
   "id": "613f7a5b-c4d7-464b-96ab-3c03571f8f0b",
   "metadata": {},
   "outputs": [
    {
     "data": {
      "text/html": [
       "<div>\n",
       "<style scoped>\n",
       "    .dataframe tbody tr th:only-of-type {\n",
       "        vertical-align: middle;\n",
       "    }\n",
       "\n",
       "    .dataframe tbody tr th {\n",
       "        vertical-align: top;\n",
       "    }\n",
       "\n",
       "    .dataframe thead th {\n",
       "        text-align: right;\n",
       "    }\n",
       "</style>\n",
       "<table border=\"1\" class=\"dataframe\">\n",
       "  <thead>\n",
       "    <tr style=\"text-align: right;\">\n",
       "      <th></th>\n",
       "      <th>stroke_team_id</th>\n",
       "      <th>shap_mean</th>\n",
       "      <th>Rank</th>\n",
       "    </tr>\n",
       "  </thead>\n",
       "  <tbody>\n",
       "    <tr>\n",
       "      <th>0</th>\n",
       "      <td>102</td>\n",
       "      <td>1.341623</td>\n",
       "      <td>1</td>\n",
       "    </tr>\n",
       "    <tr>\n",
       "      <th>1</th>\n",
       "      <td>72</td>\n",
       "      <td>1.111925</td>\n",
       "      <td>2</td>\n",
       "    </tr>\n",
       "    <tr>\n",
       "      <th>2</th>\n",
       "      <td>8</td>\n",
       "      <td>0.997945</td>\n",
       "      <td>3</td>\n",
       "    </tr>\n",
       "    <tr>\n",
       "      <th>3</th>\n",
       "      <td>71</td>\n",
       "      <td>0.949360</td>\n",
       "      <td>4</td>\n",
       "    </tr>\n",
       "    <tr>\n",
       "      <th>4</th>\n",
       "      <td>37</td>\n",
       "      <td>0.905034</td>\n",
       "      <td>5</td>\n",
       "    </tr>\n",
       "    <tr>\n",
       "      <th>...</th>\n",
       "      <td>...</td>\n",
       "      <td>...</td>\n",
       "      <td>...</td>\n",
       "    </tr>\n",
       "    <tr>\n",
       "      <th>114</th>\n",
       "      <td>117</td>\n",
       "      <td>-0.688748</td>\n",
       "      <td>115</td>\n",
       "    </tr>\n",
       "    <tr>\n",
       "      <th>115</th>\n",
       "      <td>58</td>\n",
       "      <td>-0.820926</td>\n",
       "      <td>116</td>\n",
       "    </tr>\n",
       "    <tr>\n",
       "      <th>116</th>\n",
       "      <td>65</td>\n",
       "      <td>-0.832516</td>\n",
       "      <td>117</td>\n",
       "    </tr>\n",
       "    <tr>\n",
       "      <th>117</th>\n",
       "      <td>26</td>\n",
       "      <td>-1.062729</td>\n",
       "      <td>118</td>\n",
       "    </tr>\n",
       "    <tr>\n",
       "      <th>118</th>\n",
       "      <td>4</td>\n",
       "      <td>-1.233141</td>\n",
       "      <td>119</td>\n",
       "    </tr>\n",
       "  </tbody>\n",
       "</table>\n",
       "<p>119 rows × 3 columns</p>\n",
       "</div>"
      ],
      "text/plain": [
       "     stroke_team_id  shap_mean  Rank\n",
       "0               102   1.341623     1\n",
       "1                72   1.111925     2\n",
       "2                 8   0.997945     3\n",
       "3                71   0.949360     4\n",
       "4                37   0.905034     5\n",
       "..              ...        ...   ...\n",
       "114             117  -0.688748   115\n",
       "115              58  -0.820926   116\n",
       "116              65  -0.832516   117\n",
       "117              26  -1.062729   118\n",
       "118               4  -1.233141   119\n",
       "\n",
       "[119 rows x 3 columns]"
      ]
     },
     "execution_count": 10,
     "metadata": {},
     "output_type": "execute_result"
    }
   ],
   "source": [
    "df_shap"
   ]
  },
  {
   "cell_type": "markdown",
   "id": "13ed069a-ba4a-4909-8691-de9bbb370a50",
   "metadata": {},
   "source": [
    "SAMueL-2 results - link anonymised SHAP names to real names"
   ]
  },
  {
   "cell_type": "code",
   "execution_count": 11,
   "id": "3f5e0a78-5729-4cff-90ca-1e23431a1b90",
   "metadata": {},
   "outputs": [],
   "source": [
    "dir_files = '../data_samuel2/'\n",
    "file_excel = 'team_code.csv'"
   ]
  },
  {
   "cell_type": "code",
   "execution_count": 12,
   "id": "874da538-581f-4ba0-b4c4-a70c1bfc14ea",
   "metadata": {},
   "outputs": [],
   "source": [
    "df_codes = pd.read_csv(os.path.join(dir_files, file_excel))"
   ]
  },
  {
   "cell_type": "code",
   "execution_count": 13,
   "id": "de5a0ab9-fc83-43ab-a207-a0af4bb3b6a6",
   "metadata": {},
   "outputs": [
    {
     "data": {
      "text/plain": [
       "Index(['stroke_team', 'team_code'], dtype='object')"
      ]
     },
     "execution_count": 13,
     "metadata": {},
     "output_type": "execute_result"
    }
   ],
   "source": [
    "df_codes.columns"
   ]
  },
  {
   "cell_type": "code",
   "execution_count": 14,
   "id": "5c06acd5-0a6b-4156-9255-7dc4f1a2387c",
   "metadata": {},
   "outputs": [
    {
     "data": {
      "text/plain": [
       "RangeIndex(start=0, stop=119, step=1)"
      ]
     },
     "execution_count": 14,
     "metadata": {},
     "output_type": "execute_result"
    }
   ],
   "source": [
    "df_codes.index"
   ]
  },
  {
   "cell_type": "code",
   "execution_count": 15,
   "id": "10eb15b8-504f-47c4-b9a6-a3bb4181df3f",
   "metadata": {},
   "outputs": [],
   "source": [
    "df_codes = df_codes.rename(columns={'team_code': 'stroke_team_id'})"
   ]
  },
  {
   "cell_type": "markdown",
   "id": "27b7a8c6-db85-448e-a192-9cd4c938bbee",
   "metadata": {},
   "source": [
    "## Remove unwanted data\n",
    "\n",
    "Several rows under Key Indicator 3 are not mentioned in the matching report and don't seem to be important. They were used as a sanity check that Key Indicator 3 was actually met and that people haven't just answered \"yes\" to having out-of-hours nurses when the rest of the numbers don't back that up. They don't seem to belong with the final data."
   ]
  },
  {
   "cell_type": "code",
   "execution_count": 16,
   "id": "18eaaaec-b8ce-45dd-8680-3a99279d3c31",
   "metadata": {},
   "outputs": [],
   "source": [
    "cols_to_remove = [\n",
    "    'ki3_strokenurse_bed1_weekdays10pm',\n",
    "    'ki3_strokenurse_bed1_saturdays',\n",
    "    'ki3_strokenurse_bed1_saturdays10pm',\n",
    "    'ki3_strokenurse_bed1_sundays',\n",
    "    'ki3_strokenurse_bed1_sundays10pm',\n",
    "    'ki3_strokenurse_bed3_weekdays10pm',\n",
    "    'ki3_strokenurse_bed3_saturdays',\n",
    "    'ki3_strokenurse_bed3_saturdays10pm',\n",
    "    'ki3_strokenurse_bed3_sundays',\n",
    "    'ki3_strokenurse_bed3_sundays10pm',\n",
    "]\n",
    "\n",
    "df = df.drop(cols_to_remove, axis='columns')"
   ]
  },
  {
   "cell_type": "markdown",
   "id": "e6c29905-14ad-402d-8a51-39e0b32e31e3",
   "metadata": {},
   "source": [
    "## Keep only wanted teams"
   ]
  },
  {
   "cell_type": "code",
   "execution_count": 17,
   "id": "5d6600b4-3477-44c5-8596-275e9bf904ec",
   "metadata": {},
   "outputs": [],
   "source": [
    "teams_to_keep = df_codes['stroke_team'].values\n",
    "teams_to_keep = sorted(teams_to_keep)"
   ]
  },
  {
   "cell_type": "markdown",
   "id": "ed73ee4e-9c42-4bd6-b125-9b257f6b703f",
   "metadata": {},
   "source": [
    "Find their names in the main dataframe (some hospitals have multiple names and there's no chance they'll all match):"
   ]
  },
  {
   "cell_type": "code",
   "execution_count": 18,
   "id": "7fc30c76-4613-45db-844c-61a7da2930f9",
   "metadata": {},
   "outputs": [],
   "source": [
    "def find_main_hospital_name(\n",
    "        df_hospital_names: 'pd.DataFrame',\n",
    "        name_to_look_up: 'str',\n",
    "        column_main_name: 'str'='hospital_name_1'\n",
    "        ):\n",
    "    # df of True/False for name matches the name_to_look_up:\n",
    "    df_bool = df_hospital_names.eq(name_to_look_up)\n",
    "    # series of True/False, one for each row in the dataframe,\n",
    "    # and the row is True when any value in the row in df_bool is True.\n",
    "    series_bool = df_bool.any(axis='columns')\n",
    "    # Use that series as a mask to pick out only the right row,\n",
    "    # then pick out the value in that row and the right column:\n",
    "    main_hospital_name = df_hospital_names.loc[series_bool, column_main_name]\n",
    "    try:\n",
    "        main_hospital_name = main_hospital_name.values[0]\n",
    "    except IndexError:\n",
    "        main_hospital_name = '?'\n",
    "    return main_hospital_name"
   ]
  },
  {
   "cell_type": "code",
   "execution_count": 19,
   "id": "00fa61d3-181e-4b77-aea1-83dcee311cbd",
   "metadata": {},
   "outputs": [],
   "source": [
    "teams_to_keep_current_names = []\n",
    "\n",
    "for team in teams_to_keep:\n",
    "    team_current_name = find_main_hospital_name(df_team_names, team)\n",
    "    teams_to_keep_current_names.append(team_current_name)"
   ]
  },
  {
   "cell_type": "code",
   "execution_count": 20,
   "id": "7f22a431-277e-4273-a633-4fd966177c7b",
   "metadata": {},
   "outputs": [],
   "source": [
    "df_team_lookup = pd.DataFrame(\n",
    "    np.array([teams_to_keep, teams_to_keep_current_names]).T,\n",
    "    columns=['team_samuel', 'team_audit']\n",
    ")"
   ]
  },
  {
   "cell_type": "code",
   "execution_count": 21,
   "id": "55f34788-c63c-4224-98b2-9701cbd3cce8",
   "metadata": {},
   "outputs": [
    {
     "data": {
      "text/html": [
       "<div>\n",
       "<style scoped>\n",
       "    .dataframe tbody tr th:only-of-type {\n",
       "        vertical-align: middle;\n",
       "    }\n",
       "\n",
       "    .dataframe tbody tr th {\n",
       "        vertical-align: top;\n",
       "    }\n",
       "\n",
       "    .dataframe thead th {\n",
       "        text-align: right;\n",
       "    }\n",
       "</style>\n",
       "<table border=\"1\" class=\"dataframe\">\n",
       "  <thead>\n",
       "    <tr style=\"text-align: right;\">\n",
       "      <th></th>\n",
       "      <th>team_samuel</th>\n",
       "      <th>team_audit</th>\n",
       "    </tr>\n",
       "  </thead>\n",
       "  <tbody>\n",
       "    <tr>\n",
       "      <th>24</th>\n",
       "      <td>Grange University Hospital</td>\n",
       "      <td>?</td>\n",
       "    </tr>\n",
       "    <tr>\n",
       "      <th>28</th>\n",
       "      <td>Invicta Ward Kent and Canterbury Hospital</td>\n",
       "      <td>?</td>\n",
       "    </tr>\n",
       "    <tr>\n",
       "      <th>102</th>\n",
       "      <td>University Hospitals Dorset Stroke Service</td>\n",
       "      <td>?</td>\n",
       "    </tr>\n",
       "    <tr>\n",
       "      <th>111</th>\n",
       "      <td>Wirral Arrowe Park Hospital</td>\n",
       "      <td>?</td>\n",
       "    </tr>\n",
       "  </tbody>\n",
       "</table>\n",
       "</div>"
      ],
      "text/plain": [
       "                                    team_samuel team_audit\n",
       "24                   Grange University Hospital          ?\n",
       "28    Invicta Ward Kent and Canterbury Hospital          ?\n",
       "102  University Hospitals Dorset Stroke Service          ?\n",
       "111                 Wirral Arrowe Park Hospital          ?"
      ]
     },
     "execution_count": 21,
     "metadata": {},
     "output_type": "execute_result"
    }
   ],
   "source": [
    "df_team_lookup[df_team_lookup['team_audit'] != df_team_lookup['team_samuel']]"
   ]
  },
  {
   "cell_type": "markdown",
   "id": "cee1827f-2046-44a8-8cbe-4b6bb75fb50e",
   "metadata": {},
   "source": [
    "Manually update the missing team names"
   ]
  },
  {
   "cell_type": "code",
   "execution_count": 22,
   "id": "1ffe30de-afc2-4f90-b62a-80db587fd854",
   "metadata": {},
   "outputs": [],
   "source": [
    "manual_names = {\n",
    "    'Wirral Arrowe Park Hospital': 'Arrowe Park Hospital',\n",
    "    'Invicta Ward Kent and Canterbury Hospital': '?',  # This doesn't seem to be in the 2019 audit data.\n",
    "    'Grange University Hospital': '?',\n",
    "    'University Hospitals Dorset Stroke Service': 'Poole Hospital',\n",
    "}"
   ]
  },
  {
   "cell_type": "code",
   "execution_count": 23,
   "id": "22b09e34-2a27-4889-9b0e-c28eed59caa0",
   "metadata": {},
   "outputs": [],
   "source": [
    "for name_samuel, name_audit in manual_names.items():\n",
    "    mask = df_team_lookup['team_samuel'] == name_samuel\n",
    "    df_team_lookup.loc[mask, 'team_audit'] = name_audit"
   ]
  },
  {
   "cell_type": "code",
   "execution_count": 24,
   "id": "16b96a2b-d7b6-4c22-91d9-7c5b4c0b7d7f",
   "metadata": {},
   "outputs": [
    {
     "data": {
      "text/html": [
       "<div>\n",
       "<style scoped>\n",
       "    .dataframe tbody tr th:only-of-type {\n",
       "        vertical-align: middle;\n",
       "    }\n",
       "\n",
       "    .dataframe tbody tr th {\n",
       "        vertical-align: top;\n",
       "    }\n",
       "\n",
       "    .dataframe thead th {\n",
       "        text-align: right;\n",
       "    }\n",
       "</style>\n",
       "<table border=\"1\" class=\"dataframe\">\n",
       "  <thead>\n",
       "    <tr style=\"text-align: right;\">\n",
       "      <th></th>\n",
       "      <th>team_samuel</th>\n",
       "      <th>team_audit</th>\n",
       "    </tr>\n",
       "  </thead>\n",
       "  <tbody>\n",
       "    <tr>\n",
       "      <th>24</th>\n",
       "      <td>Grange University Hospital</td>\n",
       "      <td>?</td>\n",
       "    </tr>\n",
       "    <tr>\n",
       "      <th>28</th>\n",
       "      <td>Invicta Ward Kent and Canterbury Hospital</td>\n",
       "      <td>?</td>\n",
       "    </tr>\n",
       "    <tr>\n",
       "      <th>102</th>\n",
       "      <td>University Hospitals Dorset Stroke Service</td>\n",
       "      <td>Poole Hospital</td>\n",
       "    </tr>\n",
       "    <tr>\n",
       "      <th>111</th>\n",
       "      <td>Wirral Arrowe Park Hospital</td>\n",
       "      <td>Arrowe Park Hospital</td>\n",
       "    </tr>\n",
       "  </tbody>\n",
       "</table>\n",
       "</div>"
      ],
      "text/plain": [
       "                                    team_samuel            team_audit\n",
       "24                   Grange University Hospital                     ?\n",
       "28    Invicta Ward Kent and Canterbury Hospital                     ?\n",
       "102  University Hospitals Dorset Stroke Service        Poole Hospital\n",
       "111                 Wirral Arrowe Park Hospital  Arrowe Park Hospital"
      ]
     },
     "execution_count": 24,
     "metadata": {},
     "output_type": "execute_result"
    }
   ],
   "source": [
    "df_team_lookup[df_team_lookup['team_audit'] != df_team_lookup['team_samuel']]"
   ]
  },
  {
   "cell_type": "markdown",
   "id": "6b4c9bf2-703e-4e70-b702-769a5f53394d",
   "metadata": {},
   "source": [
    "Two of the teams don't seem to exist in the audit data so remove them."
   ]
  },
  {
   "cell_type": "code",
   "execution_count": 25,
   "id": "0303992d-5ab4-4120-8920-530d88bb0ab6",
   "metadata": {},
   "outputs": [],
   "source": [
    "mask = df_team_lookup['team_audit'] == '?'\n",
    "df_team_lookup = df_team_lookup.loc[~mask].copy()"
   ]
  },
  {
   "cell_type": "markdown",
   "id": "fff885f3-6f64-4eb0-b744-3fa4b7d00168",
   "metadata": {},
   "source": [
    "## Link stroke team names to their IDs"
   ]
  },
  {
   "cell_type": "code",
   "execution_count": 26,
   "id": "d6c51ac1-1d49-4d20-87c4-73c9421c5c74",
   "metadata": {},
   "outputs": [],
   "source": [
    "df_team_lookup = pd.merge(\n",
    "    df_team_lookup, df_codes,\n",
    "    left_on='team_samuel', right_on='stroke_team', how='left')\n",
    "df_team_lookup = df_team_lookup.drop('stroke_team', axis='columns')"
   ]
  },
  {
   "cell_type": "markdown",
   "id": "26e45155-d2fa-4916-84b9-b2a10ec57475",
   "metadata": {},
   "source": [
    "## Merge in SHAP values"
   ]
  },
  {
   "cell_type": "code",
   "execution_count": 27,
   "id": "d37ef068-08c9-4331-8ece-ae517dfc770c",
   "metadata": {},
   "outputs": [],
   "source": [
    "df_teams_shap = pd.merge(\n",
    "    df_team_lookup, df_shap,\n",
    "    left_on='stroke_team_id', right_on='stroke_team_id', how='left')"
   ]
  },
  {
   "cell_type": "markdown",
   "id": "95b7a0b7-d75c-4db3-9e2c-1e78a1bf831a",
   "metadata": {},
   "source": [
    "## Merge audit data and SHAP values"
   ]
  },
  {
   "cell_type": "code",
   "execution_count": 28,
   "id": "fdd7a6e7-dac1-42ba-906b-c9a02dd24afd",
   "metadata": {},
   "outputs": [],
   "source": [
    "df_audit_shap = pd.merge(\n",
    "    df, df_teams_shap,\n",
    "    left_on='Hospital names', right_on='team_audit', how='inner'\n",
    ")\n",
    "# 'inner' to only keep names in the SAMueL-2 data."
   ]
  },
  {
   "cell_type": "code",
   "execution_count": 29,
   "id": "de1712fd-c530-4a5c-ab9e-373c6693dfac",
   "metadata": {},
   "outputs": [],
   "source": [
    "df_audit_shap = df_audit_shap.drop('team_audit', axis='columns')"
   ]
  },
  {
   "cell_type": "code",
   "execution_count": 30,
   "id": "786accfa-b863-422c-a106-3acf0f1ef06c",
   "metadata": {},
   "outputs": [
    {
     "data": {
      "text/plain": [
       "Index(['Hospital names', 'acute_unit', 'bed1', 'bed3', 'ki_total', 'ki1',\n",
       "       'ki1_nurses6_wte', 'ki1_nurses7_wte', 'ki2', 'ki2_psych_wte', 'ki3',\n",
       "       'ki3_strokenurse_outofhours', 'ki4',\n",
       "       'ki4_minimum_nurse_bed1_saturdays10am',\n",
       "       'ki4_minimum_nurse_bed1_sundays10am',\n",
       "       'ki4_minimum_nurse_bed3_saturdays10am',\n",
       "       'ki4_minimum_nurse_bed3_sundays10am', 'ki5',\n",
       "       'ki5_occupationaltherapy_7days', 'ki5_physiotherapy_7days',\n",
       "       'ki5_speechlanguagetherapy_7days', 'ki6', 'ki6_prealert_consultant',\n",
       "       'ki6_prealert_fastpositive_sometimes', 'ki6_prealert_fastpositive_yes',\n",
       "       'ki6_prealert_ivtcandidates_sometimes',\n",
       "       'ki6_prealert_ivtcandidates_yes', 'ki6_prealert_juniordoctor',\n",
       "       'ki6_prealert_othersuspectedstroke_sometimes',\n",
       "       'ki6_prealert_othersuspectedstroke_yes', 'ki6_prealert_strokenurse',\n",
       "       'ki7', 'ki7_percent_access_to_stroke_esd_team', 'ki7_stroke_esd_team',\n",
       "       'ki8', 'ki8_patientcarersurvey_frequency_1to2peryear',\n",
       "       'ki8_patientcarersurvey_frequency_3to4peryear',\n",
       "       'ki8_patientcarersurvey_frequency_everypatient',\n",
       "       'ki8_patientcarersurvey_frequency_less1peryear',\n",
       "       'ki8_patientcarersurvey_frequency_more4peryear',\n",
       "       'ki8_patientcarersurvey_frequency_never', 'ki9',\n",
       "       'ki9_tia_brainimaging_mostused_ct', 'ki9_tia_brainimaging_mostused_mri',\n",
       "       'ki9_tia_brainimaging_mostused_rare', 'ki9_tia_clinic',\n",
       "       'ki9_tia_outpatient_timescale_aftermonth',\n",
       "       'ki9_tia_outpatient_timescale_nextday',\n",
       "       'ki9_tia_outpatient_timescale_nextweekday',\n",
       "       'ki9_tia_outpatient_timescale_sameday',\n",
       "       'ki9_tia_outpatient_timescale_samedayexcludingweekends',\n",
       "       'ki9_tia_outpatient_timescale_withinmonth',\n",
       "       'ki9_tia_outpatient_timescale_withinweek', 'ki9_tia_outpatients_seen',\n",
       "       'ki10', 'ki10_management_chairmanofclinicalgovernance',\n",
       "       'ki10_management_executiveonboard',\n",
       "       'ki10_management_nonexecutiveonboard', 'team_samuel', 'stroke_team_id',\n",
       "       'shap_mean', 'Rank'],\n",
       "      dtype='object')"
      ]
     },
     "execution_count": 30,
     "metadata": {},
     "output_type": "execute_result"
    }
   ],
   "source": [
    "df_audit_shap.columns"
   ]
  },
  {
   "cell_type": "markdown",
   "id": "925b2338-d1da-4645-a3b9-446947b12120",
   "metadata": {},
   "source": [
    "## Save merged file"
   ]
  },
  {
   "cell_type": "code",
   "execution_count": 31,
   "id": "9fb30541-c61e-43ab-ab3e-c05b47a7dd0a",
   "metadata": {},
   "outputs": [],
   "source": [
    "dir_files = '../data/organisational_audit/processed'\n",
    "df_audit_shap.to_csv(os.path.join(dir_files, 'processed_2019_portfolio_key_indicators_summary_numeric_shap.csv'), index=False)"
   ]
  }
 ],
 "metadata": {
  "kernelspec": {
   "display_name": "Python 3 (ipykernel)",
   "language": "python",
   "name": "python3"
  },
  "language_info": {
   "codemirror_mode": {
    "name": "ipython",
    "version": 3
   },
   "file_extension": ".py",
   "mimetype": "text/x-python",
   "name": "python",
   "nbconvert_exporter": "python",
   "pygments_lexer": "ipython3",
   "version": "3.9.16"
  }
 },
 "nbformat": 4,
 "nbformat_minor": 5
}
