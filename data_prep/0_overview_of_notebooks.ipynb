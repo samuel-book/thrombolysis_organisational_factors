{
 "cells": [
  {
   "cell_type": "markdown",
   "id": "2ef7667d-81a6-414f-8ef7-5348258966cd",
   "metadata": {},
   "source": [
    "# Overview of notebooks\n",
    "\n",
    "Section 1: data preparation\n",
    "\n",
    "| File name | Description | Output file(s) |\n",
    "| --- | --- | --- |\n",
    "| \"1a - Organisational audit rearrange\" | Import `2019-Portfolio.xlsx` and rearrange the column and row headings to be more useable. No loss of information. | `processed_2019_portfolio_key_indicators_summary_multiindex.csv` |\n",
    "| \"1b - Organisational audit rename\" | Change the MultiIndex column and index headings into a single name for easier use, and keep a copy of the lookup tables from the new names to the old MultiIndex headings. | Column header information: `hospital_names_trusts.csv`, row header information: `key_indicator_lookup.csv`, main data table: `processed_2019_portfolio_key_indicators_summary.csv`, summary national results data: `processed_2019_portfolio_key_indicators_summary_national.csv` |\n",
    "| \"1c - Organisational audit relabel data\" | Change data to only numerical values. For example, columns containing \"yes\" and \"no\" are changed to 1 and 0, and categorical data are changed to multiple columns with 1/0 for each. | `processed_2019_portfolio_key_indicators_summary_numeric.csv` |\n",
    "| \"1d - Recreate national results\" | Test that the numerical data can be used to recreate the \"national results\" data from the original table. | None. |\n",
    "| \"1e - Match data to SAMueL\" | Link the stroke units in the organisational audit to the units and their SHAP values from the SAMueL-2 machine learning results. Lose some non-acute stroke units that are not in the SAMueL-2 data. | `processed_2019_portfolio_key_indicators_summary_numeric_shap.csv` |\n",
    "| \"1f - Admissions\" | Link the stroke units with a relative number of admissions per year from the SAMueL-2 results. Lose the Welsh stroke units that have no admissions data in the file used. | `processed_2019_portfolio_key_indicators_summary_numeric_shap_admissions.csv` |\n",
    "\n"
   ]
  },
  {
   "cell_type": "markdown",
   "id": "304b3c8b-d4cd-44a3-a6a6-c7932611387b",
   "metadata": {},
   "source": [
    "Section 2: search for trends\n",
    "\n",
    "| File name | Description | Output file(s) |\n",
    "| --- | --- | --- |\n",
    "| \"2a - Descriptive stats\" | Various plots to show descriptive statistics of the processed data. | None |\n",
    "| \"2b - KI vs SHAP\" | Linking Key Indicator scores to SHAP values | None | \n",
    "| \"2c - Statsmodels | Linear regression with the `statsmodels` package | None | \n",
    "| \"2d - admissions | Checking for trends with admission numbers | None |"
   ]
  },
  {
   "cell_type": "code",
   "execution_count": null,
   "id": "378cb379-e49b-490a-8408-4192a7018618",
   "metadata": {},
   "outputs": [],
   "source": []
  }
 ],
 "metadata": {
  "kernelspec": {
   "display_name": "Python 3 (ipykernel)",
   "language": "python",
   "name": "python3"
  },
  "language_info": {
   "codemirror_mode": {
    "name": "ipython",
    "version": 3
   },
   "file_extension": ".py",
   "mimetype": "text/x-python",
   "name": "python",
   "nbconvert_exporter": "python",
   "pygments_lexer": "ipython3",
   "version": "3.9.16"
  }
 },
 "nbformat": 4,
 "nbformat_minor": 5
}
