{
 "cells": [
  {
   "cell_type": "markdown",
   "id": "b8d18629-1cd6-4083-bd16-d1ef7b2dd0f3",
   "metadata": {},
   "source": [
    "# Recreate national results from the new reduced summary data"
   ]
  },
  {
   "cell_type": "code",
   "execution_count": 1,
   "id": "ed93689f-876c-4710-80d7-f32ab9d7c54c",
   "metadata": {},
   "outputs": [],
   "source": [
    "import os\n",
    "import pandas as pd\n",
    "import numpy as np  # for NaN"
   ]
  },
  {
   "cell_type": "markdown",
   "id": "153604fc-5d6b-452a-9194-819f22e32c2c",
   "metadata": {},
   "source": [
    "### Import data"
   ]
  },
  {
   "cell_type": "code",
   "execution_count": 2,
   "id": "953e6d7f-4655-423d-b38e-400f8b486e38",
   "metadata": {},
   "outputs": [],
   "source": [
    "dir_files = '../data/organisational_audit/processed'\n",
    "file_excel = 'processed_2019_portfolio_key_indicators_summary_numeric.csv'"
   ]
  },
  {
   "cell_type": "code",
   "execution_count": 3,
   "id": "9a35c44e-caf3-4f95-ac13-c7324dcd0f35",
   "metadata": {},
   "outputs": [],
   "source": [
    "df = pd.read_csv(os.path.join(dir_files, file_excel), index_col=0)"
   ]
  },
  {
   "cell_type": "code",
   "execution_count": 4,
   "id": "78477252-bf7f-44c1-83cb-c92ea95c722b",
   "metadata": {},
   "outputs": [
    {
     "data": {
      "text/html": [
       "<div>\n",
       "<style scoped>\n",
       "    .dataframe tbody tr th:only-of-type {\n",
       "        vertical-align: middle;\n",
       "    }\n",
       "\n",
       "    .dataframe tbody tr th {\n",
       "        vertical-align: top;\n",
       "    }\n",
       "\n",
       "    .dataframe thead th {\n",
       "        text-align: right;\n",
       "    }\n",
       "</style>\n",
       "<table border=\"1\" class=\"dataframe\">\n",
       "  <thead>\n",
       "    <tr style=\"text-align: right;\">\n",
       "      <th></th>\n",
       "      <th>acute_unit</th>\n",
       "      <th>bed1</th>\n",
       "      <th>bed3</th>\n",
       "      <th>ki_total</th>\n",
       "      <th>ki1</th>\n",
       "      <th>ki1_nurses6_wte</th>\n",
       "      <th>ki1_nurses7_wte</th>\n",
       "      <th>ki2</th>\n",
       "      <th>ki2_psych_wte</th>\n",
       "      <th>ki3</th>\n",
       "      <th>...</th>\n",
       "      <th>ki9_tia_outpatient_timescale_nextweekday</th>\n",
       "      <th>ki9_tia_outpatient_timescale_sameday</th>\n",
       "      <th>ki9_tia_outpatient_timescale_samedayexcludingweekends</th>\n",
       "      <th>ki9_tia_outpatient_timescale_withinmonth</th>\n",
       "      <th>ki9_tia_outpatient_timescale_withinweek</th>\n",
       "      <th>ki9_tia_outpatients_seen</th>\n",
       "      <th>ki10</th>\n",
       "      <th>ki10_management_chairmanofclinicalgovernance</th>\n",
       "      <th>ki10_management_executiveonboard</th>\n",
       "      <th>ki10_management_nonexecutiveonboard</th>\n",
       "    </tr>\n",
       "    <tr>\n",
       "      <th>Hospital names</th>\n",
       "      <th></th>\n",
       "      <th></th>\n",
       "      <th></th>\n",
       "      <th></th>\n",
       "      <th></th>\n",
       "      <th></th>\n",
       "      <th></th>\n",
       "      <th></th>\n",
       "      <th></th>\n",
       "      <th></th>\n",
       "      <th></th>\n",
       "      <th></th>\n",
       "      <th></th>\n",
       "      <th></th>\n",
       "      <th></th>\n",
       "      <th></th>\n",
       "      <th></th>\n",
       "      <th></th>\n",
       "      <th></th>\n",
       "      <th></th>\n",
       "      <th></th>\n",
       "    </tr>\n",
       "  </thead>\n",
       "  <tbody>\n",
       "    <tr>\n",
       "      <th>Queens Hospital Romford HASU</th>\n",
       "      <td>1.0</td>\n",
       "      <td>1.0</td>\n",
       "      <td>0.0</td>\n",
       "      <td>6.0</td>\n",
       "      <td>1</td>\n",
       "      <td>2.73</td>\n",
       "      <td>1.14</td>\n",
       "      <td>0</td>\n",
       "      <td>0.48</td>\n",
       "      <td>1</td>\n",
       "      <td>...</td>\n",
       "      <td>0</td>\n",
       "      <td>1</td>\n",
       "      <td>0</td>\n",
       "      <td>0</td>\n",
       "      <td>0</td>\n",
       "      <td>1</td>\n",
       "      <td>1</td>\n",
       "      <td>1</td>\n",
       "      <td>1</td>\n",
       "      <td>1</td>\n",
       "    </tr>\n",
       "    <tr>\n",
       "      <th>Newham General Hospital</th>\n",
       "      <td>0.0</td>\n",
       "      <td>1.0</td>\n",
       "      <td>0.0</td>\n",
       "      <td>6.0</td>\n",
       "      <td>1</td>\n",
       "      <td>1.54</td>\n",
       "      <td>1.54</td>\n",
       "      <td>0</td>\n",
       "      <td>0.00</td>\n",
       "      <td>1</td>\n",
       "      <td>...</td>\n",
       "      <td>0</td>\n",
       "      <td>0</td>\n",
       "      <td>1</td>\n",
       "      <td>0</td>\n",
       "      <td>0</td>\n",
       "      <td>1</td>\n",
       "      <td>0</td>\n",
       "      <td>0</td>\n",
       "      <td>0</td>\n",
       "      <td>0</td>\n",
       "    </tr>\n",
       "    <tr>\n",
       "      <th>Royal London Hospital HASU</th>\n",
       "      <td>1.0</td>\n",
       "      <td>1.0</td>\n",
       "      <td>0.0</td>\n",
       "      <td>5.0</td>\n",
       "      <td>1</td>\n",
       "      <td>2.85</td>\n",
       "      <td>0.38</td>\n",
       "      <td>0</td>\n",
       "      <td>0.23</td>\n",
       "      <td>1</td>\n",
       "      <td>...</td>\n",
       "      <td>0</td>\n",
       "      <td>0</td>\n",
       "      <td>1</td>\n",
       "      <td>0</td>\n",
       "      <td>0</td>\n",
       "      <td>1</td>\n",
       "      <td>0</td>\n",
       "      <td>0</td>\n",
       "      <td>0</td>\n",
       "      <td>0</td>\n",
       "    </tr>\n",
       "    <tr>\n",
       "      <th>Whipps Cross University Hospital</th>\n",
       "      <td>1.0</td>\n",
       "      <td>0.0</td>\n",
       "      <td>1.0</td>\n",
       "      <td>3.0</td>\n",
       "      <td>1</td>\n",
       "      <td>2.63</td>\n",
       "      <td>0.53</td>\n",
       "      <td>0</td>\n",
       "      <td>0.00</td>\n",
       "      <td>0</td>\n",
       "      <td>...</td>\n",
       "      <td>0</td>\n",
       "      <td>0</td>\n",
       "      <td>1</td>\n",
       "      <td>0</td>\n",
       "      <td>0</td>\n",
       "      <td>1</td>\n",
       "      <td>0</td>\n",
       "      <td>0</td>\n",
       "      <td>0</td>\n",
       "      <td>0</td>\n",
       "    </tr>\n",
       "    <tr>\n",
       "      <th>Charing Cross Hospital HASU</th>\n",
       "      <td>1.0</td>\n",
       "      <td>1.0</td>\n",
       "      <td>1.0</td>\n",
       "      <td>5.0</td>\n",
       "      <td>1</td>\n",
       "      <td>3.67</td>\n",
       "      <td>0.44</td>\n",
       "      <td>0</td>\n",
       "      <td>0.27</td>\n",
       "      <td>1</td>\n",
       "      <td>...</td>\n",
       "      <td>0</td>\n",
       "      <td>0</td>\n",
       "      <td>1</td>\n",
       "      <td>0</td>\n",
       "      <td>0</td>\n",
       "      <td>1</td>\n",
       "      <td>0</td>\n",
       "      <td>0</td>\n",
       "      <td>0</td>\n",
       "      <td>0</td>\n",
       "    </tr>\n",
       "    <tr>\n",
       "      <th>...</th>\n",
       "      <td>...</td>\n",
       "      <td>...</td>\n",
       "      <td>...</td>\n",
       "      <td>...</td>\n",
       "      <td>...</td>\n",
       "      <td>...</td>\n",
       "      <td>...</td>\n",
       "      <td>...</td>\n",
       "      <td>...</td>\n",
       "      <td>...</td>\n",
       "      <td>...</td>\n",
       "      <td>...</td>\n",
       "      <td>...</td>\n",
       "      <td>...</td>\n",
       "      <td>...</td>\n",
       "      <td>...</td>\n",
       "      <td>...</td>\n",
       "      <td>...</td>\n",
       "      <td>...</td>\n",
       "      <td>...</td>\n",
       "      <td>...</td>\n",
       "    </tr>\n",
       "    <tr>\n",
       "      <th>Craigavon Area Hospital</th>\n",
       "      <td>1.0</td>\n",
       "      <td>0.0</td>\n",
       "      <td>1.0</td>\n",
       "      <td>2.0</td>\n",
       "      <td>1</td>\n",
       "      <td>2.63</td>\n",
       "      <td>0.26</td>\n",
       "      <td>0</td>\n",
       "      <td>0.00</td>\n",
       "      <td>0</td>\n",
       "      <td>...</td>\n",
       "      <td>0</td>\n",
       "      <td>0</td>\n",
       "      <td>0</td>\n",
       "      <td>0</td>\n",
       "      <td>1</td>\n",
       "      <td>1</td>\n",
       "      <td>0</td>\n",
       "      <td>0</td>\n",
       "      <td>0</td>\n",
       "      <td>0</td>\n",
       "    </tr>\n",
       "    <tr>\n",
       "      <th>Daisy Hill Hospital</th>\n",
       "      <td>1.0</td>\n",
       "      <td>0.0</td>\n",
       "      <td>1.0</td>\n",
       "      <td>2.0</td>\n",
       "      <td>0</td>\n",
       "      <td>1.50</td>\n",
       "      <td>0.33</td>\n",
       "      <td>0</td>\n",
       "      <td>0.00</td>\n",
       "      <td>0</td>\n",
       "      <td>...</td>\n",
       "      <td>0</td>\n",
       "      <td>0</td>\n",
       "      <td>0</td>\n",
       "      <td>0</td>\n",
       "      <td>0</td>\n",
       "      <td>0</td>\n",
       "      <td>0</td>\n",
       "      <td>0</td>\n",
       "      <td>0</td>\n",
       "      <td>0</td>\n",
       "    </tr>\n",
       "    <tr>\n",
       "      <th>Altnagelvin Hospital</th>\n",
       "      <td>1.0</td>\n",
       "      <td>1.0</td>\n",
       "      <td>0.0</td>\n",
       "      <td>3.0</td>\n",
       "      <td>0</td>\n",
       "      <td>1.20</td>\n",
       "      <td>0.40</td>\n",
       "      <td>0</td>\n",
       "      <td>0.00</td>\n",
       "      <td>0</td>\n",
       "      <td>...</td>\n",
       "      <td>0</td>\n",
       "      <td>0</td>\n",
       "      <td>1</td>\n",
       "      <td>0</td>\n",
       "      <td>0</td>\n",
       "      <td>1</td>\n",
       "      <td>0</td>\n",
       "      <td>0</td>\n",
       "      <td>0</td>\n",
       "      <td>0</td>\n",
       "    </tr>\n",
       "    <tr>\n",
       "      <th>South West Acute Hospital</th>\n",
       "      <td>1.0</td>\n",
       "      <td>1.0</td>\n",
       "      <td>0.0</td>\n",
       "      <td>3.0</td>\n",
       "      <td>0</td>\n",
       "      <td>1.56</td>\n",
       "      <td>0.56</td>\n",
       "      <td>0</td>\n",
       "      <td>0.00</td>\n",
       "      <td>0</td>\n",
       "      <td>...</td>\n",
       "      <td>0</td>\n",
       "      <td>0</td>\n",
       "      <td>0</td>\n",
       "      <td>0</td>\n",
       "      <td>1</td>\n",
       "      <td>1</td>\n",
       "      <td>0</td>\n",
       "      <td>0</td>\n",
       "      <td>0</td>\n",
       "      <td>0</td>\n",
       "    </tr>\n",
       "    <tr>\n",
       "      <th>Noble's Hospital</th>\n",
       "      <td>1.0</td>\n",
       "      <td>0.0</td>\n",
       "      <td>1.0</td>\n",
       "      <td>3.0</td>\n",
       "      <td>1</td>\n",
       "      <td>5.00</td>\n",
       "      <td>0.83</td>\n",
       "      <td>0</td>\n",
       "      <td>0.00</td>\n",
       "      <td>1</td>\n",
       "      <td>...</td>\n",
       "      <td>0</td>\n",
       "      <td>0</td>\n",
       "      <td>0</td>\n",
       "      <td>0</td>\n",
       "      <td>1</td>\n",
       "      <td>1</td>\n",
       "      <td>0</td>\n",
       "      <td>0</td>\n",
       "      <td>0</td>\n",
       "      <td>0</td>\n",
       "    </tr>\n",
       "  </tbody>\n",
       "</table>\n",
       "<p>169 rows × 67 columns</p>\n",
       "</div>"
      ],
      "text/plain": [
       "                                  acute_unit  bed1  bed3  ki_total  ki1  \\\n",
       "Hospital names                                                            \n",
       "Queens Hospital Romford HASU             1.0   1.0   0.0       6.0    1   \n",
       "Newham General Hospital                  0.0   1.0   0.0       6.0    1   \n",
       "Royal London Hospital HASU               1.0   1.0   0.0       5.0    1   \n",
       "Whipps Cross University Hospital         1.0   0.0   1.0       3.0    1   \n",
       "Charing Cross Hospital HASU              1.0   1.0   1.0       5.0    1   \n",
       "...                                      ...   ...   ...       ...  ...   \n",
       "Craigavon Area Hospital                  1.0   0.0   1.0       2.0    1   \n",
       "Daisy Hill Hospital                      1.0   0.0   1.0       2.0    0   \n",
       "Altnagelvin Hospital                     1.0   1.0   0.0       3.0    0   \n",
       "South West Acute Hospital                1.0   1.0   0.0       3.0    0   \n",
       "Noble's Hospital                         1.0   0.0   1.0       3.0    1   \n",
       "\n",
       "                                  ki1_nurses6_wte  ki1_nurses7_wte  ki2  \\\n",
       "Hospital names                                                            \n",
       "Queens Hospital Romford HASU                 2.73             1.14    0   \n",
       "Newham General Hospital                      1.54             1.54    0   \n",
       "Royal London Hospital HASU                   2.85             0.38    0   \n",
       "Whipps Cross University Hospital             2.63             0.53    0   \n",
       "Charing Cross Hospital HASU                  3.67             0.44    0   \n",
       "...                                           ...              ...  ...   \n",
       "Craigavon Area Hospital                      2.63             0.26    0   \n",
       "Daisy Hill Hospital                          1.50             0.33    0   \n",
       "Altnagelvin Hospital                         1.20             0.40    0   \n",
       "South West Acute Hospital                    1.56             0.56    0   \n",
       "Noble's Hospital                             5.00             0.83    0   \n",
       "\n",
       "                                  ki2_psych_wte  ki3  ...  \\\n",
       "Hospital names                                        ...   \n",
       "Queens Hospital Romford HASU               0.48    1  ...   \n",
       "Newham General Hospital                    0.00    1  ...   \n",
       "Royal London Hospital HASU                 0.23    1  ...   \n",
       "Whipps Cross University Hospital           0.00    0  ...   \n",
       "Charing Cross Hospital HASU                0.27    1  ...   \n",
       "...                                         ...  ...  ...   \n",
       "Craigavon Area Hospital                    0.00    0  ...   \n",
       "Daisy Hill Hospital                        0.00    0  ...   \n",
       "Altnagelvin Hospital                       0.00    0  ...   \n",
       "South West Acute Hospital                  0.00    0  ...   \n",
       "Noble's Hospital                           0.00    1  ...   \n",
       "\n",
       "                                  ki9_tia_outpatient_timescale_nextweekday  \\\n",
       "Hospital names                                                               \n",
       "Queens Hospital Romford HASU                                             0   \n",
       "Newham General Hospital                                                  0   \n",
       "Royal London Hospital HASU                                               0   \n",
       "Whipps Cross University Hospital                                         0   \n",
       "Charing Cross Hospital HASU                                              0   \n",
       "...                                                                    ...   \n",
       "Craigavon Area Hospital                                                  0   \n",
       "Daisy Hill Hospital                                                      0   \n",
       "Altnagelvin Hospital                                                     0   \n",
       "South West Acute Hospital                                                0   \n",
       "Noble's Hospital                                                         0   \n",
       "\n",
       "                                  ki9_tia_outpatient_timescale_sameday  \\\n",
       "Hospital names                                                           \n",
       "Queens Hospital Romford HASU                                         1   \n",
       "Newham General Hospital                                              0   \n",
       "Royal London Hospital HASU                                           0   \n",
       "Whipps Cross University Hospital                                     0   \n",
       "Charing Cross Hospital HASU                                          0   \n",
       "...                                                                ...   \n",
       "Craigavon Area Hospital                                              0   \n",
       "Daisy Hill Hospital                                                  0   \n",
       "Altnagelvin Hospital                                                 0   \n",
       "South West Acute Hospital                                            0   \n",
       "Noble's Hospital                                                     0   \n",
       "\n",
       "                                  ki9_tia_outpatient_timescale_samedayexcludingweekends  \\\n",
       "Hospital names                                                                            \n",
       "Queens Hospital Romford HASU                                                      0       \n",
       "Newham General Hospital                                                           1       \n",
       "Royal London Hospital HASU                                                        1       \n",
       "Whipps Cross University Hospital                                                  1       \n",
       "Charing Cross Hospital HASU                                                       1       \n",
       "...                                                                             ...       \n",
       "Craigavon Area Hospital                                                           0       \n",
       "Daisy Hill Hospital                                                               0       \n",
       "Altnagelvin Hospital                                                              1       \n",
       "South West Acute Hospital                                                         0       \n",
       "Noble's Hospital                                                                  0       \n",
       "\n",
       "                                  ki9_tia_outpatient_timescale_withinmonth  \\\n",
       "Hospital names                                                               \n",
       "Queens Hospital Romford HASU                                             0   \n",
       "Newham General Hospital                                                  0   \n",
       "Royal London Hospital HASU                                               0   \n",
       "Whipps Cross University Hospital                                         0   \n",
       "Charing Cross Hospital HASU                                              0   \n",
       "...                                                                    ...   \n",
       "Craigavon Area Hospital                                                  0   \n",
       "Daisy Hill Hospital                                                      0   \n",
       "Altnagelvin Hospital                                                     0   \n",
       "South West Acute Hospital                                                0   \n",
       "Noble's Hospital                                                         0   \n",
       "\n",
       "                                  ki9_tia_outpatient_timescale_withinweek  \\\n",
       "Hospital names                                                              \n",
       "Queens Hospital Romford HASU                                            0   \n",
       "Newham General Hospital                                                 0   \n",
       "Royal London Hospital HASU                                              0   \n",
       "Whipps Cross University Hospital                                        0   \n",
       "Charing Cross Hospital HASU                                             0   \n",
       "...                                                                   ...   \n",
       "Craigavon Area Hospital                                                 1   \n",
       "Daisy Hill Hospital                                                     0   \n",
       "Altnagelvin Hospital                                                    0   \n",
       "South West Acute Hospital                                               1   \n",
       "Noble's Hospital                                                        1   \n",
       "\n",
       "                                  ki9_tia_outpatients_seen  ki10  \\\n",
       "Hospital names                                                     \n",
       "Queens Hospital Romford HASU                             1     1   \n",
       "Newham General Hospital                                  1     0   \n",
       "Royal London Hospital HASU                               1     0   \n",
       "Whipps Cross University Hospital                         1     0   \n",
       "Charing Cross Hospital HASU                              1     0   \n",
       "...                                                    ...   ...   \n",
       "Craigavon Area Hospital                                  1     0   \n",
       "Daisy Hill Hospital                                      0     0   \n",
       "Altnagelvin Hospital                                     1     0   \n",
       "South West Acute Hospital                                1     0   \n",
       "Noble's Hospital                                         1     0   \n",
       "\n",
       "                                  ki10_management_chairmanofclinicalgovernance  \\\n",
       "Hospital names                                                                   \n",
       "Queens Hospital Romford HASU                                                 1   \n",
       "Newham General Hospital                                                      0   \n",
       "Royal London Hospital HASU                                                   0   \n",
       "Whipps Cross University Hospital                                             0   \n",
       "Charing Cross Hospital HASU                                                  0   \n",
       "...                                                                        ...   \n",
       "Craigavon Area Hospital                                                      0   \n",
       "Daisy Hill Hospital                                                          0   \n",
       "Altnagelvin Hospital                                                         0   \n",
       "South West Acute Hospital                                                    0   \n",
       "Noble's Hospital                                                             0   \n",
       "\n",
       "                                  ki10_management_executiveonboard  \\\n",
       "Hospital names                                                       \n",
       "Queens Hospital Romford HASU                                     1   \n",
       "Newham General Hospital                                          0   \n",
       "Royal London Hospital HASU                                       0   \n",
       "Whipps Cross University Hospital                                 0   \n",
       "Charing Cross Hospital HASU                                      0   \n",
       "...                                                            ...   \n",
       "Craigavon Area Hospital                                          0   \n",
       "Daisy Hill Hospital                                              0   \n",
       "Altnagelvin Hospital                                             0   \n",
       "South West Acute Hospital                                        0   \n",
       "Noble's Hospital                                                 0   \n",
       "\n",
       "                                  ki10_management_nonexecutiveonboard  \n",
       "Hospital names                                                         \n",
       "Queens Hospital Romford HASU                                        1  \n",
       "Newham General Hospital                                             0  \n",
       "Royal London Hospital HASU                                          0  \n",
       "Whipps Cross University Hospital                                    0  \n",
       "Charing Cross Hospital HASU                                         0  \n",
       "...                                                               ...  \n",
       "Craigavon Area Hospital                                             0  \n",
       "Daisy Hill Hospital                                                 0  \n",
       "Altnagelvin Hospital                                                0  \n",
       "South West Acute Hospital                                           0  \n",
       "Noble's Hospital                                                    0  \n",
       "\n",
       "[169 rows x 67 columns]"
      ]
     },
     "execution_count": 4,
     "metadata": {},
     "output_type": "execute_result"
    }
   ],
   "source": [
    "df"
   ]
  },
  {
   "cell_type": "code",
   "execution_count": 5,
   "id": "02becd54-baf3-4380-a26a-e3c245401424",
   "metadata": {},
   "outputs": [],
   "source": [
    "dir_files = '../data/organisational_audit/processed'\n",
    "file_excel = 'processed_2019_portfolio_key_indicators_summary_national.csv'"
   ]
  },
  {
   "cell_type": "code",
   "execution_count": 6,
   "id": "bf71a3e3-b7dc-4aef-aa11-697826c5ff9e",
   "metadata": {},
   "outputs": [],
   "source": [
    "df_national = pd.read_csv(os.path.join(dir_files, file_excel), index_col=0)"
   ]
  },
  {
   "cell_type": "code",
   "execution_count": 7,
   "id": "3b182304-fdde-4521-8d6e-6937be5b847c",
   "metadata": {},
   "outputs": [
    {
     "data": {
      "text/html": [
       "<div>\n",
       "<style scoped>\n",
       "    .dataframe tbody tr th:only-of-type {\n",
       "        vertical-align: middle;\n",
       "    }\n",
       "\n",
       "    .dataframe tbody tr th {\n",
       "        vertical-align: top;\n",
       "    }\n",
       "\n",
       "    .dataframe thead th {\n",
       "        text-align: right;\n",
       "    }\n",
       "</style>\n",
       "<table border=\"1\" class=\"dataframe\">\n",
       "  <thead>\n",
       "    <tr style=\"text-align: right;\">\n",
       "      <th></th>\n",
       "      <th>ki_total</th>\n",
       "      <th>ki1</th>\n",
       "      <th>ki1_nurses6_wte</th>\n",
       "      <th>ki1_nurses7_wte</th>\n",
       "      <th>ki2</th>\n",
       "      <th>ki2_psych_wte</th>\n",
       "      <th>ki3</th>\n",
       "      <th>ki3_strokenurse_outofhours</th>\n",
       "      <th>ki3_strokenurse_bed1_weekdays10pm</th>\n",
       "      <th>ki3_strokenurse_bed1_saturdays</th>\n",
       "      <th>...</th>\n",
       "      <th>ki8</th>\n",
       "      <th>ki8_patientcarersurvey_frequency</th>\n",
       "      <th>ki9</th>\n",
       "      <th>ki9_tia_brainimaging_mostused</th>\n",
       "      <th>ki9_tia_outpatients_seen</th>\n",
       "      <th>ki9_tia_outpatient_timescale</th>\n",
       "      <th>ki10</th>\n",
       "      <th>ki10_management_executiveonboard</th>\n",
       "      <th>ki10_management_nonexecutiveonboard</th>\n",
       "      <th>ki10_management_chairmanofclinicalgovernance</th>\n",
       "    </tr>\n",
       "  </thead>\n",
       "  <tbody>\n",
       "    <tr>\n",
       "      <th>National Results</th>\n",
       "      <td>1: 5% (8/169)_x000D_\\n2: 7% (12/169)_x000D_\\n3...</td>\n",
       "      <td>58% (98/169)</td>\n",
       "      <td>1.9 (1.4-2.9)_x000D_\\nMedian (IQR)</td>\n",
       "      <td>0.5 (0.4-0.8)_x000D_\\nMedian (IQR)</td>\n",
       "      <td>7% (12/169)</td>\n",
       "      <td>0.1 (0-0.3)_x000D_\\nMedian (IQR)</td>\n",
       "      <td>71% (101/142)</td>\n",
       "      <td>71% (101/142)</td>\n",
       "      <td>215</td>\n",
       "      <td>243</td>\n",
       "      <td>...</td>\n",
       "      <td>56% (95/169)</td>\n",
       "      <td>Never: 21% (35/169)\\nLess than once a year: 23...</td>\n",
       "      <td>33% (56/169)</td>\n",
       "      <td>Computed Tomography: 50% (85/169)\\nMagnetic Re...</td>\n",
       "      <td>99% (160/162)</td>\n",
       "      <td>The same day (7 days a week): 31% (50/160)_x00...</td>\n",
       "      <td>63% (106/169)</td>\n",
       "      <td>58% (98/169)</td>\n",
       "      <td>17% (28/169)</td>\n",
       "      <td>25% (43/169)</td>\n",
       "    </tr>\n",
       "  </tbody>\n",
       "</table>\n",
       "<p>1 rows × 47 columns</p>\n",
       "</div>"
      ],
      "text/plain": [
       "                                                           ki_total  \\\n",
       "National Results  1: 5% (8/169)_x000D_\\n2: 7% (12/169)_x000D_\\n3...   \n",
       "\n",
       "                           ki1                     ki1_nurses6_wte  \\\n",
       "National Results  58% (98/169)  1.9 (1.4-2.9)_x000D_\\nMedian (IQR)   \n",
       "\n",
       "                                     ki1_nurses7_wte          ki2  \\\n",
       "National Results  0.5 (0.4-0.8)_x000D_\\nMedian (IQR)  7% (12/169)   \n",
       "\n",
       "                                     ki2_psych_wte            ki3  \\\n",
       "National Results  0.1 (0-0.3)_x000D_\\nMedian (IQR)  71% (101/142)   \n",
       "\n",
       "                 ki3_strokenurse_outofhours  \\\n",
       "National Results              71% (101/142)   \n",
       "\n",
       "                  ki3_strokenurse_bed1_weekdays10pm  \\\n",
       "National Results                                215   \n",
       "\n",
       "                  ki3_strokenurse_bed1_saturdays  ...           ki8  \\\n",
       "National Results                             243  ...  56% (95/169)   \n",
       "\n",
       "                                   ki8_patientcarersurvey_frequency  \\\n",
       "National Results  Never: 21% (35/169)\\nLess than once a year: 23...   \n",
       "\n",
       "                           ki9  \\\n",
       "National Results  33% (56/169)   \n",
       "\n",
       "                                      ki9_tia_brainimaging_mostused  \\\n",
       "National Results  Computed Tomography: 50% (85/169)\\nMagnetic Re...   \n",
       "\n",
       "                  ki9_tia_outpatients_seen  \\\n",
       "National Results             99% (160/162)   \n",
       "\n",
       "                                       ki9_tia_outpatient_timescale  \\\n",
       "National Results  The same day (7 days a week): 31% (50/160)_x00...   \n",
       "\n",
       "                           ki10  ki10_management_executiveonboard  \\\n",
       "National Results  63% (106/169)                      58% (98/169)   \n",
       "\n",
       "                 ki10_management_nonexecutiveonboard  \\\n",
       "National Results                        17% (28/169)   \n",
       "\n",
       "                 ki10_management_chairmanofclinicalgovernance  \n",
       "National Results                                 25% (43/169)  \n",
       "\n",
       "[1 rows x 47 columns]"
      ]
     },
     "execution_count": 7,
     "metadata": {},
     "output_type": "execute_result"
    }
   ],
   "source": [
    "df_national"
   ]
  },
  {
   "cell_type": "markdown",
   "id": "f8f9d7b6-c8be-4626-b961-18484263dd2f",
   "metadata": {},
   "source": [
    "## Generic functions for checks"
   ]
  },
  {
   "cell_type": "code",
   "execution_count": 8,
   "id": "bf7fe6a2-def8-416d-9fca-e668baff37bf",
   "metadata": {},
   "outputs": [],
   "source": [
    "def check_total(df, df_national, ki_str):\n",
    "    national_str = df_national[ki_str].values[0]\n",
    "    print(f'National results: {national_str}')\n",
    "\n",
    "    full_count = df[ki_str].sum()\n",
    "    full_total = len(df)\n",
    "    full_perc = (full_count / full_total) * 100.0\n",
    "    print(f'From full data  : {full_perc:.0f}% ({full_count}/{full_total})')\n",
    "\n",
    "def check_iqr(df, df_national, ki_str='', ki_cols=[]):\n",
    "    if len(ki_cols) == 0:\n",
    "        ki_cols = [col for col in df.columns if col.startswith(ki_str)]\n",
    "        try:\n",
    "            ki_cols.remove(ki_str)\n",
    "        except ValueError:\n",
    "            pass\n",
    "\n",
    "    iqr = pd.DataFrame(df[ki_cols].quantile([0.5, 0.25, 0.75]))\n",
    "    df_to_display = pd.concat(\n",
    "        [df_national[ki_cols], iqr],\n",
    "        axis='rows'\n",
    "    )\n",
    "    display(df_to_display.T)\n",
    "\n",
    "def check_count(df, df_national, ki_str='', ki_cols=[]):\n",
    "    if len(ki_cols) == 0:\n",
    "        ki_cols = [col for col in df.columns if col.startswith(ki_str)]\n",
    "        try:\n",
    "            ki_cols.remove(ki_str)\n",
    "        except ValueError:\n",
    "            pass\n",
    "\n",
    "    counts = pd.DataFrame(df[ki_cols].sum(axis=0), columns=['From full data']).T\n",
    "    counts.name = 'From full data'\n",
    "\n",
    "    try:\n",
    "        df_to_display = pd.concat(\n",
    "            [df_national[ki_cols], counts],\n",
    "            axis='rows'\n",
    "        )\n",
    "    except KeyError:\n",
    "        # National data doesn't have the same columns.\n",
    "        df_to_display = counts\n",
    "    display(df_to_display.T)"
   ]
  },
  {
   "cell_type": "markdown",
   "id": "6affc5c6-25d5-4f8c-82e3-eecfb7820db5",
   "metadata": {},
   "source": [
    "## Total key indicators met counts"
   ]
  },
  {
   "cell_type": "code",
   "execution_count": 9,
   "id": "60bd86e3-8553-419b-9234-aac3543b3b3a",
   "metadata": {},
   "outputs": [],
   "source": [
    "cols_ki = [f'ki{i}' for i in range(1, 11)]"
   ]
  },
  {
   "cell_type": "code",
   "execution_count": 10,
   "id": "2a2f17b6-3616-4218-b561-a739193b6782",
   "metadata": {},
   "outputs": [
    {
     "data": {
      "text/html": [
       "<div>\n",
       "<style scoped>\n",
       "    .dataframe tbody tr th:only-of-type {\n",
       "        vertical-align: middle;\n",
       "    }\n",
       "\n",
       "    .dataframe tbody tr th {\n",
       "        vertical-align: top;\n",
       "    }\n",
       "\n",
       "    .dataframe thead th {\n",
       "        text-align: right;\n",
       "    }\n",
       "</style>\n",
       "<table border=\"1\" class=\"dataframe\">\n",
       "  <thead>\n",
       "    <tr style=\"text-align: right;\">\n",
       "      <th></th>\n",
       "      <th>ki1</th>\n",
       "      <th>ki2</th>\n",
       "      <th>ki3</th>\n",
       "      <th>ki4</th>\n",
       "      <th>ki5</th>\n",
       "      <th>ki6</th>\n",
       "      <th>ki7</th>\n",
       "      <th>ki8</th>\n",
       "      <th>ki9</th>\n",
       "      <th>ki10</th>\n",
       "    </tr>\n",
       "    <tr>\n",
       "      <th>Hospital names</th>\n",
       "      <th></th>\n",
       "      <th></th>\n",
       "      <th></th>\n",
       "      <th></th>\n",
       "      <th></th>\n",
       "      <th></th>\n",
       "      <th></th>\n",
       "      <th></th>\n",
       "      <th></th>\n",
       "      <th></th>\n",
       "    </tr>\n",
       "  </thead>\n",
       "  <tbody>\n",
       "    <tr>\n",
       "      <th>Queens Hospital Romford HASU</th>\n",
       "      <td>1</td>\n",
       "      <td>0</td>\n",
       "      <td>1</td>\n",
       "      <td>1</td>\n",
       "      <td>0</td>\n",
       "      <td>0</td>\n",
       "      <td>1</td>\n",
       "      <td>1</td>\n",
       "      <td>0</td>\n",
       "      <td>1</td>\n",
       "    </tr>\n",
       "    <tr>\n",
       "      <th>Newham General Hospital</th>\n",
       "      <td>1</td>\n",
       "      <td>0</td>\n",
       "      <td>1</td>\n",
       "      <td>1</td>\n",
       "      <td>0</td>\n",
       "      <td>0</td>\n",
       "      <td>1</td>\n",
       "      <td>1</td>\n",
       "      <td>1</td>\n",
       "      <td>0</td>\n",
       "    </tr>\n",
       "    <tr>\n",
       "      <th>Royal London Hospital HASU</th>\n",
       "      <td>1</td>\n",
       "      <td>0</td>\n",
       "      <td>1</td>\n",
       "      <td>1</td>\n",
       "      <td>0</td>\n",
       "      <td>0</td>\n",
       "      <td>1</td>\n",
       "      <td>0</td>\n",
       "      <td>1</td>\n",
       "      <td>0</td>\n",
       "    </tr>\n",
       "    <tr>\n",
       "      <th>Whipps Cross University Hospital</th>\n",
       "      <td>1</td>\n",
       "      <td>0</td>\n",
       "      <td>0</td>\n",
       "      <td>1</td>\n",
       "      <td>0</td>\n",
       "      <td>0</td>\n",
       "      <td>1</td>\n",
       "      <td>0</td>\n",
       "      <td>0</td>\n",
       "      <td>0</td>\n",
       "    </tr>\n",
       "    <tr>\n",
       "      <th>Charing Cross Hospital HASU</th>\n",
       "      <td>1</td>\n",
       "      <td>0</td>\n",
       "      <td>1</td>\n",
       "      <td>1</td>\n",
       "      <td>1</td>\n",
       "      <td>0</td>\n",
       "      <td>0</td>\n",
       "      <td>1</td>\n",
       "      <td>0</td>\n",
       "      <td>0</td>\n",
       "    </tr>\n",
       "    <tr>\n",
       "      <th>...</th>\n",
       "      <td>...</td>\n",
       "      <td>...</td>\n",
       "      <td>...</td>\n",
       "      <td>...</td>\n",
       "      <td>...</td>\n",
       "      <td>...</td>\n",
       "      <td>...</td>\n",
       "      <td>...</td>\n",
       "      <td>...</td>\n",
       "      <td>...</td>\n",
       "    </tr>\n",
       "    <tr>\n",
       "      <th>Craigavon Area Hospital</th>\n",
       "      <td>1</td>\n",
       "      <td>0</td>\n",
       "      <td>0</td>\n",
       "      <td>0</td>\n",
       "      <td>0</td>\n",
       "      <td>0</td>\n",
       "      <td>1</td>\n",
       "      <td>0</td>\n",
       "      <td>0</td>\n",
       "      <td>0</td>\n",
       "    </tr>\n",
       "    <tr>\n",
       "      <th>Daisy Hill Hospital</th>\n",
       "      <td>0</td>\n",
       "      <td>0</td>\n",
       "      <td>0</td>\n",
       "      <td>1</td>\n",
       "      <td>0</td>\n",
       "      <td>0</td>\n",
       "      <td>1</td>\n",
       "      <td>0</td>\n",
       "      <td>0</td>\n",
       "      <td>0</td>\n",
       "    </tr>\n",
       "    <tr>\n",
       "      <th>Altnagelvin Hospital</th>\n",
       "      <td>0</td>\n",
       "      <td>0</td>\n",
       "      <td>0</td>\n",
       "      <td>1</td>\n",
       "      <td>0</td>\n",
       "      <td>0</td>\n",
       "      <td>0</td>\n",
       "      <td>1</td>\n",
       "      <td>1</td>\n",
       "      <td>0</td>\n",
       "    </tr>\n",
       "    <tr>\n",
       "      <th>South West Acute Hospital</th>\n",
       "      <td>0</td>\n",
       "      <td>0</td>\n",
       "      <td>0</td>\n",
       "      <td>1</td>\n",
       "      <td>0</td>\n",
       "      <td>1</td>\n",
       "      <td>0</td>\n",
       "      <td>1</td>\n",
       "      <td>0</td>\n",
       "      <td>0</td>\n",
       "    </tr>\n",
       "    <tr>\n",
       "      <th>Noble's Hospital</th>\n",
       "      <td>1</td>\n",
       "      <td>0</td>\n",
       "      <td>1</td>\n",
       "      <td>0</td>\n",
       "      <td>0</td>\n",
       "      <td>0</td>\n",
       "      <td>0</td>\n",
       "      <td>1</td>\n",
       "      <td>0</td>\n",
       "      <td>0</td>\n",
       "    </tr>\n",
       "  </tbody>\n",
       "</table>\n",
       "<p>169 rows × 10 columns</p>\n",
       "</div>"
      ],
      "text/plain": [
       "                                  ki1  ki2  ki3  ki4  ki5  ki6  ki7  ki8  ki9  \\\n",
       "Hospital names                                                                  \n",
       "Queens Hospital Romford HASU        1    0    1    1    0    0    1    1    0   \n",
       "Newham General Hospital             1    0    1    1    0    0    1    1    1   \n",
       "Royal London Hospital HASU          1    0    1    1    0    0    1    0    1   \n",
       "Whipps Cross University Hospital    1    0    0    1    0    0    1    0    0   \n",
       "Charing Cross Hospital HASU         1    0    1    1    1    0    0    1    0   \n",
       "...                               ...  ...  ...  ...  ...  ...  ...  ...  ...   \n",
       "Craigavon Area Hospital             1    0    0    0    0    0    1    0    0   \n",
       "Daisy Hill Hospital                 0    0    0    1    0    0    1    0    0   \n",
       "Altnagelvin Hospital                0    0    0    1    0    0    0    1    1   \n",
       "South West Acute Hospital           0    0    0    1    0    1    0    1    0   \n",
       "Noble's Hospital                    1    0    1    0    0    0    0    1    0   \n",
       "\n",
       "                                  ki10  \n",
       "Hospital names                          \n",
       "Queens Hospital Romford HASU         1  \n",
       "Newham General Hospital              0  \n",
       "Royal London Hospital HASU           0  \n",
       "Whipps Cross University Hospital     0  \n",
       "Charing Cross Hospital HASU          0  \n",
       "...                                ...  \n",
       "Craigavon Area Hospital              0  \n",
       "Daisy Hill Hospital                  0  \n",
       "Altnagelvin Hospital                 0  \n",
       "South West Acute Hospital            0  \n",
       "Noble's Hospital                     0  \n",
       "\n",
       "[169 rows x 10 columns]"
      ]
     },
     "execution_count": 10,
     "metadata": {},
     "output_type": "execute_result"
    }
   ],
   "source": [
    "df[cols_ki]"
   ]
  },
  {
   "cell_type": "markdown",
   "id": "a3d490aa-54a6-498f-8a57-157165bd8e4e",
   "metadata": {},
   "source": [
    "If the following cell returns True, then the big DataFrame is consistent with itself. The separate KI values do sum to the value in the total KI column."
   ]
  },
  {
   "cell_type": "code",
   "execution_count": 11,
   "id": "822c3455-6884-47e6-99f1-9cd310914afe",
   "metadata": {},
   "outputs": [
    {
     "data": {
      "text/plain": [
       "True"
      ]
     },
     "execution_count": 11,
     "metadata": {},
     "output_type": "execute_result"
    }
   ],
   "source": [
    "# Simple check of summing row contents, does it match total\n",
    "(df['ki_total'] == df[cols_ki].sum(axis=1)).all()"
   ]
  },
  {
   "cell_type": "markdown",
   "id": "78fc3fd5-2faf-4af1-88c1-bf5903ab95c3",
   "metadata": {},
   "source": [
    "The national data is given as counts for each total."
   ]
  },
  {
   "cell_type": "code",
   "execution_count": 12,
   "id": "dae5a6dd-965b-4857-8a9e-d5469998cfa2",
   "metadata": {},
   "outputs": [
    {
     "data": {
      "text/plain": [
       "['1: 5% (8/169)',\n",
       " '2: 7% (12/169)',\n",
       " '3: 18% (31/169)',\n",
       " '4: 20% (33/169)',\n",
       " '5: 18% (30/169)',\n",
       " '6: 17% (28/169)',\n",
       " '7: 7% (11/169)',\n",
       " '8: 7% (11/169)',\n",
       " '9: 2% (4/169)',\n",
       " '10: 1% (1/169)']"
      ]
     },
     "execution_count": 12,
     "metadata": {},
     "output_type": "execute_result"
    }
   ],
   "source": [
    "ki_total_national = df_national['ki_total'].values[0].split('_x000D_\\n')\n",
    "\n",
    "ki_total_national"
   ]
  },
  {
   "cell_type": "markdown",
   "id": "c87d32f2-700e-4b35-bca6-3a9a8fb70b1e",
   "metadata": {},
   "source": [
    "Recreate this from the full data:"
   ]
  },
  {
   "cell_type": "code",
   "execution_count": 13,
   "id": "9b73927e-0fa8-46e9-bab0-aac6bfe2d179",
   "metadata": {},
   "outputs": [],
   "source": [
    "ki_total_values = sorted(df['ki_total'].unique())"
   ]
  },
  {
   "cell_type": "code",
   "execution_count": 14,
   "id": "a524c9f7-c487-435c-9689-2930ae1cf849",
   "metadata": {},
   "outputs": [],
   "source": [
    "ki_total_counts = []\n",
    "\n",
    "for v in ki_total_values:\n",
    "    df_here = df.loc[df['ki_total'] == v]\n",
    "    count = len(df_here)\n",
    "    ki_total_counts.append(count)"
   ]
  },
  {
   "cell_type": "code",
   "execution_count": 15,
   "id": "babcecf7-307d-4e22-80c7-ac7dd481b95e",
   "metadata": {},
   "outputs": [
    {
     "data": {
      "text/plain": [
       "[8, 12, 31, 33, 30, 28, 11, 11, 4, 1]"
      ]
     },
     "execution_count": 15,
     "metadata": {},
     "output_type": "execute_result"
    }
   ],
   "source": [
    "ki_total_counts"
   ]
  },
  {
   "cell_type": "code",
   "execution_count": 16,
   "id": "2d2b11ab-efb3-429d-b586-ccb6cc48c406",
   "metadata": {},
   "outputs": [
    {
     "data": {
      "text/plain": [
       "169"
      ]
     },
     "execution_count": 16,
     "metadata": {},
     "output_type": "execute_result"
    }
   ],
   "source": [
    "sum(ki_total_counts)"
   ]
  },
  {
   "cell_type": "markdown",
   "id": "c591e170-c76d-4332-b6f7-e091fc65a749",
   "metadata": {},
   "source": [
    "The counts match the national data."
   ]
  },
  {
   "cell_type": "markdown",
   "id": "07c00b0f-5abd-4e02-97b5-9f2ab3a43cbe",
   "metadata": {},
   "source": [
    "## Key Indicator 1: nurses per bed"
   ]
  },
  {
   "cell_type": "code",
   "execution_count": 17,
   "id": "21f2e598-ada7-4945-8b3e-974f4a8f9219",
   "metadata": {},
   "outputs": [],
   "source": [
    "ki_str = 'ki1'"
   ]
  },
  {
   "cell_type": "code",
   "execution_count": 18,
   "id": "b184b4c7-c374-40b2-bba6-6f09a5d1f04f",
   "metadata": {},
   "outputs": [
    {
     "name": "stdout",
     "output_type": "stream",
     "text": [
      "National results: 58% (98/169)\n",
      "From full data  : 58% (98/169)\n"
     ]
    }
   ],
   "source": [
    "check_total(df, df_national, ki_str)"
   ]
  },
  {
   "cell_type": "code",
   "execution_count": 19,
   "id": "81752a15-73ad-4c77-b1da-c002e0627780",
   "metadata": {},
   "outputs": [
    {
     "data": {
      "text/html": [
       "<div>\n",
       "<style scoped>\n",
       "    .dataframe tbody tr th:only-of-type {\n",
       "        vertical-align: middle;\n",
       "    }\n",
       "\n",
       "    .dataframe tbody tr th {\n",
       "        vertical-align: top;\n",
       "    }\n",
       "\n",
       "    .dataframe thead th {\n",
       "        text-align: right;\n",
       "    }\n",
       "</style>\n",
       "<table border=\"1\" class=\"dataframe\">\n",
       "  <thead>\n",
       "    <tr style=\"text-align: right;\">\n",
       "      <th></th>\n",
       "      <th>National Results</th>\n",
       "      <th>0.5</th>\n",
       "      <th>0.25</th>\n",
       "      <th>0.75</th>\n",
       "    </tr>\n",
       "  </thead>\n",
       "  <tbody>\n",
       "    <tr>\n",
       "      <th>ki1_nurses6_wte</th>\n",
       "      <td>1.9 (1.4-2.9)_x000D_\\nMedian (IQR)</td>\n",
       "      <td>1.94</td>\n",
       "      <td>1.36</td>\n",
       "      <td>2.92</td>\n",
       "    </tr>\n",
       "    <tr>\n",
       "      <th>ki1_nurses7_wte</th>\n",
       "      <td>0.5 (0.4-0.8)_x000D_\\nMedian (IQR)</td>\n",
       "      <td>0.5</td>\n",
       "      <td>0.42</td>\n",
       "      <td>0.83</td>\n",
       "    </tr>\n",
       "  </tbody>\n",
       "</table>\n",
       "</div>"
      ],
      "text/plain": [
       "                                   National Results   0.5  0.25  0.75\n",
       "ki1_nurses6_wte  1.9 (1.4-2.9)_x000D_\\nMedian (IQR)  1.94  1.36  2.92\n",
       "ki1_nurses7_wte  0.5 (0.4-0.8)_x000D_\\nMedian (IQR)   0.5  0.42  0.83"
      ]
     },
     "metadata": {},
     "output_type": "display_data"
    }
   ],
   "source": [
    "check_iqr(df, df_national, ki_str + '_')"
   ]
  },
  {
   "cell_type": "markdown",
   "id": "438dcab7-9a5e-4388-8038-0c70430e49fa",
   "metadata": {},
   "source": [
    "## Key Indicator 2: psychologist"
   ]
  },
  {
   "cell_type": "code",
   "execution_count": 20,
   "id": "0f52fb50-8787-4a26-b66a-a30a083c74f2",
   "metadata": {},
   "outputs": [],
   "source": [
    "ki_str = 'ki2'"
   ]
  },
  {
   "cell_type": "code",
   "execution_count": 21,
   "id": "32512612-6b00-415a-be33-df86fd0b3379",
   "metadata": {},
   "outputs": [
    {
     "name": "stdout",
     "output_type": "stream",
     "text": [
      "National results: 7% (12/169)\n",
      "From full data  : 7% (12/169)\n"
     ]
    }
   ],
   "source": [
    "check_total(df, df_national, ki_str)"
   ]
  },
  {
   "cell_type": "code",
   "execution_count": 22,
   "id": "db768b2c-da22-43d6-8ba6-38df23b52bc7",
   "metadata": {},
   "outputs": [
    {
     "data": {
      "text/html": [
       "<div>\n",
       "<style scoped>\n",
       "    .dataframe tbody tr th:only-of-type {\n",
       "        vertical-align: middle;\n",
       "    }\n",
       "\n",
       "    .dataframe tbody tr th {\n",
       "        vertical-align: top;\n",
       "    }\n",
       "\n",
       "    .dataframe thead th {\n",
       "        text-align: right;\n",
       "    }\n",
       "</style>\n",
       "<table border=\"1\" class=\"dataframe\">\n",
       "  <thead>\n",
       "    <tr style=\"text-align: right;\">\n",
       "      <th></th>\n",
       "      <th>National Results</th>\n",
       "      <th>0.5</th>\n",
       "      <th>0.25</th>\n",
       "      <th>0.75</th>\n",
       "    </tr>\n",
       "  </thead>\n",
       "  <tbody>\n",
       "    <tr>\n",
       "      <th>ki2_psych_wte</th>\n",
       "      <td>0.1 (0-0.3)_x000D_\\nMedian (IQR)</td>\n",
       "      <td>0.07</td>\n",
       "      <td>0.0</td>\n",
       "      <td>0.34</td>\n",
       "    </tr>\n",
       "  </tbody>\n",
       "</table>\n",
       "</div>"
      ],
      "text/plain": [
       "                               National Results   0.5 0.25  0.75\n",
       "ki2_psych_wte  0.1 (0-0.3)_x000D_\\nMedian (IQR)  0.07  0.0  0.34"
      ]
     },
     "metadata": {},
     "output_type": "display_data"
    }
   ],
   "source": [
    "check_iqr(df, df_national, ki_str + '_')"
   ]
  },
  {
   "cell_type": "markdown",
   "id": "a0dfb8bd-7388-406b-b2ab-bd661bf7c7e4",
   "metadata": {},
   "source": [
    "## Key indicator 3: stroke nurses\n",
    "\n",
    "Have to mask this one to only include acute stroke units."
   ]
  },
  {
   "cell_type": "code",
   "execution_count": 23,
   "id": "0c22092d-aa3b-4b99-94c1-8543ee996ad4",
   "metadata": {},
   "outputs": [],
   "source": [
    "df_acute = df.loc[df['acute_unit'] == 1]"
   ]
  },
  {
   "cell_type": "code",
   "execution_count": 24,
   "id": "de1fc1e0-d3d0-477b-a927-7e85faff8767",
   "metadata": {},
   "outputs": [
    {
     "data": {
      "text/plain": [
       "142"
      ]
     },
     "execution_count": 24,
     "metadata": {},
     "output_type": "execute_result"
    }
   ],
   "source": [
    "len(df_acute)"
   ]
  },
  {
   "cell_type": "code",
   "execution_count": 25,
   "id": "fb9c57e8-2473-48b3-9f6d-2a9e72518dd9",
   "metadata": {},
   "outputs": [],
   "source": [
    "ki_str = 'ki3'"
   ]
  },
  {
   "cell_type": "code",
   "execution_count": 26,
   "id": "8bca620f-b865-448c-869f-d57b8f70bce3",
   "metadata": {},
   "outputs": [
    {
     "name": "stdout",
     "output_type": "stream",
     "text": [
      "National results: 71% (101/142)\n",
      "From full data  : 71% (101/142)\n"
     ]
    }
   ],
   "source": [
    "check_total(df_acute, df_national, ki_str)"
   ]
  },
  {
   "cell_type": "code",
   "execution_count": 27,
   "id": "baf0175f-4264-4658-8c45-54a42936c3d7",
   "metadata": {},
   "outputs": [
    {
     "data": {
      "text/html": [
       "<div>\n",
       "<style scoped>\n",
       "    .dataframe tbody tr th:only-of-type {\n",
       "        vertical-align: middle;\n",
       "    }\n",
       "\n",
       "    .dataframe tbody tr th {\n",
       "        vertical-align: top;\n",
       "    }\n",
       "\n",
       "    .dataframe thead th {\n",
       "        text-align: right;\n",
       "    }\n",
       "</style>\n",
       "<table border=\"1\" class=\"dataframe\">\n",
       "  <thead>\n",
       "    <tr style=\"text-align: right;\">\n",
       "      <th></th>\n",
       "      <th>National Results</th>\n",
       "      <th>From full data</th>\n",
       "    </tr>\n",
       "  </thead>\n",
       "  <tbody>\n",
       "    <tr>\n",
       "      <th>ki3_strokenurse_bed1_saturdays</th>\n",
       "      <td>243.0</td>\n",
       "      <td>243.0</td>\n",
       "    </tr>\n",
       "    <tr>\n",
       "      <th>ki3_strokenurse_bed1_saturdays10pm</th>\n",
       "      <td>215.0</td>\n",
       "      <td>215.0</td>\n",
       "    </tr>\n",
       "    <tr>\n",
       "      <th>ki3_strokenurse_bed1_sundays</th>\n",
       "      <td>243.0</td>\n",
       "      <td>243.0</td>\n",
       "    </tr>\n",
       "    <tr>\n",
       "      <th>ki3_strokenurse_bed1_sundays10pm</th>\n",
       "      <td>214.0</td>\n",
       "      <td>214.0</td>\n",
       "    </tr>\n",
       "    <tr>\n",
       "      <th>ki3_strokenurse_bed1_weekdays10pm</th>\n",
       "      <td>215.0</td>\n",
       "      <td>215.0</td>\n",
       "    </tr>\n",
       "    <tr>\n",
       "      <th>ki3_strokenurse_bed3_saturdays</th>\n",
       "      <td>316.0</td>\n",
       "      <td>316.0</td>\n",
       "    </tr>\n",
       "    <tr>\n",
       "      <th>ki3_strokenurse_bed3_saturdays10pm</th>\n",
       "      <td>234.0</td>\n",
       "      <td>234.0</td>\n",
       "    </tr>\n",
       "    <tr>\n",
       "      <th>ki3_strokenurse_bed3_sundays</th>\n",
       "      <td>317.0</td>\n",
       "      <td>317.0</td>\n",
       "    </tr>\n",
       "    <tr>\n",
       "      <th>ki3_strokenurse_bed3_sundays10pm</th>\n",
       "      <td>234.0</td>\n",
       "      <td>234.0</td>\n",
       "    </tr>\n",
       "    <tr>\n",
       "      <th>ki3_strokenurse_bed3_weekdays10pm</th>\n",
       "      <td>234.0</td>\n",
       "      <td>234.0</td>\n",
       "    </tr>\n",
       "    <tr>\n",
       "      <th>ki3_strokenurse_outofhours</th>\n",
       "      <td>71% (101/142)</td>\n",
       "      <td>101.0</td>\n",
       "    </tr>\n",
       "  </tbody>\n",
       "</table>\n",
       "</div>"
      ],
      "text/plain": [
       "                                   National Results From full data\n",
       "ki3_strokenurse_bed1_saturdays                243.0          243.0\n",
       "ki3_strokenurse_bed1_saturdays10pm            215.0          215.0\n",
       "ki3_strokenurse_bed1_sundays                  243.0          243.0\n",
       "ki3_strokenurse_bed1_sundays10pm              214.0          214.0\n",
       "ki3_strokenurse_bed1_weekdays10pm             215.0          215.0\n",
       "ki3_strokenurse_bed3_saturdays                316.0          316.0\n",
       "ki3_strokenurse_bed3_saturdays10pm            234.0          234.0\n",
       "ki3_strokenurse_bed3_sundays                  317.0          317.0\n",
       "ki3_strokenurse_bed3_sundays10pm              234.0          234.0\n",
       "ki3_strokenurse_bed3_weekdays10pm             234.0          234.0\n",
       "ki3_strokenurse_outofhours            71% (101/142)          101.0"
      ]
     },
     "metadata": {},
     "output_type": "display_data"
    }
   ],
   "source": [
    "check_count(df_acute, df_national, ki_str + '_')"
   ]
  },
  {
   "cell_type": "markdown",
   "id": "06ae3c18-6f70-49f0-aa2f-3b1cfc285b6d",
   "metadata": {},
   "source": [
    "## Key indicator 4: Minimum number of nurses\n",
    "\n",
    "Have to mask this one to only include acute stroke units."
   ]
  },
  {
   "cell_type": "code",
   "execution_count": 28,
   "id": "69abf2ef-1cbf-4944-93d6-54078b16cf9f",
   "metadata": {},
   "outputs": [],
   "source": [
    "ki_str = 'ki4'"
   ]
  },
  {
   "cell_type": "code",
   "execution_count": 29,
   "id": "c3b49e92-e489-4e67-967a-b80db13dcce1",
   "metadata": {},
   "outputs": [
    {
     "name": "stdout",
     "output_type": "stream",
     "text": [
      "National results: 30% (42/142)\n",
      "From full data  : 30% (42/142)\n"
     ]
    }
   ],
   "source": [
    "check_total(df_acute, df_national, ki_str)"
   ]
  },
  {
   "cell_type": "markdown",
   "id": "41516075-f948-47b1-87bc-3bbb9d7407b0",
   "metadata": {},
   "source": [
    "For IQRs, have to mask by only units with bed types 1 or 3:"
   ]
  },
  {
   "cell_type": "code",
   "execution_count": 30,
   "id": "9d1af403-d5d6-4506-9fcf-74a1c850f8ff",
   "metadata": {},
   "outputs": [],
   "source": [
    "df_bed1 = df.loc[(df['bed1'] == 1) & (df['acute_unit'] == 1)]"
   ]
  },
  {
   "cell_type": "code",
   "execution_count": 31,
   "id": "ae791c12-8348-4b1c-ad89-b5bbbb820361",
   "metadata": {},
   "outputs": [],
   "source": [
    "df_bed3 = df.loc[df['bed3'] == 1]"
   ]
  },
  {
   "cell_type": "code",
   "execution_count": 32,
   "id": "7477f880-7012-4960-b0e4-42ff201d16ce",
   "metadata": {},
   "outputs": [],
   "source": [
    "cols_bed1 = [c for c in df.columns if (c.startswith('ki4_') & ('bed1' in c))]\n",
    "cols_bed3 = [c for c in df.columns if (c.startswith('ki4_') & ('bed3' in c))]"
   ]
  },
  {
   "cell_type": "code",
   "execution_count": 33,
   "id": "4210146d-a6c1-4bbc-895d-ead72a9811a7",
   "metadata": {},
   "outputs": [
    {
     "data": {
      "text/html": [
       "<div>\n",
       "<style scoped>\n",
       "    .dataframe tbody tr th:only-of-type {\n",
       "        vertical-align: middle;\n",
       "    }\n",
       "\n",
       "    .dataframe tbody tr th {\n",
       "        vertical-align: top;\n",
       "    }\n",
       "\n",
       "    .dataframe thead th {\n",
       "        text-align: right;\n",
       "    }\n",
       "</style>\n",
       "<table border=\"1\" class=\"dataframe\">\n",
       "  <thead>\n",
       "    <tr style=\"text-align: right;\">\n",
       "      <th></th>\n",
       "      <th>National Results</th>\n",
       "      <th>0.5</th>\n",
       "      <th>0.25</th>\n",
       "      <th>0.75</th>\n",
       "    </tr>\n",
       "  </thead>\n",
       "  <tbody>\n",
       "    <tr>\n",
       "      <th>ki4_minimum_nurse_bed1_saturdays10am</th>\n",
       "      <td>3.3 (2.5-4.8)_x000D_\\nMedian (IQR)</td>\n",
       "      <td>3.33</td>\n",
       "      <td>2.5</td>\n",
       "      <td>4.845</td>\n",
       "    </tr>\n",
       "    <tr>\n",
       "      <th>ki4_minimum_nurse_bed1_sundays10am</th>\n",
       "      <td>3.3 (2.5-4.8)_x000D_\\nMedian (IQR)</td>\n",
       "      <td>3.33</td>\n",
       "      <td>2.5</td>\n",
       "      <td>4.845</td>\n",
       "    </tr>\n",
       "  </tbody>\n",
       "</table>\n",
       "</div>"
      ],
      "text/plain": [
       "                                                        National Results  \\\n",
       "ki4_minimum_nurse_bed1_saturdays10am  3.3 (2.5-4.8)_x000D_\\nMedian (IQR)   \n",
       "ki4_minimum_nurse_bed1_sundays10am    3.3 (2.5-4.8)_x000D_\\nMedian (IQR)   \n",
       "\n",
       "                                       0.5 0.25   0.75  \n",
       "ki4_minimum_nurse_bed1_saturdays10am  3.33  2.5  4.845  \n",
       "ki4_minimum_nurse_bed1_sundays10am    3.33  2.5  4.845  "
      ]
     },
     "metadata": {},
     "output_type": "display_data"
    }
   ],
   "source": [
    "check_iqr(df_bed1, df_national, ki_cols=cols_bed1)"
   ]
  },
  {
   "cell_type": "code",
   "execution_count": 34,
   "id": "19fc9588-0e4a-4e0f-b6b3-4ffff709e3a6",
   "metadata": {},
   "outputs": [
    {
     "data": {
      "text/html": [
       "<div>\n",
       "<style scoped>\n",
       "    .dataframe tbody tr th:only-of-type {\n",
       "        vertical-align: middle;\n",
       "    }\n",
       "\n",
       "    .dataframe tbody tr th {\n",
       "        vertical-align: top;\n",
       "    }\n",
       "\n",
       "    .dataframe thead th {\n",
       "        text-align: right;\n",
       "    }\n",
       "</style>\n",
       "<table border=\"1\" class=\"dataframe\">\n",
       "  <thead>\n",
       "    <tr style=\"text-align: right;\">\n",
       "      <th></th>\n",
       "      <th>National Results</th>\n",
       "      <th>0.5</th>\n",
       "      <th>0.25</th>\n",
       "      <th>0.75</th>\n",
       "    </tr>\n",
       "  </thead>\n",
       "  <tbody>\n",
       "    <tr>\n",
       "      <th>ki4_minimum_nurse_bed3_saturdays10am</th>\n",
       "      <td>1.7 (1.4-2.1)_x000D_\\nMedian (IQR)</td>\n",
       "      <td>1.75</td>\n",
       "      <td>1.43</td>\n",
       "      <td>2.08</td>\n",
       "    </tr>\n",
       "    <tr>\n",
       "      <th>ki4_minimum_nurse_bed3_sundays10am</th>\n",
       "      <td>1.8 (1.5-2.1)_x000D_\\nMedian (IQR)</td>\n",
       "      <td>1.775</td>\n",
       "      <td>1.4825</td>\n",
       "      <td>2.08</td>\n",
       "    </tr>\n",
       "  </tbody>\n",
       "</table>\n",
       "</div>"
      ],
      "text/plain": [
       "                                                        National Results  \\\n",
       "ki4_minimum_nurse_bed3_saturdays10am  1.7 (1.4-2.1)_x000D_\\nMedian (IQR)   \n",
       "ki4_minimum_nurse_bed3_sundays10am    1.8 (1.5-2.1)_x000D_\\nMedian (IQR)   \n",
       "\n",
       "                                        0.5    0.25  0.75  \n",
       "ki4_minimum_nurse_bed3_saturdays10am   1.75    1.43  2.08  \n",
       "ki4_minimum_nurse_bed3_sundays10am    1.775  1.4825  2.08  "
      ]
     },
     "metadata": {},
     "output_type": "display_data"
    }
   ],
   "source": [
    "check_iqr(df_bed3, df_national, ki_cols=cols_bed3)"
   ]
  },
  {
   "cell_type": "markdown",
   "id": "e9f4204c-f617-48ac-8624-bb7047e7a44d",
   "metadata": {},
   "source": [
    "## Key indicator 5: therapy availability"
   ]
  },
  {
   "cell_type": "code",
   "execution_count": 35,
   "id": "3f3e1964-f98d-447a-b5b6-a286ba409273",
   "metadata": {},
   "outputs": [],
   "source": [
    "ki_str = 'ki5'"
   ]
  },
  {
   "cell_type": "code",
   "execution_count": 36,
   "id": "99627109-250c-410b-b368-55fc8592a2f9",
   "metadata": {},
   "outputs": [
    {
     "name": "stdout",
     "output_type": "stream",
     "text": [
      "National results: 38% (65/169)\n",
      "From full data  : 38% (65/169)\n"
     ]
    }
   ],
   "source": [
    "check_total(df, df_national, ki_str)"
   ]
  },
  {
   "cell_type": "code",
   "execution_count": 37,
   "id": "f4d1a615-f25f-4984-969a-e4372889f172",
   "metadata": {},
   "outputs": [],
   "source": [
    "def find_count_matching_value(df, col, value_list):\n",
    "    total = len(df)\n",
    "    for val in value_list:\n",
    "        mask = df[col] == val\n",
    "        count = len(df.loc[mask, col])\n",
    "        perc = (count / total) * 100.0\n",
    "        print(f'{val}: {perc:.0f}% ({count}/{total})')"
   ]
  },
  {
   "cell_type": "code",
   "execution_count": 38,
   "id": "0535f752-1b8f-4882-ba8d-59cab0b51f37",
   "metadata": {},
   "outputs": [
    {
     "name": "stdout",
     "output_type": "stream",
     "text": [
      "ki5_occupationaltherapy_7days\n",
      "National Results:\n",
      "['5: 42% (71/169)', '6: 20% (34/169)', '7: 38% (64/169)']\n",
      "From full data:\n",
      "5: 42% (71/169)\n",
      "6: 20% (34/169)\n",
      "7: 38% (64/169)\n",
      "\n",
      "ki5_physiotherapy_7days\n",
      "National Results:\n",
      "['5: 38% (64/169)', '6: 16% (27/169)', '7: 46% (78/169)']\n",
      "From full data:\n",
      "5: 38% (64/169)\n",
      "6: 16% (27/169)\n",
      "7: 46% (78/169)\n",
      "\n",
      "ki5_speechlanguagetherapy_7days\n",
      "National Results:\n",
      "['5: 78% (129/165)', '6: 12% (19/165)', '7: 10% (17/165)']\n",
      "From full data:\n",
      "5: 76% (129/169)\n",
      "6: 11% (19/169)\n",
      "7: 10% (17/169)\n",
      "\n"
     ]
    }
   ],
   "source": [
    "cols_ki5 = ['ki5_occupationaltherapy_7days', 'ki5_physiotherapy_7days', 'ki5_speechlanguagetherapy_7days']\n",
    "\n",
    "for col in cols_ki5:\n",
    "    print(col)\n",
    "    print('National Results:')\n",
    "    print(df_national[col].values[0].split('_x000D_\\n'))\n",
    "    print('From full data:')\n",
    "    find_count_matching_value(df, col, [5, 6, 7])\n",
    "    print('')"
   ]
  },
  {
   "cell_type": "markdown",
   "id": "0a047dbf-7d3c-4a2f-9e3a-8480fc88ff32",
   "metadata": {},
   "source": [
    "^ for the bottom one here, the counts are right but the percentages are wrong because four teams with the value 0 days (instead of 5, 6, 7) should be excluded from the total count."
   ]
  },
  {
   "cell_type": "markdown",
   "id": "47ce7b9a-4384-4887-9cd7-7472daedbabb",
   "metadata": {},
   "source": [
    "## Key indicator 6: pre-alerts\n",
    "\n",
    "Have to mask this one to only include acute stroke units."
   ]
  },
  {
   "cell_type": "code",
   "execution_count": 39,
   "id": "3ff4a799-5a68-4c3e-9048-21de4d477cd7",
   "metadata": {},
   "outputs": [],
   "source": [
    "ki_str = 'ki6'"
   ]
  },
  {
   "cell_type": "code",
   "execution_count": 40,
   "id": "e0adff68-2f4d-4628-851f-d993d96fc3dc",
   "metadata": {},
   "outputs": [
    {
     "name": "stdout",
     "output_type": "stream",
     "text": [
      "National results: 38% (54/142)\n",
      "From full data  : 38% (54/142)\n"
     ]
    }
   ],
   "source": [
    "check_total(df_acute, df_national, ki_str)"
   ]
  },
  {
   "cell_type": "code",
   "execution_count": 41,
   "id": "b38aa90c-f925-42d6-b2b7-4ceeab6e6cf2",
   "metadata": {},
   "outputs": [],
   "source": [
    "cols_ki6_patients = [\n",
    "    'ki6_prealert_ivtcandidates_yes',\n",
    "    'ki6_prealert_ivtcandidates_sometimes',\n",
    "    'ki6_prealert_fastpositive_yes',\n",
    "    'ki6_prealert_fastpositive_sometimes',\n",
    "    'ki6_prealert_othersuspectedstroke_yes',\n",
    "    'ki6_prealert_othersuspectedstroke_sometimes',\n",
    "    ]\n",
    "\n",
    "cols_ki6_answers = [\n",
    "    'ki6_prealert_strokenurse',\n",
    "    'ki6_prealert_juniordoctor',\n",
    "    'ki6_prealert_consultant',\n",
    "]"
   ]
  },
  {
   "cell_type": "code",
   "execution_count": 42,
   "id": "07c46b94-ece2-4b1e-aaeb-aa9aa5d71777",
   "metadata": {},
   "outputs": [],
   "source": [
    "def find_count_yes_no_sometimes(df, col_yes, col_sometimes):\n",
    "    count_yes = len(df.loc[df[col_yes] == 1])\n",
    "    count_sometimes = len(df.loc[df[col_sometimes] == 1])\n",
    "    count_no = len(df.loc[((df[col_yes] == 0) & (df_acute[col_sometimes] == 0))])\n",
    "    return count_yes, count_sometimes, count_no\n",
    "\n",
    "def print_name_perc_count(val, count, total):\n",
    "    perc = (count / total) * 100.0\n",
    "    print(f'{val}: {perc:.0f}% ({count}/{total})')"
   ]
  },
  {
   "cell_type": "code",
   "execution_count": 43,
   "id": "21f75cfd-3ebe-40b6-9391-b06b4b5a140f",
   "metadata": {},
   "outputs": [
    {
     "name": "stdout",
     "output_type": "stream",
     "text": [
      "ivtcandidates\n",
      "Yes: 80% (113/142)\n",
      "No: 11% (16/142)\n",
      "Sometimes: 9% (13/142)\n",
      "\n",
      "National Results:  ['Yes: 80% (113/142)', 'No: 11% (16/142)', 'Sometimes: 9% (13/142)']\n",
      "\n",
      "fastpositive\n",
      "Yes: 69% (98/142)\n",
      "No: 11% (15/142)\n",
      "Sometimes: 20% (29/142)\n",
      "\n",
      "National Results:  ['Yes: 69% (98/142)', 'No: 11% (15/142)', 'Sometimes: 20% (29/142)']\n",
      "\n",
      "othersuspectedstroke\n",
      "Yes: 37% (52/142)\n",
      "No: 15% (22/142)\n",
      "Sometimes: 48% (68/142)\n",
      "\n",
      "National Results:  ['Yes: 37% (52/142)', 'No: 15% (22/142)', 'Sometimes: 48% (68/142)']\n",
      "\n"
     ]
    }
   ],
   "source": [
    "for patients in ['ivtcandidates', 'fastpositive', 'othersuspectedstroke']:\n",
    "    print(patients)\n",
    "    count_yes, count_sometimes, count_no = find_count_yes_no_sometimes(\n",
    "        df_acute, \n",
    "        f'ki6_prealert_{patients}_yes',\n",
    "        f'ki6_prealert_{patients}_sometimes',\n",
    "    )\n",
    "    \n",
    "    print_name_perc_count('Yes', count_yes, len(df_acute))\n",
    "    print_name_perc_count('No', count_no, len(df_acute))\n",
    "    print_name_perc_count('Sometimes', count_sometimes, len(df_acute))\n",
    "    print('')\n",
    "    print('National Results: ', df_national[f'ki6_prealert_{patients}'].values[0].split('_x000D_\\n'))\n",
    "    print('')"
   ]
  },
  {
   "cell_type": "code",
   "execution_count": 44,
   "id": "edf9c451-4acf-436b-a158-e7e96bcaeef9",
   "metadata": {},
   "outputs": [
    {
     "data": {
      "text/html": [
       "<div>\n",
       "<style scoped>\n",
       "    .dataframe tbody tr th:only-of-type {\n",
       "        vertical-align: middle;\n",
       "    }\n",
       "\n",
       "    .dataframe tbody tr th {\n",
       "        vertical-align: top;\n",
       "    }\n",
       "\n",
       "    .dataframe thead th {\n",
       "        text-align: right;\n",
       "    }\n",
       "</style>\n",
       "<table border=\"1\" class=\"dataframe\">\n",
       "  <thead>\n",
       "    <tr style=\"text-align: right;\">\n",
       "      <th></th>\n",
       "      <th>National Results</th>\n",
       "      <th>From full data</th>\n",
       "    </tr>\n",
       "  </thead>\n",
       "  <tbody>\n",
       "    <tr>\n",
       "      <th>ki6_prealert_strokenurse</th>\n",
       "      <td>44% (63/142)</td>\n",
       "      <td>63</td>\n",
       "    </tr>\n",
       "    <tr>\n",
       "      <th>ki6_prealert_juniordoctor</th>\n",
       "      <td>13% (19/142)</td>\n",
       "      <td>19</td>\n",
       "    </tr>\n",
       "    <tr>\n",
       "      <th>ki6_prealert_consultant</th>\n",
       "      <td>12% (17/142)</td>\n",
       "      <td>17</td>\n",
       "    </tr>\n",
       "  </tbody>\n",
       "</table>\n",
       "</div>"
      ],
      "text/plain": [
       "                          National Results From full data\n",
       "ki6_prealert_strokenurse      44% (63/142)             63\n",
       "ki6_prealert_juniordoctor     13% (19/142)             19\n",
       "ki6_prealert_consultant       12% (17/142)             17"
      ]
     },
     "metadata": {},
     "output_type": "display_data"
    }
   ],
   "source": [
    "check_count(df_acute, df_national, ki_cols=cols_ki6_answers)"
   ]
  },
  {
   "cell_type": "markdown",
   "id": "e56cfb58-0bf7-4175-8081-636d19825b92",
   "metadata": {},
   "source": [
    "## Key indicator 7: early supported discharge"
   ]
  },
  {
   "cell_type": "code",
   "execution_count": 45,
   "id": "def6a862-59d5-4da6-bdba-aeb59bcf2590",
   "metadata": {},
   "outputs": [],
   "source": [
    "ki_str = 'ki7'"
   ]
  },
  {
   "cell_type": "code",
   "execution_count": 46,
   "id": "4439f5e0-142f-4261-ab69-6c070689161f",
   "metadata": {},
   "outputs": [
    {
     "name": "stdout",
     "output_type": "stream",
     "text": [
      "National results: 63% (107/169)\n",
      "From full data  : 63% (107/169)\n"
     ]
    }
   ],
   "source": [
    "check_total(df, df_national, ki_str)"
   ]
  },
  {
   "cell_type": "code",
   "execution_count": 47,
   "id": "960146ec-86bb-4374-b570-62c46d9347bc",
   "metadata": {},
   "outputs": [
    {
     "data": {
      "text/html": [
       "<div>\n",
       "<style scoped>\n",
       "    .dataframe tbody tr th:only-of-type {\n",
       "        vertical-align: middle;\n",
       "    }\n",
       "\n",
       "    .dataframe tbody tr th {\n",
       "        vertical-align: top;\n",
       "    }\n",
       "\n",
       "    .dataframe thead th {\n",
       "        text-align: right;\n",
       "    }\n",
       "</style>\n",
       "<table border=\"1\" class=\"dataframe\">\n",
       "  <thead>\n",
       "    <tr style=\"text-align: right;\">\n",
       "      <th></th>\n",
       "      <th>National Results</th>\n",
       "      <th>From full data</th>\n",
       "    </tr>\n",
       "  </thead>\n",
       "  <tbody>\n",
       "    <tr>\n",
       "      <th>ki7_stroke_esd_team</th>\n",
       "      <td>85% (143/169)</td>\n",
       "      <td>143</td>\n",
       "    </tr>\n",
       "  </tbody>\n",
       "</table>\n",
       "</div>"
      ],
      "text/plain": [
       "                    National Results From full data\n",
       "ki7_stroke_esd_team    85% (143/169)            143"
      ]
     },
     "metadata": {},
     "output_type": "display_data"
    }
   ],
   "source": [
    "check_count(df, df_national, ki_cols=['ki7_stroke_esd_team'])"
   ]
  },
  {
   "cell_type": "markdown",
   "id": "306a8fa8-c15c-4b45-a2a4-015142b36013",
   "metadata": {},
   "source": [
    "To check the next one, need to mask by only teams that allow access to an ESD team:"
   ]
  },
  {
   "cell_type": "code",
   "execution_count": 48,
   "id": "26e77f3d-16a2-47d2-aead-399574b3f969",
   "metadata": {},
   "outputs": [],
   "source": [
    "df_esd = df.loc[df['ki7_stroke_esd_team'] == 1]"
   ]
  },
  {
   "cell_type": "code",
   "execution_count": 49,
   "id": "86afaaad-e210-4e04-ac13-bc1a960001fd",
   "metadata": {},
   "outputs": [
    {
     "data": {
      "text/html": [
       "<div>\n",
       "<style scoped>\n",
       "    .dataframe tbody tr th:only-of-type {\n",
       "        vertical-align: middle;\n",
       "    }\n",
       "\n",
       "    .dataframe tbody tr th {\n",
       "        vertical-align: top;\n",
       "    }\n",
       "\n",
       "    .dataframe thead th {\n",
       "        text-align: right;\n",
       "    }\n",
       "</style>\n",
       "<table border=\"1\" class=\"dataframe\">\n",
       "  <thead>\n",
       "    <tr style=\"text-align: right;\">\n",
       "      <th></th>\n",
       "      <th>National Results</th>\n",
       "      <th>0.5</th>\n",
       "      <th>0.25</th>\n",
       "      <th>0.75</th>\n",
       "    </tr>\n",
       "  </thead>\n",
       "  <tbody>\n",
       "    <tr>\n",
       "      <th>ki7_percent_access_to_stroke_esd_team</th>\n",
       "      <td>100 (67-100)_x000D_\\nMedian (IQR)</td>\n",
       "      <td>1.0</td>\n",
       "      <td>0.67</td>\n",
       "      <td>1.0</td>\n",
       "    </tr>\n",
       "  </tbody>\n",
       "</table>\n",
       "</div>"
      ],
      "text/plain": [
       "                                                        National Results  0.5  \\\n",
       "ki7_percent_access_to_stroke_esd_team  100 (67-100)_x000D_\\nMedian (IQR)  1.0   \n",
       "\n",
       "                                       0.25 0.75  \n",
       "ki7_percent_access_to_stroke_esd_team  0.67  1.0  "
      ]
     },
     "metadata": {},
     "output_type": "display_data"
    }
   ],
   "source": [
    "check_iqr(df_esd, df_national, ki_cols=['ki7_percent_access_to_stroke_esd_team'])"
   ]
  },
  {
   "cell_type": "markdown",
   "id": "d42f53a3-202f-4584-9fc1-5051fdb1b0b2",
   "metadata": {},
   "source": [
    "^ the numbers are right, only the national results are in % and the full data results are scaled to between 0 and 1."
   ]
  },
  {
   "cell_type": "markdown",
   "id": "11aeb6da-ff70-4ec0-933c-0f2d7b837e20",
   "metadata": {},
   "source": [
    "## Key indicator 8: patient and carer survey"
   ]
  },
  {
   "cell_type": "code",
   "execution_count": 50,
   "id": "3e8104bb-36fe-4106-8006-13ee83cc7acc",
   "metadata": {},
   "outputs": [],
   "source": [
    "ki_str = 'ki8'"
   ]
  },
  {
   "cell_type": "code",
   "execution_count": 51,
   "id": "b7806159-4374-45b8-9ce9-3ca8a585d747",
   "metadata": {},
   "outputs": [
    {
     "name": "stdout",
     "output_type": "stream",
     "text": [
      "National results: 56% (95/169)\n",
      "From full data  : 56% (95/169)\n"
     ]
    }
   ],
   "source": [
    "check_total(df, df_national, ki_str)"
   ]
  },
  {
   "cell_type": "code",
   "execution_count": 52,
   "id": "2348e141-2653-4949-8721-c7bbd6eb9713",
   "metadata": {},
   "outputs": [
    {
     "name": "stdout",
     "output_type": "stream",
     "text": [
      "Never: 21% (35/169)\n",
      "Less than once a year: 23% (39/169)\n",
      "1-2 times a year: 20% (33/169)\n",
      "3-4 times a year: 4% (6/169)\n",
      "More than 4 a year: 8% (14/169)\n",
      "Continuous (every patient): 25% (42/169)\n"
     ]
    }
   ],
   "source": [
    "for a in df_national['ki8_patientcarersurvey_frequency'].values:\n",
    "    print(a)"
   ]
  },
  {
   "cell_type": "code",
   "execution_count": 53,
   "id": "ac0e7292-39e8-4cc7-8555-ff315b4ec701",
   "metadata": {},
   "outputs": [
    {
     "data": {
      "text/html": [
       "<div>\n",
       "<style scoped>\n",
       "    .dataframe tbody tr th:only-of-type {\n",
       "        vertical-align: middle;\n",
       "    }\n",
       "\n",
       "    .dataframe tbody tr th {\n",
       "        vertical-align: top;\n",
       "    }\n",
       "\n",
       "    .dataframe thead th {\n",
       "        text-align: right;\n",
       "    }\n",
       "</style>\n",
       "<table border=\"1\" class=\"dataframe\">\n",
       "  <thead>\n",
       "    <tr style=\"text-align: right;\">\n",
       "      <th></th>\n",
       "      <th>From full data</th>\n",
       "    </tr>\n",
       "  </thead>\n",
       "  <tbody>\n",
       "    <tr>\n",
       "      <th>ki8_patientcarersurvey_frequency_never</th>\n",
       "      <td>35</td>\n",
       "    </tr>\n",
       "    <tr>\n",
       "      <th>ki8_patientcarersurvey_frequency_less1peryear</th>\n",
       "      <td>39</td>\n",
       "    </tr>\n",
       "    <tr>\n",
       "      <th>ki8_patientcarersurvey_frequency_1to2peryear</th>\n",
       "      <td>33</td>\n",
       "    </tr>\n",
       "    <tr>\n",
       "      <th>ki8_patientcarersurvey_frequency_3to4peryear</th>\n",
       "      <td>6</td>\n",
       "    </tr>\n",
       "    <tr>\n",
       "      <th>ki8_patientcarersurvey_frequency_more4peryear</th>\n",
       "      <td>14</td>\n",
       "    </tr>\n",
       "    <tr>\n",
       "      <th>ki8_patientcarersurvey_frequency_everypatient</th>\n",
       "      <td>42</td>\n",
       "    </tr>\n",
       "  </tbody>\n",
       "</table>\n",
       "</div>"
      ],
      "text/plain": [
       "                                               From full data\n",
       "ki8_patientcarersurvey_frequency_never                     35\n",
       "ki8_patientcarersurvey_frequency_less1peryear              39\n",
       "ki8_patientcarersurvey_frequency_1to2peryear               33\n",
       "ki8_patientcarersurvey_frequency_3to4peryear                6\n",
       "ki8_patientcarersurvey_frequency_more4peryear              14\n",
       "ki8_patientcarersurvey_frequency_everypatient              42"
      ]
     },
     "metadata": {},
     "output_type": "display_data"
    }
   ],
   "source": [
    "ki8_cols = [\n",
    "    'ki8_patientcarersurvey_frequency_never',\n",
    "    'ki8_patientcarersurvey_frequency_less1peryear',\n",
    "    'ki8_patientcarersurvey_frequency_1to2peryear',\n",
    "    'ki8_patientcarersurvey_frequency_3to4peryear',\n",
    "    'ki8_patientcarersurvey_frequency_more4peryear',\n",
    "    'ki8_patientcarersurvey_frequency_everypatient'\n",
    "]\n",
    "\n",
    "check_count(df, df_national, ki_cols=ki8_cols)"
   ]
  },
  {
   "cell_type": "markdown",
   "id": "4f91f126-3bb5-4728-bc90-037f2b90f262",
   "metadata": {},
   "source": [
    "## Key indicator 9: brain imaging type"
   ]
  },
  {
   "cell_type": "code",
   "execution_count": 54,
   "id": "e809d435-96b1-49c2-8fe9-7a84b6e311a5",
   "metadata": {},
   "outputs": [],
   "source": [
    "ki_str = 'ki9'"
   ]
  },
  {
   "cell_type": "code",
   "execution_count": 55,
   "id": "152f25c6-e8ad-45eb-aec1-feb470a2d666",
   "metadata": {},
   "outputs": [
    {
     "name": "stdout",
     "output_type": "stream",
     "text": [
      "National results: 33% (56/169)\n",
      "From full data  : 33% (56/169)\n"
     ]
    }
   ],
   "source": [
    "check_total(df, df_national, ki_str)"
   ]
  },
  {
   "cell_type": "code",
   "execution_count": 56,
   "id": "c140cab0-3176-4cdf-a5e4-53712f795922",
   "metadata": {},
   "outputs": [
    {
     "data": {
      "text/plain": [
       "['Computed Tomography: 50% (85/169)',\n",
       " 'Magnetic Resonance Imaging: 45% (76/169)',\n",
       " 'Rarely image TIAs: 5% (8/169)']"
      ]
     },
     "execution_count": 56,
     "metadata": {},
     "output_type": "execute_result"
    }
   ],
   "source": [
    "df_national['ki9_tia_brainimaging_mostused'].values[0].split('\\n')"
   ]
  },
  {
   "cell_type": "code",
   "execution_count": 57,
   "id": "64f64461-882e-4fe4-8cc4-fe9ad6a76ee6",
   "metadata": {},
   "outputs": [
    {
     "data": {
      "text/html": [
       "<div>\n",
       "<style scoped>\n",
       "    .dataframe tbody tr th:only-of-type {\n",
       "        vertical-align: middle;\n",
       "    }\n",
       "\n",
       "    .dataframe tbody tr th {\n",
       "        vertical-align: top;\n",
       "    }\n",
       "\n",
       "    .dataframe thead th {\n",
       "        text-align: right;\n",
       "    }\n",
       "</style>\n",
       "<table border=\"1\" class=\"dataframe\">\n",
       "  <thead>\n",
       "    <tr style=\"text-align: right;\">\n",
       "      <th></th>\n",
       "      <th>From full data</th>\n",
       "    </tr>\n",
       "  </thead>\n",
       "  <tbody>\n",
       "    <tr>\n",
       "      <th>ki9_tia_brainimaging_mostused_ct</th>\n",
       "      <td>85</td>\n",
       "    </tr>\n",
       "    <tr>\n",
       "      <th>ki9_tia_brainimaging_mostused_mri</th>\n",
       "      <td>76</td>\n",
       "    </tr>\n",
       "    <tr>\n",
       "      <th>ki9_tia_brainimaging_mostused_rare</th>\n",
       "      <td>8</td>\n",
       "    </tr>\n",
       "  </tbody>\n",
       "</table>\n",
       "</div>"
      ],
      "text/plain": [
       "                                    From full data\n",
       "ki9_tia_brainimaging_mostused_ct                85\n",
       "ki9_tia_brainimaging_mostused_mri               76\n",
       "ki9_tia_brainimaging_mostused_rare               8"
      ]
     },
     "metadata": {},
     "output_type": "display_data"
    }
   ],
   "source": [
    "ki9_cols = [\n",
    "    'ki9_tia_brainimaging_mostused_ct', \n",
    "    'ki9_tia_brainimaging_mostused_mri',\n",
    "    'ki9_tia_brainimaging_mostused_rare',\n",
    "]\n",
    "\n",
    "check_count(df, df_national, ki_cols=ki9_cols)"
   ]
  },
  {
   "cell_type": "markdown",
   "id": "145bdb5b-1fa3-452e-bbac-4d783022761f",
   "metadata": {},
   "source": [
    "Mask by units with TIA clinics:"
   ]
  },
  {
   "cell_type": "code",
   "execution_count": 58,
   "id": "a7d4ca34-6281-4b3a-b498-6f272274712b",
   "metadata": {},
   "outputs": [],
   "source": [
    "df_tia = df.loc[df['ki9_tia_clinic'] == 1]"
   ]
  },
  {
   "cell_type": "code",
   "execution_count": 59,
   "id": "8a182911-93ca-4eaf-b96e-941c18db2f39",
   "metadata": {},
   "outputs": [
    {
     "data": {
      "text/html": [
       "<div>\n",
       "<style scoped>\n",
       "    .dataframe tbody tr th:only-of-type {\n",
       "        vertical-align: middle;\n",
       "    }\n",
       "\n",
       "    .dataframe tbody tr th {\n",
       "        vertical-align: top;\n",
       "    }\n",
       "\n",
       "    .dataframe thead th {\n",
       "        text-align: right;\n",
       "    }\n",
       "</style>\n",
       "<table border=\"1\" class=\"dataframe\">\n",
       "  <thead>\n",
       "    <tr style=\"text-align: right;\">\n",
       "      <th></th>\n",
       "      <th>National Results</th>\n",
       "      <th>From full data</th>\n",
       "    </tr>\n",
       "  </thead>\n",
       "  <tbody>\n",
       "    <tr>\n",
       "      <th>ki9_tia_outpatients_seen</th>\n",
       "      <td>99% (160/162)</td>\n",
       "      <td>160</td>\n",
       "    </tr>\n",
       "  </tbody>\n",
       "</table>\n",
       "</div>"
      ],
      "text/plain": [
       "                         National Results From full data\n",
       "ki9_tia_outpatients_seen    99% (160/162)            160"
      ]
     },
     "metadata": {},
     "output_type": "display_data"
    }
   ],
   "source": [
    "check_count(df_tia, df_national, ki_cols=['ki9_tia_outpatients_seen'])"
   ]
  },
  {
   "cell_type": "code",
   "execution_count": 60,
   "id": "5b9f8cb3-85b7-4a55-bab7-c8a4b8c2b223",
   "metadata": {},
   "outputs": [
    {
     "data": {
      "text/plain": [
       "['The same day (7 days a week): 31% (50/160)',\n",
       " 'The same day (5 days a week): 26% (41/160)',\n",
       " 'The next day: 14% (23/160)',\n",
       " 'The next weekday: 8% (13/160)',\n",
       " 'Within a week: 19% (31/160)',\n",
       " 'Within a month: 1% (2/160)',\n",
       " 'Longer than a month: 0% (0/160)']"
      ]
     },
     "execution_count": 60,
     "metadata": {},
     "output_type": "execute_result"
    }
   ],
   "source": [
    "df_national['ki9_tia_outpatient_timescale'].values[0].split('_x000D_\\n')"
   ]
  },
  {
   "cell_type": "code",
   "execution_count": 61,
   "id": "6e94e08a-3761-46f8-942c-8505918f3a36",
   "metadata": {},
   "outputs": [
    {
     "data": {
      "text/html": [
       "<div>\n",
       "<style scoped>\n",
       "    .dataframe tbody tr th:only-of-type {\n",
       "        vertical-align: middle;\n",
       "    }\n",
       "\n",
       "    .dataframe tbody tr th {\n",
       "        vertical-align: top;\n",
       "    }\n",
       "\n",
       "    .dataframe thead th {\n",
       "        text-align: right;\n",
       "    }\n",
       "</style>\n",
       "<table border=\"1\" class=\"dataframe\">\n",
       "  <thead>\n",
       "    <tr style=\"text-align: right;\">\n",
       "      <th></th>\n",
       "      <th>From full data</th>\n",
       "    </tr>\n",
       "  </thead>\n",
       "  <tbody>\n",
       "    <tr>\n",
       "      <th>ki9_tia_outpatient_timescale_sameday</th>\n",
       "      <td>50</td>\n",
       "    </tr>\n",
       "    <tr>\n",
       "      <th>ki9_tia_outpatient_timescale_samedayexcludingweekends</th>\n",
       "      <td>41</td>\n",
       "    </tr>\n",
       "    <tr>\n",
       "      <th>ki9_tia_outpatient_timescale_nextday</th>\n",
       "      <td>23</td>\n",
       "    </tr>\n",
       "    <tr>\n",
       "      <th>ki9_tia_outpatient_timescale_nextweekday</th>\n",
       "      <td>13</td>\n",
       "    </tr>\n",
       "    <tr>\n",
       "      <th>ki9_tia_outpatient_timescale_withinweek</th>\n",
       "      <td>31</td>\n",
       "    </tr>\n",
       "    <tr>\n",
       "      <th>ki9_tia_outpatient_timescale_withinmonth</th>\n",
       "      <td>2</td>\n",
       "    </tr>\n",
       "    <tr>\n",
       "      <th>ki9_tia_outpatient_timescale_aftermonth</th>\n",
       "      <td>0</td>\n",
       "    </tr>\n",
       "  </tbody>\n",
       "</table>\n",
       "</div>"
      ],
      "text/plain": [
       "                                                    From full data\n",
       "ki9_tia_outpatient_timescale_sameday                            50\n",
       "ki9_tia_outpatient_timescale_samedayexcludingwe...              41\n",
       "ki9_tia_outpatient_timescale_nextday                            23\n",
       "ki9_tia_outpatient_timescale_nextweekday                        13\n",
       "ki9_tia_outpatient_timescale_withinweek                         31\n",
       "ki9_tia_outpatient_timescale_withinmonth                         2\n",
       "ki9_tia_outpatient_timescale_aftermonth                          0"
      ]
     },
     "metadata": {},
     "output_type": "display_data"
    }
   ],
   "source": [
    "ki9_cols = [\n",
    "   'ki9_tia_outpatient_timescale_sameday',\n",
    "   'ki9_tia_outpatient_timescale_samedayexcludingweekends',\n",
    "   'ki9_tia_outpatient_timescale_nextday',\n",
    "   'ki9_tia_outpatient_timescale_nextweekday',\n",
    "   'ki9_tia_outpatient_timescale_withinweek', \n",
    "   'ki9_tia_outpatient_timescale_withinmonth',\n",
    "   'ki9_tia_outpatient_timescale_aftermonth',\n",
    "]\n",
    "\n",
    "check_count(df, df_national, ki_cols=ki9_cols)"
   ]
  },
  {
   "cell_type": "markdown",
   "id": "d1b4dd2b-7a9b-4c4a-bf02-313f7d0f9151",
   "metadata": {},
   "source": [
    "## Key indicator 10: leadership"
   ]
  },
  {
   "cell_type": "code",
   "execution_count": 62,
   "id": "7f456a8f-036e-457f-9d6f-dc4a0e2260a0",
   "metadata": {},
   "outputs": [],
   "source": [
    "ki_str = 'ki10'"
   ]
  },
  {
   "cell_type": "code",
   "execution_count": 63,
   "id": "6ea7740f-4a54-4c45-9859-40496e57ac8c",
   "metadata": {},
   "outputs": [
    {
     "name": "stdout",
     "output_type": "stream",
     "text": [
      "National results: 63% (106/169)\n",
      "From full data  : 63% (106/169)\n"
     ]
    }
   ],
   "source": [
    "check_total(df, df_national, ki_str)"
   ]
  },
  {
   "cell_type": "code",
   "execution_count": 64,
   "id": "5ae1b31b-9aa4-4b69-bb99-96f509ea4b48",
   "metadata": {},
   "outputs": [
    {
     "data": {
      "text/html": [
       "<div>\n",
       "<style scoped>\n",
       "    .dataframe tbody tr th:only-of-type {\n",
       "        vertical-align: middle;\n",
       "    }\n",
       "\n",
       "    .dataframe tbody tr th {\n",
       "        vertical-align: top;\n",
       "    }\n",
       "\n",
       "    .dataframe thead th {\n",
       "        text-align: right;\n",
       "    }\n",
       "</style>\n",
       "<table border=\"1\" class=\"dataframe\">\n",
       "  <thead>\n",
       "    <tr style=\"text-align: right;\">\n",
       "      <th></th>\n",
       "      <th>National Results</th>\n",
       "      <th>From full data</th>\n",
       "    </tr>\n",
       "  </thead>\n",
       "  <tbody>\n",
       "    <tr>\n",
       "      <th>ki10_management_executiveonboard</th>\n",
       "      <td>58% (98/169)</td>\n",
       "      <td>98</td>\n",
       "    </tr>\n",
       "    <tr>\n",
       "      <th>ki10_management_nonexecutiveonboard</th>\n",
       "      <td>17% (28/169)</td>\n",
       "      <td>28</td>\n",
       "    </tr>\n",
       "    <tr>\n",
       "      <th>ki10_management_chairmanofclinicalgovernance</th>\n",
       "      <td>25% (43/169)</td>\n",
       "      <td>43</td>\n",
       "    </tr>\n",
       "  </tbody>\n",
       "</table>\n",
       "</div>"
      ],
      "text/plain": [
       "                                             National Results From full data\n",
       "ki10_management_executiveonboard                 58% (98/169)             98\n",
       "ki10_management_nonexecutiveonboard              17% (28/169)             28\n",
       "ki10_management_chairmanofclinicalgovernance     25% (43/169)             43"
      ]
     },
     "metadata": {},
     "output_type": "display_data"
    }
   ],
   "source": [
    "ki10_cols = [\n",
    "    'ki10_management_executiveonboard',\n",
    "    'ki10_management_nonexecutiveonboard',\n",
    "    'ki10_management_chairmanofclinicalgovernance',\n",
    "]\n",
    "\n",
    "check_count(df, df_national, ki_cols=ki10_cols)"
   ]
  }
 ],
 "metadata": {
  "kernelspec": {
   "display_name": "Python 3 (ipykernel)",
   "language": "python",
   "name": "python3"
  },
  "language_info": {
   "codemirror_mode": {
    "name": "ipython",
    "version": 3
   },
   "file_extension": ".py",
   "mimetype": "text/x-python",
   "name": "python",
   "nbconvert_exporter": "python",
   "pygments_lexer": "ipython3",
   "version": "3.9.16"
  }
 },
 "nbformat": 4,
 "nbformat_minor": 5
}
