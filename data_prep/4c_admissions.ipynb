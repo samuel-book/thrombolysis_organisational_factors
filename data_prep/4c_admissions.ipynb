{
 "cells": [
  {
   "cell_type": "markdown",
   "id": "8476287c-ca57-41ce-a26d-acdc5e3a23bd",
   "metadata": {},
   "source": [
    "# Admission numbers vs Key Indicators\n",
    "\n",
    "__NOTE__: Welsh LSOAs and so stroke units have zero admissions."
   ]
  },
  {
   "cell_type": "code",
   "execution_count": 1,
   "id": "c1f1b06a-3360-423f-beb7-934bc438f278",
   "metadata": {},
   "outputs": [],
   "source": [
    "import os\n",
    "import pandas as pd\n",
    "import numpy as np  # for NaN\n",
    "import statsmodels.api as sm"
   ]
  },
  {
   "cell_type": "code",
   "execution_count": 2,
   "id": "957d2984-bfb7-4c8d-a903-4d6ccaa07f0d",
   "metadata": {},
   "outputs": [],
   "source": [
    "from scipy.stats import pearsonr"
   ]
  },
  {
   "cell_type": "code",
   "execution_count": 3,
   "id": "b1b97b51-e5c3-4b86-b6c4-e4bacd1d3e05",
   "metadata": {},
   "outputs": [],
   "source": [
    "import matplotlib.pyplot as plt"
   ]
  },
  {
   "cell_type": "code",
   "execution_count": 4,
   "id": "df58deff-b5ff-429e-818a-3e259bf4fc63",
   "metadata": {},
   "outputs": [],
   "source": [
    "from sklearn.linear_model import LinearRegression"
   ]
  },
  {
   "cell_type": "code",
   "execution_count": 5,
   "id": "99d007f6-0f23-4d4f-851d-910660e8045d",
   "metadata": {},
   "outputs": [],
   "source": [
    "from sklearn.linear_model import LogisticRegression\n",
    "from scipy.special import expit"
   ]
  },
  {
   "cell_type": "markdown",
   "id": "5ab89f54-b7dd-43b9-b077-9a36f9a45c0c",
   "metadata": {},
   "source": [
    "### Import data"
   ]
  },
  {
   "cell_type": "code",
   "execution_count": 6,
   "id": "d93bb5dd-7aa8-4bb4-8c8b-f64e76c37351",
   "metadata": {},
   "outputs": [],
   "source": [
    "dir_files = '../data/organisational_audit/processed'\n",
    "file_excel = 'processed_2019_portfolio_key_indicators_summary_numeric_shap.csv'"
   ]
  },
  {
   "cell_type": "code",
   "execution_count": 7,
   "id": "213d58c4-cf5c-4e5b-88f7-e33d7b4b089c",
   "metadata": {},
   "outputs": [],
   "source": [
    "df = pd.read_csv(os.path.join(dir_files, file_excel))"
   ]
  },
  {
   "cell_type": "code",
   "execution_count": 8,
   "id": "fd669859-96a8-4b8b-8571-eb622a6b07f6",
   "metadata": {},
   "outputs": [
    {
     "data": {
      "text/plain": [
       "Index(['Hospital names', 'acute_unit', 'bed1', 'bed3', 'ki_total', 'ki1',\n",
       "       'ki1_nurses6_wte', 'ki1_nurses7_wte', 'ki2', 'ki2_psych_wte', 'ki3',\n",
       "       'ki3_strokenurse_outofhours', 'ki4',\n",
       "       'ki4_minimum_nurse_bed1_saturdays10am',\n",
       "       'ki4_minimum_nurse_bed1_sundays10am',\n",
       "       'ki4_minimum_nurse_bed3_saturdays10am',\n",
       "       'ki4_minimum_nurse_bed3_sundays10am', 'ki5',\n",
       "       'ki5_occupationaltherapy_7days', 'ki5_physiotherapy_7days',\n",
       "       'ki5_speechlanguagetherapy_7days', 'ki6', 'ki6_prealert_consultant',\n",
       "       'ki6_prealert_fastpositive_sometimes', 'ki6_prealert_fastpositive_yes',\n",
       "       'ki6_prealert_ivtcandidates_sometimes',\n",
       "       'ki6_prealert_ivtcandidates_yes', 'ki6_prealert_juniordoctor',\n",
       "       'ki6_prealert_othersuspectedstroke_sometimes',\n",
       "       'ki6_prealert_othersuspectedstroke_yes', 'ki6_prealert_strokenurse',\n",
       "       'ki7', 'ki7_percent_access_to_stroke_esd_team', 'ki7_stroke_esd_team',\n",
       "       'ki8', 'ki8_patientcarersurvey_frequency_1to2peryear',\n",
       "       'ki8_patientcarersurvey_frequency_3to4peryear',\n",
       "       'ki8_patientcarersurvey_frequency_everypatient',\n",
       "       'ki8_patientcarersurvey_frequency_less1peryear',\n",
       "       'ki8_patientcarersurvey_frequency_more4peryear',\n",
       "       'ki8_patientcarersurvey_frequency_never', 'ki9',\n",
       "       'ki9_tia_brainimaging_mostused_ct', 'ki9_tia_brainimaging_mostused_mri',\n",
       "       'ki9_tia_brainimaging_mostused_rare', 'ki9_tia_clinic',\n",
       "       'ki9_tia_outpatient_timescale_aftermonth',\n",
       "       'ki9_tia_outpatient_timescale_nextday',\n",
       "       'ki9_tia_outpatient_timescale_nextweekday',\n",
       "       'ki9_tia_outpatient_timescale_sameday',\n",
       "       'ki9_tia_outpatient_timescale_samedayexcludingweekends',\n",
       "       'ki9_tia_outpatient_timescale_withinmonth',\n",
       "       'ki9_tia_outpatient_timescale_withinweek', 'ki9_tia_outpatients_seen',\n",
       "       'ki10', 'ki10_management_chairmanofclinicalgovernance',\n",
       "       'ki10_management_executiveonboard',\n",
       "       'ki10_management_nonexecutiveonboard', 'team_samuel', 'stroke_team_id',\n",
       "       'shap_mean', 'Rank'],\n",
       "      dtype='object')"
      ]
     },
     "execution_count": 8,
     "metadata": {},
     "output_type": "execute_result"
    }
   ],
   "source": [
    "df.columns"
   ]
  },
  {
   "cell_type": "code",
   "execution_count": 9,
   "id": "81e6ff31-8fac-41e1-9982-718fe3027744",
   "metadata": {},
   "outputs": [
    {
     "data": {
      "text/plain": [
       "0                 Queens Hospital Romford HASU\n",
       "1                   Royal London Hospital HASU\n",
       "2                  Charing Cross Hospital HASU\n",
       "3                 King's College Hospital HASU\n",
       "4      Princess Royal University Hospital HASU\n",
       "                        ...                   \n",
       "111                         West Wales General\n",
       "112                 Withybush General Hospital\n",
       "113                     Prince Philip Hospital\n",
       "114                         Bronglais Hospital\n",
       "115                         Morriston Hospital\n",
       "Name: team_samuel, Length: 116, dtype: object"
      ]
     },
     "execution_count": 9,
     "metadata": {},
     "output_type": "execute_result"
    }
   ],
   "source": [
    "df['team_samuel']"
   ]
  },
  {
   "cell_type": "code",
   "execution_count": 10,
   "id": "ae396102-bd20-493c-8dee-fe87e995eb42",
   "metadata": {},
   "outputs": [],
   "source": [
    "dir_files = '../data_samuel2'\n",
    "file_excel = 'admissions_2017-2019.csv'"
   ]
  },
  {
   "cell_type": "code",
   "execution_count": 11,
   "id": "0d69da86-c93b-472b-902e-4f907a25c66c",
   "metadata": {},
   "outputs": [],
   "source": [
    "df_admissions = pd.read_csv(os.path.join(dir_files, file_excel))"
   ]
  },
  {
   "cell_type": "code",
   "execution_count": 12,
   "id": "679b476e-6f7f-4ca1-9306-3ea59867c547",
   "metadata": {},
   "outputs": [
    {
     "data": {
      "text/plain": [
       "Index(['area', 'admissions'], dtype='object')"
      ]
     },
     "execution_count": 12,
     "metadata": {},
     "output_type": "execute_result"
    }
   ],
   "source": [
    "df_admissions.columns"
   ]
  },
  {
   "cell_type": "code",
   "execution_count": 13,
   "id": "58e2aab8-a1ee-4b42-847d-09c820c117af",
   "metadata": {},
   "outputs": [
    {
     "data": {
      "text/html": [
       "<div>\n",
       "<style scoped>\n",
       "    .dataframe tbody tr th:only-of-type {\n",
       "        vertical-align: middle;\n",
       "    }\n",
       "\n",
       "    .dataframe tbody tr th {\n",
       "        vertical-align: top;\n",
       "    }\n",
       "\n",
       "    .dataframe thead th {\n",
       "        text-align: right;\n",
       "    }\n",
       "</style>\n",
       "<table border=\"1\" class=\"dataframe\">\n",
       "  <thead>\n",
       "    <tr style=\"text-align: right;\">\n",
       "      <th></th>\n",
       "      <th>area</th>\n",
       "      <th>admissions</th>\n",
       "    </tr>\n",
       "  </thead>\n",
       "  <tbody>\n",
       "    <tr>\n",
       "      <th>0</th>\n",
       "      <td>Welwyn Hatfield 010F</td>\n",
       "      <td>0.666667</td>\n",
       "    </tr>\n",
       "    <tr>\n",
       "      <th>1</th>\n",
       "      <td>Welwyn Hatfield 012A</td>\n",
       "      <td>4.000000</td>\n",
       "    </tr>\n",
       "    <tr>\n",
       "      <th>2</th>\n",
       "      <td>Welwyn Hatfield 002F</td>\n",
       "      <td>2.000000</td>\n",
       "    </tr>\n",
       "    <tr>\n",
       "      <th>3</th>\n",
       "      <td>Welwyn Hatfield 002E</td>\n",
       "      <td>0.666667</td>\n",
       "    </tr>\n",
       "    <tr>\n",
       "      <th>4</th>\n",
       "      <td>Welwyn Hatfield 010A</td>\n",
       "      <td>3.333333</td>\n",
       "    </tr>\n",
       "    <tr>\n",
       "      <th>...</th>\n",
       "      <td>...</td>\n",
       "      <td>...</td>\n",
       "    </tr>\n",
       "    <tr>\n",
       "      <th>34747</th>\n",
       "      <td>Cardiff 006F</td>\n",
       "      <td>0.000000</td>\n",
       "    </tr>\n",
       "    <tr>\n",
       "      <th>34748</th>\n",
       "      <td>Swansea 025F</td>\n",
       "      <td>0.000000</td>\n",
       "    </tr>\n",
       "    <tr>\n",
       "      <th>34749</th>\n",
       "      <td>Swansea 023E</td>\n",
       "      <td>0.000000</td>\n",
       "    </tr>\n",
       "    <tr>\n",
       "      <th>34750</th>\n",
       "      <td>Swansea 025G</td>\n",
       "      <td>0.000000</td>\n",
       "    </tr>\n",
       "    <tr>\n",
       "      <th>34751</th>\n",
       "      <td>Swansea 025H</td>\n",
       "      <td>0.000000</td>\n",
       "    </tr>\n",
       "  </tbody>\n",
       "</table>\n",
       "<p>34752 rows × 2 columns</p>\n",
       "</div>"
      ],
      "text/plain": [
       "                       area  admissions\n",
       "0      Welwyn Hatfield 010F    0.666667\n",
       "1      Welwyn Hatfield 012A    4.000000\n",
       "2      Welwyn Hatfield 002F    2.000000\n",
       "3      Welwyn Hatfield 002E    0.666667\n",
       "4      Welwyn Hatfield 010A    3.333333\n",
       "...                     ...         ...\n",
       "34747          Cardiff 006F    0.000000\n",
       "34748          Swansea 025F    0.000000\n",
       "34749          Swansea 023E    0.000000\n",
       "34750          Swansea 025G    0.000000\n",
       "34751          Swansea 025H    0.000000\n",
       "\n",
       "[34752 rows x 2 columns]"
      ]
     },
     "execution_count": 13,
     "metadata": {},
     "output_type": "execute_result"
    }
   ],
   "source": [
    "df_admissions"
   ]
  },
  {
   "cell_type": "code",
   "execution_count": 14,
   "id": "33309a26-fbc2-4c1d-8e24-7a7a159d895d",
   "metadata": {},
   "outputs": [],
   "source": [
    "dir_files = '../data_samuel2'\n",
    "file_excel = 'lsoa_travel_time_matrix_calibrated.csv'"
   ]
  },
  {
   "cell_type": "code",
   "execution_count": 15,
   "id": "1f6f3cab-db4e-4861-9529-448b780b675f",
   "metadata": {},
   "outputs": [],
   "source": [
    "df_times = pd.read_csv(os.path.join(dir_files, file_excel), index_col=0)"
   ]
  },
  {
   "cell_type": "code",
   "execution_count": 16,
   "id": "aea264c1-e91d-45d3-acf5-d94b5a80e288",
   "metadata": {},
   "outputs": [
    {
     "data": {
      "text/plain": [
       "Index(['B152TH', 'B714HJ', 'B95SS', 'BA13NG', 'BA214AT', 'BB23HH', 'BD96RJ',\n",
       "       'BH77DW', 'BL97TD', 'BN112DH',\n",
       "       ...\n",
       "       'TN240LZ', 'TQ27AA', 'TR13LQ', 'TS198PE', 'TS43BW', 'WD180HB', 'WF14DG',\n",
       "       'WR51DD', 'WV100QP', 'YO318HE'],\n",
       "      dtype='object', length=125)"
      ]
     },
     "execution_count": 16,
     "metadata": {},
     "output_type": "execute_result"
    }
   ],
   "source": [
    "df_times.columns"
   ]
  },
  {
   "cell_type": "code",
   "execution_count": 17,
   "id": "01ad0ed6-7e1a-4659-adc5-f4100b0968a5",
   "metadata": {},
   "outputs": [
    {
     "data": {
      "text/html": [
       "<div>\n",
       "<style scoped>\n",
       "    .dataframe tbody tr th:only-of-type {\n",
       "        vertical-align: middle;\n",
       "    }\n",
       "\n",
       "    .dataframe tbody tr th {\n",
       "        vertical-align: top;\n",
       "    }\n",
       "\n",
       "    .dataframe thead th {\n",
       "        text-align: right;\n",
       "    }\n",
       "</style>\n",
       "<table border=\"1\" class=\"dataframe\">\n",
       "  <thead>\n",
       "    <tr style=\"text-align: right;\">\n",
       "      <th></th>\n",
       "      <th>B152TH</th>\n",
       "      <th>B714HJ</th>\n",
       "      <th>B95SS</th>\n",
       "      <th>BA13NG</th>\n",
       "      <th>BA214AT</th>\n",
       "      <th>BB23HH</th>\n",
       "      <th>BD96RJ</th>\n",
       "      <th>BH77DW</th>\n",
       "      <th>BL97TD</th>\n",
       "      <th>BN112DH</th>\n",
       "      <th>...</th>\n",
       "      <th>TN240LZ</th>\n",
       "      <th>TQ27AA</th>\n",
       "      <th>TR13LQ</th>\n",
       "      <th>TS198PE</th>\n",
       "      <th>TS43BW</th>\n",
       "      <th>WD180HB</th>\n",
       "      <th>WF14DG</th>\n",
       "      <th>WR51DD</th>\n",
       "      <th>WV100QP</th>\n",
       "      <th>YO318HE</th>\n",
       "    </tr>\n",
       "    <tr>\n",
       "      <th>LSOA</th>\n",
       "      <th></th>\n",
       "      <th></th>\n",
       "      <th></th>\n",
       "      <th></th>\n",
       "      <th></th>\n",
       "      <th></th>\n",
       "      <th></th>\n",
       "      <th></th>\n",
       "      <th></th>\n",
       "      <th></th>\n",
       "      <th></th>\n",
       "      <th></th>\n",
       "      <th></th>\n",
       "      <th></th>\n",
       "      <th></th>\n",
       "      <th></th>\n",
       "      <th></th>\n",
       "      <th></th>\n",
       "      <th></th>\n",
       "      <th></th>\n",
       "      <th></th>\n",
       "    </tr>\n",
       "  </thead>\n",
       "  <tbody>\n",
       "    <tr>\n",
       "      <th>Adur 001A</th>\n",
       "      <td>173.3</td>\n",
       "      <td>179.8</td>\n",
       "      <td>171.2</td>\n",
       "      <td>161.5</td>\n",
       "      <td>152.9</td>\n",
       "      <td>274.3</td>\n",
       "      <td>261.4</td>\n",
       "      <td>100.3</td>\n",
       "      <td>262.5</td>\n",
       "      <td>18.7</td>\n",
       "      <td>...</td>\n",
       "      <td>89.6</td>\n",
       "      <td>212.0</td>\n",
       "      <td>291.5</td>\n",
       "      <td>310.8</td>\n",
       "      <td>306.5</td>\n",
       "      <td>92.8</td>\n",
       "      <td>242.1</td>\n",
       "      <td>178.7</td>\n",
       "      <td>186.2</td>\n",
       "      <td>267.9</td>\n",
       "    </tr>\n",
       "    <tr>\n",
       "      <th>Adur 001B</th>\n",
       "      <td>173.3</td>\n",
       "      <td>179.8</td>\n",
       "      <td>172.3</td>\n",
       "      <td>161.5</td>\n",
       "      <td>152.9</td>\n",
       "      <td>274.3</td>\n",
       "      <td>261.4</td>\n",
       "      <td>99.2</td>\n",
       "      <td>263.6</td>\n",
       "      <td>18.7</td>\n",
       "      <td>...</td>\n",
       "      <td>90.6</td>\n",
       "      <td>212.0</td>\n",
       "      <td>290.4</td>\n",
       "      <td>311.9</td>\n",
       "      <td>306.5</td>\n",
       "      <td>92.8</td>\n",
       "      <td>242.1</td>\n",
       "      <td>178.7</td>\n",
       "      <td>186.2</td>\n",
       "      <td>267.9</td>\n",
       "    </tr>\n",
       "    <tr>\n",
       "      <th>Adur 001C</th>\n",
       "      <td>173.3</td>\n",
       "      <td>180.9</td>\n",
       "      <td>172.3</td>\n",
       "      <td>150.8</td>\n",
       "      <td>151.9</td>\n",
       "      <td>274.3</td>\n",
       "      <td>261.4</td>\n",
       "      <td>98.2</td>\n",
       "      <td>263.6</td>\n",
       "      <td>17.6</td>\n",
       "      <td>...</td>\n",
       "      <td>90.6</td>\n",
       "      <td>210.9</td>\n",
       "      <td>289.3</td>\n",
       "      <td>311.9</td>\n",
       "      <td>307.6</td>\n",
       "      <td>93.9</td>\n",
       "      <td>243.2</td>\n",
       "      <td>178.7</td>\n",
       "      <td>187.3</td>\n",
       "      <td>268.9</td>\n",
       "    </tr>\n",
       "  </tbody>\n",
       "</table>\n",
       "<p>3 rows × 125 columns</p>\n",
       "</div>"
      ],
      "text/plain": [
       "           B152TH  B714HJ  B95SS  BA13NG  BA214AT  BB23HH  BD96RJ  BH77DW  \\\n",
       "LSOA                                                                        \n",
       "Adur 001A   173.3   179.8  171.2   161.5    152.9   274.3   261.4   100.3   \n",
       "Adur 001B   173.3   179.8  172.3   161.5    152.9   274.3   261.4    99.2   \n",
       "Adur 001C   173.3   180.9  172.3   150.8    151.9   274.3   261.4    98.2   \n",
       "\n",
       "           BL97TD  BN112DH  ...  TN240LZ  TQ27AA  TR13LQ  TS198PE  TS43BW  \\\n",
       "LSOA                        ...                                             \n",
       "Adur 001A   262.5     18.7  ...     89.6   212.0   291.5    310.8   306.5   \n",
       "Adur 001B   263.6     18.7  ...     90.6   212.0   290.4    311.9   306.5   \n",
       "Adur 001C   263.6     17.6  ...     90.6   210.9   289.3    311.9   307.6   \n",
       "\n",
       "           WD180HB  WF14DG  WR51DD  WV100QP  YO318HE  \n",
       "LSOA                                                  \n",
       "Adur 001A     92.8   242.1   178.7    186.2    267.9  \n",
       "Adur 001B     92.8   242.1   178.7    186.2    267.9  \n",
       "Adur 001C     93.9   243.2   178.7    187.3    268.9  \n",
       "\n",
       "[3 rows x 125 columns]"
      ]
     },
     "execution_count": 17,
     "metadata": {},
     "output_type": "execute_result"
    }
   ],
   "source": [
    "df_times.head(3)"
   ]
  },
  {
   "cell_type": "code",
   "execution_count": 18,
   "id": "0ac62a77-7ba5-4b58-974a-b963ccdefe9c",
   "metadata": {},
   "outputs": [],
   "source": [
    "dir_files = '../data_samuel2'\n",
    "file_excel = 'stroke_units_regions.csv'"
   ]
  },
  {
   "cell_type": "code",
   "execution_count": 19,
   "id": "b7a1b5b1-fcaa-4573-af81-0ea52bbc2dac",
   "metadata": {},
   "outputs": [],
   "source": [
    "df_unit_names = pd.read_csv(os.path.join(dir_files, file_excel))"
   ]
  },
  {
   "cell_type": "code",
   "execution_count": 20,
   "id": "46ee1ca5-9bfe-4242-ad98-4a98d51eec7f",
   "metadata": {},
   "outputs": [
    {
     "data": {
      "text/plain": [
       "Index(['postcode', 'stroke_team', 'short_code', 'ssnap_name', 'use_ivt',\n",
       "       'use_mt', 'use_msu', 'transfer_unit_postcode', 'lsoa', 'lsoa_code',\n",
       "       'region', 'region_code', 'region_type', 'country', 'icb', 'icb_code',\n",
       "       'isdn'],\n",
       "      dtype='object')"
      ]
     },
     "execution_count": 20,
     "metadata": {},
     "output_type": "execute_result"
    }
   ],
   "source": [
    "df_unit_names.columns"
   ]
  },
  {
   "cell_type": "code",
   "execution_count": 21,
   "id": "aa4f96fd-b1b0-492d-b852-69e0e83d7ee7",
   "metadata": {},
   "outputs": [
    {
     "data": {
      "text/html": [
       "<div>\n",
       "<style scoped>\n",
       "    .dataframe tbody tr th:only-of-type {\n",
       "        vertical-align: middle;\n",
       "    }\n",
       "\n",
       "    .dataframe tbody tr th {\n",
       "        vertical-align: top;\n",
       "    }\n",
       "\n",
       "    .dataframe thead th {\n",
       "        text-align: right;\n",
       "    }\n",
       "</style>\n",
       "<table border=\"1\" class=\"dataframe\">\n",
       "  <thead>\n",
       "    <tr style=\"text-align: right;\">\n",
       "      <th></th>\n",
       "      <th>postcode</th>\n",
       "      <th>stroke_team</th>\n",
       "      <th>short_code</th>\n",
       "      <th>ssnap_name</th>\n",
       "      <th>use_ivt</th>\n",
       "      <th>use_mt</th>\n",
       "      <th>use_msu</th>\n",
       "      <th>transfer_unit_postcode</th>\n",
       "      <th>lsoa</th>\n",
       "      <th>lsoa_code</th>\n",
       "      <th>region</th>\n",
       "      <th>region_code</th>\n",
       "      <th>region_type</th>\n",
       "      <th>country</th>\n",
       "      <th>icb</th>\n",
       "      <th>icb_code</th>\n",
       "      <th>isdn</th>\n",
       "    </tr>\n",
       "  </thead>\n",
       "  <tbody>\n",
       "    <tr>\n",
       "      <th>0</th>\n",
       "      <td>SY231ER</td>\n",
       "      <td>Bronglais Hospital (Aberystwyth)</td>\n",
       "      <td>AB</td>\n",
       "      <td>Bronglais Hospital</td>\n",
       "      <td>1</td>\n",
       "      <td>0</td>\n",
       "      <td>0</td>\n",
       "      <td>nearest</td>\n",
       "      <td>Ceredigion 002A</td>\n",
       "      <td>W01000512</td>\n",
       "      <td>Hywel Dda University Health Board</td>\n",
       "      <td>W11000025</td>\n",
       "      <td>LHB</td>\n",
       "      <td>Wales</td>\n",
       "      <td>NaN</td>\n",
       "      <td>NaN</td>\n",
       "      <td>NaN</td>\n",
       "    </tr>\n",
       "    <tr>\n",
       "      <th>1</th>\n",
       "      <td>CB20QQ</td>\n",
       "      <td>Addenbrooke's Hospital, Cambridge</td>\n",
       "      <td>AD</td>\n",
       "      <td>Addenbrooke's Hospital</td>\n",
       "      <td>1</td>\n",
       "      <td>1</td>\n",
       "      <td>1</td>\n",
       "      <td>nearest</td>\n",
       "      <td>Cambridge 013D</td>\n",
       "      <td>E01017995</td>\n",
       "      <td>NHS Cambridgeshire and Peterborough ICB - 06H</td>\n",
       "      <td>E38000260</td>\n",
       "      <td>SICBL</td>\n",
       "      <td>England</td>\n",
       "      <td>NHS Cambridgeshire and Peterborough Integrated...</td>\n",
       "      <td>E54000056</td>\n",
       "      <td>East of England (South)</td>\n",
       "    </tr>\n",
       "    <tr>\n",
       "      <th>2</th>\n",
       "      <td>L97AL</td>\n",
       "      <td>University Hospital Aintree, Liverpool</td>\n",
       "      <td>AI</td>\n",
       "      <td>University Hospital Aintree</td>\n",
       "      <td>1</td>\n",
       "      <td>1</td>\n",
       "      <td>1</td>\n",
       "      <td>nearest</td>\n",
       "      <td>Liverpool 005A</td>\n",
       "      <td>E01006654</td>\n",
       "      <td>NHS Cheshire and Merseyside ICB - 99A</td>\n",
       "      <td>E38000101</td>\n",
       "      <td>SICBL</td>\n",
       "      <td>England</td>\n",
       "      <td>NHS Cheshire and Merseyside Integrated Care Board</td>\n",
       "      <td>E54000008</td>\n",
       "      <td>Cheshire and Merseyside</td>\n",
       "    </tr>\n",
       "  </tbody>\n",
       "</table>\n",
       "</div>"
      ],
      "text/plain": [
       "  postcode                             stroke_team short_code  \\\n",
       "0  SY231ER        Bronglais Hospital (Aberystwyth)         AB   \n",
       "1   CB20QQ       Addenbrooke's Hospital, Cambridge         AD   \n",
       "2    L97AL  University Hospital Aintree, Liverpool         AI   \n",
       "\n",
       "                    ssnap_name  use_ivt  use_mt  use_msu  \\\n",
       "0           Bronglais Hospital        1       0        0   \n",
       "1       Addenbrooke's Hospital        1       1        1   \n",
       "2  University Hospital Aintree        1       1        1   \n",
       "\n",
       "  transfer_unit_postcode             lsoa  lsoa_code  \\\n",
       "0                nearest  Ceredigion 002A  W01000512   \n",
       "1                nearest   Cambridge 013D  E01017995   \n",
       "2                nearest   Liverpool 005A  E01006654   \n",
       "\n",
       "                                          region region_code region_type  \\\n",
       "0              Hywel Dda University Health Board   W11000025         LHB   \n",
       "1  NHS Cambridgeshire and Peterborough ICB - 06H   E38000260       SICBL   \n",
       "2          NHS Cheshire and Merseyside ICB - 99A   E38000101       SICBL   \n",
       "\n",
       "   country                                                icb   icb_code  \\\n",
       "0    Wales                                                NaN        NaN   \n",
       "1  England  NHS Cambridgeshire and Peterborough Integrated...  E54000056   \n",
       "2  England  NHS Cheshire and Merseyside Integrated Care Board  E54000008   \n",
       "\n",
       "                      isdn  \n",
       "0                      NaN  \n",
       "1  East of England (South)  \n",
       "2  Cheshire and Merseyside  "
      ]
     },
     "execution_count": 21,
     "metadata": {},
     "output_type": "execute_result"
    }
   ],
   "source": [
    "df_unit_names.head(3)"
   ]
  },
  {
   "cell_type": "markdown",
   "id": "61a0f4bb-b2cd-457d-8806-58a35256e4db",
   "metadata": {},
   "source": [
    "## Assign stroke units to LSOA\n",
    "\n",
    "Just pick the unit that's shortest in time."
   ]
  },
  {
   "cell_type": "code",
   "execution_count": 22,
   "id": "f296e99f-8584-40e2-81a2-65e009e395ce",
   "metadata": {},
   "outputs": [],
   "source": [
    "series_nearest = df_times.idxmin(axis='columns')\n",
    "series_nearest.name = 'nearest_unit'"
   ]
  },
  {
   "cell_type": "code",
   "execution_count": 23,
   "id": "3b4707fb-966c-4a7e-862a-435c020f2c8f",
   "metadata": {},
   "outputs": [],
   "source": [
    "# Add the nearest unit data into the admissions dataframe:\n",
    "df_admissions = pd.merge(df_admissions, series_nearest, left_on='area', right_index=True, how='left')"
   ]
  },
  {
   "cell_type": "code",
   "execution_count": 24,
   "id": "bf2baa2d-603c-4a9a-b933-1295f5f60e87",
   "metadata": {},
   "outputs": [
    {
     "name": "stderr",
     "output_type": "stream",
     "text": [
      "/tmp/ipykernel_11289/2905123536.py:2: FutureWarning: The default value of numeric_only in DataFrameGroupBy.sum is deprecated. In a future version, numeric_only will default to False. Either specify numeric_only or select only columns which should be valid for the function.\n",
      "  series_admissions = df_admissions.groupby('nearest_unit').sum()\n"
     ]
    }
   ],
   "source": [
    "# Groupby unit name and take the sum:\n",
    "series_admissions = df_admissions.groupby('nearest_unit').sum()"
   ]
  },
  {
   "cell_type": "code",
   "execution_count": 25,
   "id": "2d949d78-6e35-479d-88d3-aaa0f777174d",
   "metadata": {},
   "outputs": [
    {
     "data": {
      "text/html": [
       "<div>\n",
       "<style scoped>\n",
       "    .dataframe tbody tr th:only-of-type {\n",
       "        vertical-align: middle;\n",
       "    }\n",
       "\n",
       "    .dataframe tbody tr th {\n",
       "        vertical-align: top;\n",
       "    }\n",
       "\n",
       "    .dataframe thead th {\n",
       "        text-align: right;\n",
       "    }\n",
       "</style>\n",
       "<table border=\"1\" class=\"dataframe\">\n",
       "  <thead>\n",
       "    <tr style=\"text-align: right;\">\n",
       "      <th></th>\n",
       "      <th>admissions</th>\n",
       "    </tr>\n",
       "    <tr>\n",
       "      <th>nearest_unit</th>\n",
       "      <th></th>\n",
       "    </tr>\n",
       "  </thead>\n",
       "  <tbody>\n",
       "    <tr>\n",
       "      <th>B152TH</th>\n",
       "      <td>696.333333</td>\n",
       "    </tr>\n",
       "    <tr>\n",
       "      <th>B714HJ</th>\n",
       "      <td>873.666667</td>\n",
       "    </tr>\n",
       "    <tr>\n",
       "      <th>B95SS</th>\n",
       "      <td>1152.000000</td>\n",
       "    </tr>\n",
       "    <tr>\n",
       "      <th>BA13NG</th>\n",
       "      <td>638.666667</td>\n",
       "    </tr>\n",
       "    <tr>\n",
       "      <th>BA214AT</th>\n",
       "      <td>499.000000</td>\n",
       "    </tr>\n",
       "    <tr>\n",
       "      <th>...</th>\n",
       "      <td>...</td>\n",
       "    </tr>\n",
       "    <tr>\n",
       "      <th>WD180HB</th>\n",
       "      <td>761.666667</td>\n",
       "    </tr>\n",
       "    <tr>\n",
       "      <th>WF14DG</th>\n",
       "      <td>608.333333</td>\n",
       "    </tr>\n",
       "    <tr>\n",
       "      <th>WR51DD</th>\n",
       "      <td>584.333333</td>\n",
       "    </tr>\n",
       "    <tr>\n",
       "      <th>WV100QP</th>\n",
       "      <td>920.000000</td>\n",
       "    </tr>\n",
       "    <tr>\n",
       "      <th>YO318HE</th>\n",
       "      <td>900.000000</td>\n",
       "    </tr>\n",
       "  </tbody>\n",
       "</table>\n",
       "<p>125 rows × 1 columns</p>\n",
       "</div>"
      ],
      "text/plain": [
       "               admissions\n",
       "nearest_unit             \n",
       "B152TH         696.333333\n",
       "B714HJ         873.666667\n",
       "B95SS         1152.000000\n",
       "BA13NG         638.666667\n",
       "BA214AT        499.000000\n",
       "...                   ...\n",
       "WD180HB        761.666667\n",
       "WF14DG         608.333333\n",
       "WR51DD         584.333333\n",
       "WV100QP        920.000000\n",
       "YO318HE        900.000000\n",
       "\n",
       "[125 rows x 1 columns]"
      ]
     },
     "execution_count": 25,
     "metadata": {},
     "output_type": "execute_result"
    }
   ],
   "source": [
    "series_admissions"
   ]
  },
  {
   "cell_type": "code",
   "execution_count": 26,
   "id": "26a5a63e-51d4-4ef2-95e2-45c723b4b81b",
   "metadata": {},
   "outputs": [],
   "source": [
    "# Link postcodes to names\n",
    "df_units_admissions = pd.merge(df_unit_names[['postcode', 'ssnap_name']], series_admissions, left_on='postcode', right_index=True, how='right')"
   ]
  },
  {
   "cell_type": "code",
   "execution_count": 27,
   "id": "468578d9-9625-42ee-837b-aa63db210576",
   "metadata": {},
   "outputs": [
    {
     "data": {
      "text/html": [
       "<div>\n",
       "<style scoped>\n",
       "    .dataframe tbody tr th:only-of-type {\n",
       "        vertical-align: middle;\n",
       "    }\n",
       "\n",
       "    .dataframe tbody tr th {\n",
       "        vertical-align: top;\n",
       "    }\n",
       "\n",
       "    .dataframe thead th {\n",
       "        text-align: right;\n",
       "    }\n",
       "</style>\n",
       "<table border=\"1\" class=\"dataframe\">\n",
       "  <thead>\n",
       "    <tr style=\"text-align: right;\">\n",
       "      <th></th>\n",
       "      <th>postcode</th>\n",
       "      <th>ssnap_name</th>\n",
       "      <th>admissions</th>\n",
       "    </tr>\n",
       "  </thead>\n",
       "  <tbody>\n",
       "    <tr>\n",
       "      <th>91</th>\n",
       "      <td>B152TH</td>\n",
       "      <td>Queen Elizabeth Hospital Edgbaston</td>\n",
       "      <td>696.333333</td>\n",
       "    </tr>\n",
       "    <tr>\n",
       "      <th>117</th>\n",
       "      <td>B714HJ</td>\n",
       "      <td>Sandwell District Hospital</td>\n",
       "      <td>873.666667</td>\n",
       "    </tr>\n",
       "    <tr>\n",
       "      <th>10</th>\n",
       "      <td>B95SS</td>\n",
       "      <td>Birmingham Heartlands Hospital</td>\n",
       "      <td>1152.000000</td>\n",
       "    </tr>\n",
       "  </tbody>\n",
       "</table>\n",
       "</div>"
      ],
      "text/plain": [
       "    postcode                          ssnap_name   admissions\n",
       "91    B152TH  Queen Elizabeth Hospital Edgbaston   696.333333\n",
       "117   B714HJ          Sandwell District Hospital   873.666667\n",
       "10     B95SS      Birmingham Heartlands Hospital  1152.000000"
      ]
     },
     "execution_count": 27,
     "metadata": {},
     "output_type": "execute_result"
    }
   ],
   "source": [
    "df_units_admissions.head(3)"
   ]
  },
  {
   "cell_type": "code",
   "execution_count": 28,
   "id": "32394288-b154-4d41-ab6e-0e234129faef",
   "metadata": {},
   "outputs": [
    {
     "data": {
      "text/plain": [
       "125"
      ]
     },
     "execution_count": 28,
     "metadata": {},
     "output_type": "execute_result"
    }
   ],
   "source": [
    "len(df_units_admissions)"
   ]
  },
  {
   "cell_type": "markdown",
   "id": "83e32324-c999-4f28-903c-9f6303b2d4a7",
   "metadata": {},
   "source": [
    "### Remove Wales\n",
    "\n",
    "Because all admissions data are zero."
   ]
  },
  {
   "cell_type": "code",
   "execution_count": 29,
   "id": "2f34ffb1-3b8b-49be-b89c-98dc93068762",
   "metadata": {},
   "outputs": [],
   "source": [
    "df_units_admissions = df_units_admissions.loc[df_units_admissions['admissions'] != 0]"
   ]
  },
  {
   "cell_type": "code",
   "execution_count": 30,
   "id": "c465a50d-765a-4381-89ae-1136d38be31f",
   "metadata": {},
   "outputs": [
    {
     "data": {
      "text/plain": [
       "114"
      ]
     },
     "execution_count": 30,
     "metadata": {},
     "output_type": "execute_result"
    }
   ],
   "source": [
    "len(df_units_admissions)"
   ]
  },
  {
   "cell_type": "markdown",
   "id": "f154f300-095b-437b-a5b3-7ffd588c4769",
   "metadata": {},
   "source": [
    "### Merge in admissions"
   ]
  },
  {
   "cell_type": "code",
   "execution_count": 31,
   "id": "5fa1589e-7f07-4b7b-9074-eb66b9c16974",
   "metadata": {
    "scrolled": true
   },
   "outputs": [],
   "source": [
    "# Merge in admissions numbers to main dataframe:\n",
    "df = pd.merge(df, df_units_admissions, left_on='team_samuel', right_on='ssnap_name', how='left')"
   ]
  },
  {
   "cell_type": "code",
   "execution_count": 32,
   "id": "bf5ed44e-5d71-4f61-b5a9-92a525b87ec4",
   "metadata": {},
   "outputs": [
    {
     "data": {
      "text/plain": [
       "Index(['Hospital names', 'acute_unit', 'bed1', 'bed3', 'ki_total', 'ki1',\n",
       "       'ki1_nurses6_wte', 'ki1_nurses7_wte', 'ki2', 'ki2_psych_wte', 'ki3',\n",
       "       'ki3_strokenurse_outofhours', 'ki4',\n",
       "       'ki4_minimum_nurse_bed1_saturdays10am',\n",
       "       'ki4_minimum_nurse_bed1_sundays10am',\n",
       "       'ki4_minimum_nurse_bed3_saturdays10am',\n",
       "       'ki4_minimum_nurse_bed3_sundays10am', 'ki5',\n",
       "       'ki5_occupationaltherapy_7days', 'ki5_physiotherapy_7days',\n",
       "       'ki5_speechlanguagetherapy_7days', 'ki6', 'ki6_prealert_consultant',\n",
       "       'ki6_prealert_fastpositive_sometimes', 'ki6_prealert_fastpositive_yes',\n",
       "       'ki6_prealert_ivtcandidates_sometimes',\n",
       "       'ki6_prealert_ivtcandidates_yes', 'ki6_prealert_juniordoctor',\n",
       "       'ki6_prealert_othersuspectedstroke_sometimes',\n",
       "       'ki6_prealert_othersuspectedstroke_yes', 'ki6_prealert_strokenurse',\n",
       "       'ki7', 'ki7_percent_access_to_stroke_esd_team', 'ki7_stroke_esd_team',\n",
       "       'ki8', 'ki8_patientcarersurvey_frequency_1to2peryear',\n",
       "       'ki8_patientcarersurvey_frequency_3to4peryear',\n",
       "       'ki8_patientcarersurvey_frequency_everypatient',\n",
       "       'ki8_patientcarersurvey_frequency_less1peryear',\n",
       "       'ki8_patientcarersurvey_frequency_more4peryear',\n",
       "       'ki8_patientcarersurvey_frequency_never', 'ki9',\n",
       "       'ki9_tia_brainimaging_mostused_ct', 'ki9_tia_brainimaging_mostused_mri',\n",
       "       'ki9_tia_brainimaging_mostused_rare', 'ki9_tia_clinic',\n",
       "       'ki9_tia_outpatient_timescale_aftermonth',\n",
       "       'ki9_tia_outpatient_timescale_nextday',\n",
       "       'ki9_tia_outpatient_timescale_nextweekday',\n",
       "       'ki9_tia_outpatient_timescale_sameday',\n",
       "       'ki9_tia_outpatient_timescale_samedayexcludingweekends',\n",
       "       'ki9_tia_outpatient_timescale_withinmonth',\n",
       "       'ki9_tia_outpatient_timescale_withinweek', 'ki9_tia_outpatients_seen',\n",
       "       'ki10', 'ki10_management_chairmanofclinicalgovernance',\n",
       "       'ki10_management_executiveonboard',\n",
       "       'ki10_management_nonexecutiveonboard', 'team_samuel', 'stroke_team_id',\n",
       "       'shap_mean', 'Rank', 'postcode', 'ssnap_name', 'admissions'],\n",
       "      dtype='object')"
      ]
     },
     "execution_count": 32,
     "metadata": {},
     "output_type": "execute_result"
    }
   ],
   "source": [
    "df.columns"
   ]
  },
  {
   "cell_type": "markdown",
   "id": "0f314000-292b-4410-a825-f75281503229",
   "metadata": {},
   "source": [
    "## Stats"
   ]
  },
  {
   "cell_type": "markdown",
   "id": "ee031055-203d-4b63-8c5c-b0f24ab1c226",
   "metadata": {},
   "source": [
    "### Admissions distributions"
   ]
  },
  {
   "cell_type": "code",
   "execution_count": 33,
   "id": "4be33846-7ac1-4ea4-a6e8-7a679ac6e356",
   "metadata": {},
   "outputs": [],
   "source": [
    "admissions = df['admissions'].copy().dropna().values"
   ]
  },
  {
   "cell_type": "code",
   "execution_count": 34,
   "id": "1bfe686c-4da9-4a53-b705-ef36e17f1423",
   "metadata": {},
   "outputs": [
    {
     "data": {
      "image/png": "[encoded data removed]",
      "text/plain": [
       "<Figure size 640x480 with 1 Axes>"
      ]
     },
     "metadata": {},
     "output_type": "display_data"
    }
   ],
   "source": [
    "fig, ax = plt.subplots()\n",
    "\n",
    "ax.violinplot(admissions, positions=[0])\n",
    "\n",
    "ax.set_ylabel('Admissions')\n",
    "\n",
    "plt.show()"
   ]
  },
  {
   "cell_type": "markdown",
   "id": "503d07de-0923-4847-a9c9-42fc93a01beb",
   "metadata": {},
   "source": [
    "### Admissions vs SHAP vs Key Indicators"
   ]
  },
  {
   "cell_type": "code",
   "execution_count": 35,
   "id": "3946bf15-1653-4862-8ef4-ff2f5310f020",
   "metadata": {},
   "outputs": [],
   "source": [
    "x = df['ki_total'].values"
   ]
  },
  {
   "cell_type": "code",
   "execution_count": 36,
   "id": "19a6f126-e00d-4e78-8028-30ed184d7373",
   "metadata": {},
   "outputs": [],
   "source": [
    "y = df['shap_mean'].values"
   ]
  },
  {
   "cell_type": "code",
   "execution_count": 37,
   "id": "d4d6f5c6-9c1c-410d-867f-0bba673fd797",
   "metadata": {},
   "outputs": [],
   "source": [
    "c = df['admissions'].values"
   ]
  },
  {
   "cell_type": "code",
   "execution_count": 38,
   "id": "e04721fe-12f4-4968-9539-f54583811c76",
   "metadata": {},
   "outputs": [
    {
     "data": {
      "image/png": "[encoded data removed]",
      "text/plain": [
       "<Figure size 640x480 with 2 Axes>"
      ]
     },
     "metadata": {},
     "output_type": "display_data"
    }
   ],
   "source": [
    "fig, ax = plt.subplots()\n",
    "\n",
    "dog = ax.scatter(c, x, c=y, s=4)\n",
    "plt.colorbar(dog, label='SHAP value')\n",
    "\n",
    "ax.set_ylabel('Total key indicators')\n",
    "ax.set_xlabel('Admissions')\n",
    "\n",
    "plt.show()"
   ]
  },
  {
   "cell_type": "code",
   "execution_count": 39,
   "id": "121bba93-ebd4-4cc2-b431-e212b0fdd78f",
   "metadata": {},
   "outputs": [
    {
     "data": {
      "image/png": "[encoded data removed]",
      "text/plain": [
       "<Figure size 640x480 with 2 Axes>"
      ]
     },
     "metadata": {},
     "output_type": "display_data"
    }
   ],
   "source": [
    "fig, ax = plt.subplots()\n",
    "\n",
    "dog = ax.scatter(c, y, c=x, s=4)\n",
    "plt.colorbar(dog, label='Total key indicators')\n",
    "\n",
    "ax.set_ylabel('SHAP value')\n",
    "ax.set_xlabel('Admissions')\n",
    "\n",
    "plt.show()"
   ]
  },
  {
   "cell_type": "code",
   "execution_count": 40,
   "id": "08ce20b9-668a-402d-8a9a-cafb571e84ba",
   "metadata": {},
   "outputs": [
    {
     "data": {
      "image/png": "[encoded data removed]",
      "text/plain": [
       "<Figure size 640x480 with 2 Axes>"
      ]
     },
     "metadata": {},
     "output_type": "display_data"
    }
   ],
   "source": [
    "fig, ax = plt.subplots()\n",
    "\n",
    "dog = ax.scatter(x, y, c=c, s=4)\n",
    "plt.colorbar(dog, label='admissions')\n",
    "\n",
    "ax.set_xlabel('Total key indicators')\n",
    "ax.set_ylabel('SHAP value')\n",
    "\n",
    "plt.show()"
   ]
  },
  {
   "cell_type": "code",
   "execution_count": null,
   "id": "39f584a2-fe56-4dad-814a-57e3ef5e6084",
   "metadata": {},
   "outputs": [],
   "source": []
  }
 ],
 "metadata": {
  "kernelspec": {
   "display_name": "Python 3 (ipykernel)",
   "language": "python",
   "name": "python3"
  },
  "language_info": {
   "codemirror_mode": {
    "name": "ipython",
    "version": 3
   },
   "file_extension": ".py",
   "mimetype": "text/x-python",
   "name": "python",
   "nbconvert_exporter": "python",
   "pygments_lexer": "ipython3",
   "version": "3.9.16"
  }
 },
 "nbformat": 4,
 "nbformat_minor": 5
}
