{
 "cells": [
  {
   "cell_type": "markdown",
   "id": "aa2f7e0e-2e94-461f-ba72-5892dd616263",
   "metadata": {},
   "source": [
    "# SHAP prediction from Key Indicators using \"statsmodels\" package"
   ]
  },
  {
   "cell_type": "code",
   "execution_count": 14,
   "id": "e06f3c3e-79e2-40ac-be6b-94394d863d40",
   "metadata": {},
   "outputs": [],
   "source": [
    "import os\n",
    "import pandas as pd\n",
    "import numpy as np  # for NaN\n",
    "import statsmodels.api as sm"
   ]
  },
  {
   "cell_type": "code",
   "execution_count": 2,
   "id": "62b91dfa-7d82-4f7c-ba74-7307c68e1b88",
   "metadata": {},
   "outputs": [],
   "source": [
    "from scipy.stats import pearsonr"
   ]
  },
  {
   "cell_type": "code",
   "execution_count": 3,
   "id": "baeed499-92e6-4a55-a541-7697e6a7c740",
   "metadata": {},
   "outputs": [],
   "source": [
    "import matplotlib.pyplot as plt"
   ]
  },
  {
   "cell_type": "code",
   "execution_count": 4,
   "id": "2a7cdec0-f793-418f-b9c9-edf92f50b873",
   "metadata": {},
   "outputs": [],
   "source": [
    "from sklearn.linear_model import LinearRegression"
   ]
  },
  {
   "cell_type": "code",
   "execution_count": 5,
   "id": "36186919-9d01-4d3a-b0cf-c034bd90d8ee",
   "metadata": {},
   "outputs": [],
   "source": [
    "from sklearn.linear_model import LogisticRegression\n",
    "from scipy.special import expit"
   ]
  },
  {
   "cell_type": "markdown",
   "id": "c503f1c4-3123-4209-b492-cad197cf436e",
   "metadata": {},
   "source": [
    "### Import data"
   ]
  },
  {
   "cell_type": "code",
   "execution_count": 6,
   "id": "43a0f352-7119-43e5-ba4b-9ab164ef2f8a",
   "metadata": {},
   "outputs": [],
   "source": [
    "dir_files = '../data/organisational_audit/processed'\n",
    "file_excel = 'processed_2019_portfolio_key_indicators_summary_numeric_shap.csv'"
   ]
  },
  {
   "cell_type": "code",
   "execution_count": 7,
   "id": "ffe46a7b-b14f-42d4-85db-b37fc334546e",
   "metadata": {},
   "outputs": [],
   "source": [
    "df = pd.read_csv(os.path.join(dir_files, file_excel))"
   ]
  },
  {
   "cell_type": "code",
   "execution_count": 8,
   "id": "8d3ac5c7-4cd9-4fe9-b820-de7ec69851ee",
   "metadata": {},
   "outputs": [
    {
     "data": {
      "text/plain": [
       "Index(['Hospital names', 'acute_unit', 'bed1', 'bed3', 'ki_total', 'ki1',\n",
       "       'ki1_nurses6_wte', 'ki1_nurses7_wte', 'ki2', 'ki2_psych_wte', 'ki3',\n",
       "       'ki3_strokenurse_outofhours', 'ki4',\n",
       "       'ki4_minimum_nurse_bed1_saturdays10am',\n",
       "       'ki4_minimum_nurse_bed1_sundays10am',\n",
       "       'ki4_minimum_nurse_bed3_saturdays10am',\n",
       "       'ki4_minimum_nurse_bed3_sundays10am', 'ki5',\n",
       "       'ki5_occupationaltherapy_7days', 'ki5_physiotherapy_7days',\n",
       "       'ki5_speechlanguagetherapy_7days', 'ki6', 'ki6_prealert_consultant',\n",
       "       'ki6_prealert_fastpositive_sometimes', 'ki6_prealert_fastpositive_yes',\n",
       "       'ki6_prealert_ivtcandidates_sometimes',\n",
       "       'ki6_prealert_ivtcandidates_yes', 'ki6_prealert_juniordoctor',\n",
       "       'ki6_prealert_othersuspectedstroke_sometimes',\n",
       "       'ki6_prealert_othersuspectedstroke_yes', 'ki6_prealert_strokenurse',\n",
       "       'ki7', 'ki7_percent_access_to_stroke_esd_team', 'ki7_stroke_esd_team',\n",
       "       'ki8', 'ki8_patientcarersurvey_frequency_1to2peryear',\n",
       "       'ki8_patientcarersurvey_frequency_3to4peryear',\n",
       "       'ki8_patientcarersurvey_frequency_everypatient',\n",
       "       'ki8_patientcarersurvey_frequency_less1peryear',\n",
       "       'ki8_patientcarersurvey_frequency_more4peryear',\n",
       "       'ki8_patientcarersurvey_frequency_never', 'ki9',\n",
       "       'ki9_tia_brainimaging_mostused_ct', 'ki9_tia_brainimaging_mostused_mri',\n",
       "       'ki9_tia_brainimaging_mostused_rare', 'ki9_tia_clinic',\n",
       "       'ki9_tia_outpatient_timescale_aftermonth',\n",
       "       'ki9_tia_outpatient_timescale_nextday',\n",
       "       'ki9_tia_outpatient_timescale_nextweekday',\n",
       "       'ki9_tia_outpatient_timescale_sameday',\n",
       "       'ki9_tia_outpatient_timescale_samedayexcludingweekends',\n",
       "       'ki9_tia_outpatient_timescale_withinmonth',\n",
       "       'ki9_tia_outpatient_timescale_withinweek', 'ki9_tia_outpatients_seen',\n",
       "       'ki10', 'ki10_management_chairmanofclinicalgovernance',\n",
       "       'ki10_management_executiveonboard',\n",
       "       'ki10_management_nonexecutiveonboard', 'team_samuel', 'stroke_team_id',\n",
       "       'shap_mean', 'Rank'],\n",
       "      dtype='object')"
      ]
     },
     "execution_count": 8,
     "metadata": {},
     "output_type": "execute_result"
    }
   ],
   "source": [
    "df.columns"
   ]
  },
  {
   "cell_type": "markdown",
   "id": "bbb7cfd8-4e10-4f39-9a63-e94e9bfefcd4",
   "metadata": {},
   "source": [
    "## Correlation"
   ]
  },
  {
   "cell_type": "markdown",
   "id": "62596f82-0fb5-4201-af98-2f398302b636",
   "metadata": {},
   "source": [
    "## Linear regression"
   ]
  },
  {
   "cell_type": "code",
   "execution_count": 18,
   "id": "097661eb-4d87-4e9a-8931-246aa7c88387",
   "metadata": {},
   "outputs": [],
   "source": [
    "x = df['ki_total'].values"
   ]
  },
  {
   "cell_type": "code",
   "execution_count": 19,
   "id": "f000a348-58cf-4aae-9123-a917a0a62d77",
   "metadata": {},
   "outputs": [],
   "source": [
    "y = df['shap_mean'].values"
   ]
  },
  {
   "cell_type": "code",
   "execution_count": 20,
   "id": "33e5b287-88af-48bd-b871-6f5feebd2747",
   "metadata": {},
   "outputs": [
    {
     "name": "stdout",
     "output_type": "stream",
     "text": [
      "                                 OLS Regression Results                                \n",
      "=======================================================================================\n",
      "Dep. Variable:                      y   R-squared (uncentered):                   0.004\n",
      "Model:                            OLS   Adj. R-squared (uncentered):             -0.005\n",
      "Method:                 Least Squares   F-statistic:                             0.4325\n",
      "Date:                Mon, 22 Apr 2024   Prob (F-statistic):                       0.512\n",
      "Time:                        09:00:09   Log-Likelihood:                         -78.105\n",
      "No. Observations:                 116   AIC:                                      158.2\n",
      "Df Residuals:                     115   BIC:                                      161.0\n",
      "Df Model:                           1                                                  \n",
      "Covariance Type:            nonrobust                                                  \n",
      "==============================================================================\n",
      "                 coef    std err          t      P>|t|      [0.025      0.975]\n",
      "------------------------------------------------------------------------------\n",
      "x1             0.0056      0.009      0.658      0.512      -0.011       0.023\n",
      "==============================================================================\n",
      "Omnibus:                        1.482   Durbin-Watson:                   1.282\n",
      "Prob(Omnibus):                  0.477   Jarque-Bera (JB):                1.466\n",
      "Skew:                           0.265   Prob(JB):                        0.480\n",
      "Kurtosis:                       2.853   Cond. No.                         1.00\n",
      "==============================================================================\n",
      "\n",
      "Notes:\n",
      "[1] R² is computed without centering (uncentered) since the model does not contain a constant.\n",
      "[2] Standard Errors assume that the covariance matrix of the errors is correctly specified.\n"
     ]
    }
   ],
   "source": [
    "model = sm.OLS(y, x)\n",
    "results = model.fit()\n",
    "print(results.summary())"
   ]
  },
  {
   "cell_type": "code",
   "execution_count": 21,
   "id": "37a67962-dce4-41d5-b55d-bd2deb1c3195",
   "metadata": {},
   "outputs": [
    {
     "data": {
      "text/plain": [
       "['HC0_se',\n",
       " 'HC1_se',\n",
       " 'HC2_se',\n",
       " 'HC3_se',\n",
       " '_HCCM',\n",
       " '__class__',\n",
       " '__delattr__',\n",
       " '__dict__',\n",
       " '__dir__',\n",
       " '__doc__',\n",
       " '__eq__',\n",
       " '__format__',\n",
       " '__ge__',\n",
       " '__getattribute__',\n",
       " '__gt__',\n",
       " '__hash__',\n",
       " '__init__',\n",
       " '__init_subclass__',\n",
       " '__le__',\n",
       " '__lt__',\n",
       " '__module__',\n",
       " '__ne__',\n",
       " '__new__',\n",
       " '__reduce__',\n",
       " '__reduce_ex__',\n",
       " '__repr__',\n",
       " '__setattr__',\n",
       " '__sizeof__',\n",
       " '__str__',\n",
       " '__subclasshook__',\n",
       " '__weakref__',\n",
       " '_abat_diagonal',\n",
       " '_cache',\n",
       " '_data_attr',\n",
       " '_data_in_cache',\n",
       " '_get_robustcov_results',\n",
       " '_get_wald_nonlinear',\n",
       " '_is_nested',\n",
       " '_transform_predict_exog',\n",
       " '_use_t',\n",
       " '_wexog_singular_values',\n",
       " 'aic',\n",
       " 'bic',\n",
       " 'bse',\n",
       " 'centered_tss',\n",
       " 'compare_f_test',\n",
       " 'compare_lm_test',\n",
       " 'compare_lr_test',\n",
       " 'condition_number',\n",
       " 'conf_int',\n",
       " 'conf_int_el',\n",
       " 'cov_HC0',\n",
       " 'cov_HC1',\n",
       " 'cov_HC2',\n",
       " 'cov_HC3',\n",
       " 'cov_kwds',\n",
       " 'cov_params',\n",
       " 'cov_type',\n",
       " 'df_model',\n",
       " 'df_resid',\n",
       " 'diagn',\n",
       " 'eigenvals',\n",
       " 'el_test',\n",
       " 'ess',\n",
       " 'f_pvalue',\n",
       " 'f_test',\n",
       " 'fittedvalues',\n",
       " 'fvalue',\n",
       " 'get_influence',\n",
       " 'get_prediction',\n",
       " 'get_robustcov_results',\n",
       " 'info_criteria',\n",
       " 'initialize',\n",
       " 'k_constant',\n",
       " 'llf',\n",
       " 'load',\n",
       " 'model',\n",
       " 'mse_model',\n",
       " 'mse_resid',\n",
       " 'mse_total',\n",
       " 'nobs',\n",
       " 'normalized_cov_params',\n",
       " 'outlier_test',\n",
       " 'params',\n",
       " 'predict',\n",
       " 'pvalues',\n",
       " 'remove_data',\n",
       " 'resid',\n",
       " 'resid_pearson',\n",
       " 'rsquared',\n",
       " 'rsquared_adj',\n",
       " 'save',\n",
       " 'scale',\n",
       " 'ssr',\n",
       " 'summary',\n",
       " 'summary2',\n",
       " 't_test',\n",
       " 't_test_pairwise',\n",
       " 'tvalues',\n",
       " 'uncentered_tss',\n",
       " 'use_t',\n",
       " 'wald_test',\n",
       " 'wald_test_terms',\n",
       " 'wresid']"
      ]
     },
     "execution_count": 21,
     "metadata": {},
     "output_type": "execute_result"
    }
   ],
   "source": [
    "dir(results)"
   ]
  },
  {
   "cell_type": "code",
   "execution_count": 22,
   "id": "185b2030-c8cb-4417-8724-2bee22275404",
   "metadata": {},
   "outputs": [
    {
     "name": "stdout",
     "output_type": "stream",
     "text": [
      "Parameters:  [0.00561101]\n",
      "R2:  0.0037466703341928476\n"
     ]
    }
   ],
   "source": [
    "print(\"Parameters: \", results.params)\n",
    "print(\"R2: \", results.rsquared)"
   ]
  },
  {
   "cell_type": "code",
   "execution_count": 27,
   "id": "c4892f4d-4122-442c-a714-739eae637554",
   "metadata": {},
   "outputs": [
    {
     "data": {
      "image/png": "[encoded data removed]",
      "text/plain": [
       "<Figure size 640x480 with 1 Axes>"
      ]
     },
     "metadata": {},
     "output_type": "display_data"
    }
   ],
   "source": [
    "fig, ax = plt.subplots()\n",
    "\n",
    "ax.scatter(x, y, s=4, alpha=0.5)\n",
    "ax.plot(x, results.fittedvalues, \"r--.\", label=\"OLS\")\n",
    "\n",
    "ax.set_xlabel('Total key indicators')\n",
    "ax.set_ylabel('SHAP value')\n",
    "\n",
    "plt.show()"
   ]
  },
  {
   "cell_type": "code",
   "execution_count": null,
   "id": "8e17b3d4-f000-4072-9f7e-84f37c92760c",
   "metadata": {},
   "outputs": [],
   "source": []
  }
 ],
 "metadata": {
  "kernelspec": {
   "display_name": "Python 3 (ipykernel)",
   "language": "python",
   "name": "python3"
  },
  "language_info": {
   "codemirror_mode": {
    "name": "ipython",
    "version": 3
   },
   "file_extension": ".py",
   "mimetype": "text/x-python",
   "name": "python",
   "nbconvert_exporter": "python",
   "pygments_lexer": "ipython3",
   "version": "3.9.16"
  }
 },
 "nbformat": 4,
 "nbformat_minor": 5
}
